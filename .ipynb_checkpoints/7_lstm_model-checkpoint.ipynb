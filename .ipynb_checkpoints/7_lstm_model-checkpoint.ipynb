{
 "cells": [
  {
   "cell_type": "markdown",
   "metadata": {
    "id": "eztdNRTDvk_n"
   },
   "source": [
    "## Imports"
   ]
  },
  {
   "cell_type": "code",
   "execution_count": 1,
   "metadata": {
    "id": "UQcatIbyEorJ"
   },
   "outputs": [],
   "source": [
    "# import libraries\n",
    "import numpy as np\n",
    "import pandas as pd\n",
    "import matplotlib.pyplot as plt\n",
    "import sklearn\n",
    "import tensorflow as tf\n",
    "%matplotlib inline"
   ]
  },
  {
   "cell_type": "code",
   "execution_count": 2,
   "metadata": {},
   "outputs": [
    {
     "name": "stdout",
     "output_type": "stream",
     "text": [
      "Numpy: 1.19.5\n",
      "Pandas: 1.1.5\n",
      "Tensorflow: 2.4.1\n",
      "Science Kit Learn: 0.24.1\n"
     ]
    }
   ],
   "source": [
    "# print versions of modules\n",
    "print(\"Numpy: \" + np.__version__)\n",
    "print(\"Pandas: \" + pd.__version__)\n",
    "print(\"Tensorflow: \" + tf.__version__)\n",
    "print(\"Science Kit Learn: \" + sklearn.__version__)"
   ]
  },
  {
   "cell_type": "code",
   "execution_count": 3,
   "metadata": {
    "id": "gMa_b4s9E_fb"
   },
   "outputs": [],
   "source": [
    "# import additional modules\n",
    "from statistics import mean\n",
    "from math import sqrt\n",
    "from sklearn.preprocessing import MinMaxScaler\n",
    "from tensorflow.keras.layers import concatenate\n",
    "from tensorflow.keras.models import Sequential\n",
    "from tensorflow.keras.layers import Dense, LSTM\n",
    "from tensorflow.keras.optimizers import Adam\n",
    "from tensorflow.keras.regularizers import l2"
   ]
  },
  {
   "cell_type": "markdown",
   "metadata": {},
   "source": [
    "## Area of study"
   ]
  },
  {
   "cell_type": "markdown",
   "metadata": {},
   "source": [
    "The Ansongo-Niamey basin is a catchment located in the middle region of the Niger basin between the cities of Ansongo (Mali) and Niamey (Niger). This basin was chosen as study area because it would be challenging to collect data in the upstream of the Niger basin: the upper Niger basin. Regarding that, Ansongo being the downstream of the upper delta was considered as the upstream of our study area and Niamey the outlet of the basin."
   ]
  },
  {
   "cell_type": "markdown",
   "metadata": {},
   "source": [
    "![Ansongo-Niamey map](./images/map_study_area.png)"
   ]
  },
  {
   "cell_type": "markdown",
   "metadata": {},
   "source": [
    "The Ansongo-Niger basin runoff regime is affected by different types of reoccurring floods, which result from the geographic locations and characteristics of their main source areas. \n",
    "\n",
    "The first one is the **Guinean Flood**, which originates from the headwaters of the Niger in the Guinean highlands during the rainy season between July and November. The flood originating in the Guinean highlands experiences its peak usually around October. From here, the Niger flows into a vast wetland that covers an area and delays there for approximately three months. This upper flood arrives in the Ansongo around January, although rainfall in the Sahelian region falls at\n",
    "the same time as in the Guinean highlands. \n",
    "\n",
    "The second one is the annual peak during the rainy season (July to November) in the Ansongo-Niamey basin called the **“Red Flood”** or “Sahelian Flood”.\n",
    "\n",
    "Figure below illustrates well the basin’s runoff regime by distinguishing red flood from the Guinean flood."
   ]
  },
  {
   "cell_type": "markdown",
   "metadata": {},
   "source": [
    "![Hydrographs of Ansongo, Kandadji and Niamey for June 1991 to Mai 1992](./images/q_day_1991_1993_sub.png)"
   ]
  },
  {
   "cell_type": "markdown",
   "metadata": {
    "id": "SWug2WWiv1DF"
   },
   "source": [
    "## Data"
   ]
  },
  {
   "cell_type": "code",
   "execution_count": 4,
   "metadata": {
    "id": "wUfHY79iFQBB"
   },
   "outputs": [
    {
     "data": {
      "text/html": [
       "<div>\n",
       "<style scoped>\n",
       "    .dataframe tbody tr th:only-of-type {\n",
       "        vertical-align: middle;\n",
       "    }\n",
       "\n",
       "    .dataframe tbody tr th {\n",
       "        vertical-align: top;\n",
       "    }\n",
       "\n",
       "    .dataframe thead th {\n",
       "        text-align: right;\n",
       "    }\n",
       "</style>\n",
       "<table border=\"1\" class=\"dataframe\">\n",
       "  <thead>\n",
       "    <tr style=\"text-align: right;\">\n",
       "      <th></th>\n",
       "      <th>Date</th>\n",
       "      <th>pr</th>\n",
       "      <th>tmax</th>\n",
       "      <th>tmin</th>\n",
       "      <th>Ansongo</th>\n",
       "      <th>Kandadji</th>\n",
       "      <th>Niamey</th>\n",
       "    </tr>\n",
       "  </thead>\n",
       "  <tbody>\n",
       "    <tr>\n",
       "      <th>0</th>\n",
       "      <td>1981-06-01</td>\n",
       "      <td>0.525346</td>\n",
       "      <td>38.824417</td>\n",
       "      <td>27.352827</td>\n",
       "      <td>14.0</td>\n",
       "      <td>20.400000</td>\n",
       "      <td>5.03</td>\n",
       "    </tr>\n",
       "    <tr>\n",
       "      <th>1</th>\n",
       "      <td>1981-06-02</td>\n",
       "      <td>0.732719</td>\n",
       "      <td>39.789036</td>\n",
       "      <td>27.593908</td>\n",
       "      <td>13.0</td>\n",
       "      <td>17.000000</td>\n",
       "      <td>4.61</td>\n",
       "    </tr>\n",
       "    <tr>\n",
       "      <th>2</th>\n",
       "      <td>1981-06-03</td>\n",
       "      <td>0.341014</td>\n",
       "      <td>39.171715</td>\n",
       "      <td>26.769451</td>\n",
       "      <td>13.0</td>\n",
       "      <td>14.600000</td>\n",
       "      <td>4.14</td>\n",
       "    </tr>\n",
       "    <tr>\n",
       "      <th>3</th>\n",
       "      <td>1981-06-04</td>\n",
       "      <td>1.986175</td>\n",
       "      <td>39.452515</td>\n",
       "      <td>28.201244</td>\n",
       "      <td>13.0</td>\n",
       "      <td>14.100000</td>\n",
       "      <td>3.68</td>\n",
       "    </tr>\n",
       "    <tr>\n",
       "      <th>4</th>\n",
       "      <td>1981-06-05</td>\n",
       "      <td>0.271889</td>\n",
       "      <td>39.426506</td>\n",
       "      <td>26.821142</td>\n",
       "      <td>13.0</td>\n",
       "      <td>12.900000</td>\n",
       "      <td>2.99</td>\n",
       "    </tr>\n",
       "    <tr>\n",
       "      <th>...</th>\n",
       "      <td>...</td>\n",
       "      <td>...</td>\n",
       "      <td>...</td>\n",
       "      <td>...</td>\n",
       "      <td>...</td>\n",
       "      <td>...</td>\n",
       "      <td>...</td>\n",
       "    </tr>\n",
       "    <tr>\n",
       "      <th>10801</th>\n",
       "      <td>2010-12-27</td>\n",
       "      <td>0.000000</td>\n",
       "      <td>33.876694</td>\n",
       "      <td>19.051850</td>\n",
       "      <td>1751.0</td>\n",
       "      <td>1841.915039</td>\n",
       "      <td>1669.00</td>\n",
       "    </tr>\n",
       "    <tr>\n",
       "      <th>10802</th>\n",
       "      <td>2010-12-28</td>\n",
       "      <td>0.000000</td>\n",
       "      <td>33.088223</td>\n",
       "      <td>18.405252</td>\n",
       "      <td>1753.0</td>\n",
       "      <td>1851.276978</td>\n",
       "      <td>1677.00</td>\n",
       "    </tr>\n",
       "    <tr>\n",
       "      <th>10803</th>\n",
       "      <td>2010-12-29</td>\n",
       "      <td>0.000000</td>\n",
       "      <td>30.650715</td>\n",
       "      <td>17.136805</td>\n",
       "      <td>1752.0</td>\n",
       "      <td>1851.276978</td>\n",
       "      <td>1684.00</td>\n",
       "    </tr>\n",
       "    <tr>\n",
       "      <th>10804</th>\n",
       "      <td>2010-12-30</td>\n",
       "      <td>0.000000</td>\n",
       "      <td>29.456808</td>\n",
       "      <td>16.068770</td>\n",
       "      <td>1749.0</td>\n",
       "      <td>1851.276978</td>\n",
       "      <td>1684.00</td>\n",
       "    </tr>\n",
       "    <tr>\n",
       "      <th>10805</th>\n",
       "      <td>2010-12-31</td>\n",
       "      <td>0.000000</td>\n",
       "      <td>29.198921</td>\n",
       "      <td>16.231855</td>\n",
       "      <td>1743.0</td>\n",
       "      <td>1860.637939</td>\n",
       "      <td>1684.00</td>\n",
       "    </tr>\n",
       "  </tbody>\n",
       "</table>\n",
       "<p>10806 rows × 7 columns</p>\n",
       "</div>"
      ],
      "text/plain": [
       "             Date        pr       tmax       tmin  Ansongo     Kandadji  \\\n",
       "0      1981-06-01  0.525346  38.824417  27.352827     14.0    20.400000   \n",
       "1      1981-06-02  0.732719  39.789036  27.593908     13.0    17.000000   \n",
       "2      1981-06-03  0.341014  39.171715  26.769451     13.0    14.600000   \n",
       "3      1981-06-04  1.986175  39.452515  28.201244     13.0    14.100000   \n",
       "4      1981-06-05  0.271889  39.426506  26.821142     13.0    12.900000   \n",
       "...           ...       ...        ...        ...      ...          ...   \n",
       "10801  2010-12-27  0.000000  33.876694  19.051850   1751.0  1841.915039   \n",
       "10802  2010-12-28  0.000000  33.088223  18.405252   1753.0  1851.276978   \n",
       "10803  2010-12-29  0.000000  30.650715  17.136805   1752.0  1851.276978   \n",
       "10804  2010-12-30  0.000000  29.456808  16.068770   1749.0  1851.276978   \n",
       "10805  2010-12-31  0.000000  29.198921  16.231855   1743.0  1860.637939   \n",
       "\n",
       "        Niamey  \n",
       "0         5.03  \n",
       "1         4.61  \n",
       "2         4.14  \n",
       "3         3.68  \n",
       "4         2.99  \n",
       "...        ...  \n",
       "10801  1669.00  \n",
       "10802  1677.00  \n",
       "10803  1684.00  \n",
       "10804  1684.00  \n",
       "10805  1684.00  \n",
       "\n",
       "[10806 rows x 7 columns]"
      ]
     },
     "execution_count": 4,
     "metadata": {},
     "output_type": "execute_result"
    }
   ],
   "source": [
    "# load data\n",
    "df = pd.read_csv('./model_data/model_data_interpolated.csv')\n",
    "df"
   ]
  },
  {
   "cell_type": "code",
   "execution_count": 5,
   "metadata": {
    "id": "mGCklzx5FQDz"
   },
   "outputs": [],
   "source": [
    "# drop time column\n",
    "date_time = pd.to_datetime(df.pop('Date'), format='%Y-%m-%d') #or infer_datetime_format=True"
   ]
  },
  {
   "cell_type": "code",
   "execution_count": 6,
   "metadata": {},
   "outputs": [
    {
     "data": {
      "text/plain": [
       "array([<AxesSubplot:xlabel='Date'>, <AxesSubplot:xlabel='Date'>,\n",
       "       <AxesSubplot:xlabel='Date'>, <AxesSubplot:xlabel='Date'>,\n",
       "       <AxesSubplot:xlabel='Date'>, <AxesSubplot:xlabel='Date'>],\n",
       "      dtype=object)"
      ]
     },
     "execution_count": 6,
     "metadata": {},
     "output_type": "execute_result"
    },
    {
     "data": {
      "image/png": "[encoded data removed]",
      "text/plain": [
       "<Figure size 432x288 with 6 Axes>"
      ]
     },
     "metadata": {
      "needs_background": "light"
     },
     "output_type": "display_data"
    }
   ],
   "source": [
    "# view dataset\n",
    "df.set_index(date_time)[['pr', 'tmax', 'tmin', 'Ansongo', 'Kandadji', 'Niamey']].plot(subplots=True)"
   ]
  },
  {
   "cell_type": "code",
   "execution_count": 7,
   "metadata": {},
   "outputs": [
    {
     "data": {
      "text/html": [
       "<div>\n",
       "<style scoped>\n",
       "    .dataframe tbody tr th:only-of-type {\n",
       "        vertical-align: middle;\n",
       "    }\n",
       "\n",
       "    .dataframe tbody tr th {\n",
       "        vertical-align: top;\n",
       "    }\n",
       "\n",
       "    .dataframe thead th {\n",
       "        text-align: right;\n",
       "    }\n",
       "</style>\n",
       "<table border=\"1\" class=\"dataframe\">\n",
       "  <thead>\n",
       "    <tr style=\"text-align: right;\">\n",
       "      <th></th>\n",
       "      <th>count</th>\n",
       "      <th>mean</th>\n",
       "      <th>std</th>\n",
       "      <th>min</th>\n",
       "      <th>25%</th>\n",
       "      <th>50%</th>\n",
       "      <th>75%</th>\n",
       "      <th>max</th>\n",
       "    </tr>\n",
       "  </thead>\n",
       "  <tbody>\n",
       "    <tr>\n",
       "      <th>pr</th>\n",
       "      <td>10806.0</td>\n",
       "      <td>1.375334</td>\n",
       "      <td>2.311514</td>\n",
       "      <td>0.000000e+00</td>\n",
       "      <td>0.000000</td>\n",
       "      <td>0.414747</td>\n",
       "      <td>1.824885</td>\n",
       "      <td>24.069124</td>\n",
       "    </tr>\n",
       "    <tr>\n",
       "      <th>tmax</th>\n",
       "      <td>10806.0</td>\n",
       "      <td>35.124774</td>\n",
       "      <td>3.299601</td>\n",
       "      <td>2.389276e+01</td>\n",
       "      <td>32.604908</td>\n",
       "      <td>35.198283</td>\n",
       "      <td>37.532277</td>\n",
       "      <td>43.912750</td>\n",
       "    </tr>\n",
       "    <tr>\n",
       "      <th>tmin</th>\n",
       "      <td>10806.0</td>\n",
       "      <td>22.947793</td>\n",
       "      <td>3.614374</td>\n",
       "      <td>1.133926e+01</td>\n",
       "      <td>20.857830</td>\n",
       "      <td>23.514691</td>\n",
       "      <td>25.549257</td>\n",
       "      <td>32.082210</td>\n",
       "    </tr>\n",
       "    <tr>\n",
       "      <th>Ansongo</th>\n",
       "      <td>10806.0</td>\n",
       "      <td>685.853843</td>\n",
       "      <td>599.710296</td>\n",
       "      <td>5.530694e-07</td>\n",
       "      <td>99.000000</td>\n",
       "      <td>538.000000</td>\n",
       "      <td>1240.750000</td>\n",
       "      <td>1904.000000</td>\n",
       "    </tr>\n",
       "    <tr>\n",
       "      <th>Kandadji</th>\n",
       "      <td>10806.0</td>\n",
       "      <td>695.545463</td>\n",
       "      <td>607.054939</td>\n",
       "      <td>1.120000e+00</td>\n",
       "      <td>104.000000</td>\n",
       "      <td>542.094513</td>\n",
       "      <td>1260.000000</td>\n",
       "      <td>2090.000000</td>\n",
       "    </tr>\n",
       "    <tr>\n",
       "      <th>Niamey</th>\n",
       "      <td>10806.0</td>\n",
       "      <td>705.412916</td>\n",
       "      <td>565.640158</td>\n",
       "      <td>0.000000e+00</td>\n",
       "      <td>116.000000</td>\n",
       "      <td>688.500000</td>\n",
       "      <td>1209.000000</td>\n",
       "      <td>1993.000000</td>\n",
       "    </tr>\n",
       "  </tbody>\n",
       "</table>\n",
       "</div>"
      ],
      "text/plain": [
       "            count        mean         std           min         25%  \\\n",
       "pr        10806.0    1.375334    2.311514  0.000000e+00    0.000000   \n",
       "tmax      10806.0   35.124774    3.299601  2.389276e+01   32.604908   \n",
       "tmin      10806.0   22.947793    3.614374  1.133926e+01   20.857830   \n",
       "Ansongo   10806.0  685.853843  599.710296  5.530694e-07   99.000000   \n",
       "Kandadji  10806.0  695.545463  607.054939  1.120000e+00  104.000000   \n",
       "Niamey    10806.0  705.412916  565.640158  0.000000e+00  116.000000   \n",
       "\n",
       "                 50%          75%          max  \n",
       "pr          0.414747     1.824885    24.069124  \n",
       "tmax       35.198283    37.532277    43.912750  \n",
       "tmin       23.514691    25.549257    32.082210  \n",
       "Ansongo   538.000000  1240.750000  1904.000000  \n",
       "Kandadji  542.094513  1260.000000  2090.000000  \n",
       "Niamey    688.500000  1209.000000  1993.000000  "
      ]
     },
     "execution_count": 7,
     "metadata": {},
     "output_type": "execute_result"
    }
   ],
   "source": [
    "# inspection\n",
    "df.describe().transpose()"
   ]
  },
  {
   "cell_type": "markdown",
   "metadata": {},
   "source": [
    "## Normalization"
   ]
  },
  {
   "cell_type": "markdown",
   "metadata": {},
   "source": [
    "The first operation is to normalize the features of the dataset. When a network is fit on unscaled data that has a range of values large inputs can slow down the learning and convergence of your network and in some cases prevent the network from effectively learning your problem. To solve this issue, it is highly recommended to normalize the dataset. Normalization is a rescaling of the data from the original range so that all values are within the range of 0 and 1."
   ]
  },
  {
   "cell_type": "code",
   "execution_count": 8,
   "metadata": {},
   "outputs": [],
   "source": [
    "# select values of dataframe\n",
    "values = df.values"
   ]
  },
  {
   "cell_type": "code",
   "execution_count": 9,
   "metadata": {},
   "outputs": [],
   "source": [
    "# remove output data y to rescale later\n",
    "values_x = np.delete(values, -1, axis=1)"
   ]
  },
  {
   "cell_type": "code",
   "execution_count": 10,
   "metadata": {},
   "outputs": [],
   "source": [
    "# rescale data between 0 and 1\n",
    "scaler = MinMaxScaler(feature_range=(0, 1))\n",
    "scaled_x = scaler.fit_transform(values_x)"
   ]
  },
  {
   "cell_type": "code",
   "execution_count": 11,
   "metadata": {},
   "outputs": [],
   "source": [
    "# select values of output data y\n",
    "values_y = values[:, -1]"
   ]
  },
  {
   "cell_type": "code",
   "execution_count": 12,
   "metadata": {},
   "outputs": [],
   "source": [
    "# rescale manually output data y\n",
    "scaled_y = (values_y -values_y.mean())/ values_y.std()"
   ]
  },
  {
   "cell_type": "code",
   "execution_count": 13,
   "metadata": {},
   "outputs": [],
   "source": [
    "# reshape scaled date to concatenate with scaled input data\n",
    "scaled_y = scaled_y.reshape((scaled_y.shape[0], 1))"
   ]
  },
  {
   "cell_type": "code",
   "execution_count": 14,
   "metadata": {},
   "outputs": [],
   "source": [
    "# concatenate input data x and output data y\n",
    "scaled = np.concatenate((scaled_x, scaled_y), axis=1)"
   ]
  },
  {
   "cell_type": "markdown",
   "metadata": {},
   "source": [
    "## Transformation"
   ]
  },
  {
   "cell_type": "markdown",
   "metadata": {},
   "source": [
    "The second operation is to transform the time series into a supervised learning series. Time series forecasting problems must be re-framed as supervised learning problems. From a sequence to pairs of input and output sequences. A time series is a sequence of numbers that are ordered by a time index. This can be thought of as a list or column of ordered values. A supervised learning problem is comprised of input patterns (X) and output patterns (y), such that an algorithm can learn how to predict the output patterns from the input patterns. To do this, we used the “series_to_supervised” function of Jason Brownlee and assumed that the discharge of Ansongo and Kandadji both takes one timestep (a day) to get to Niamey."
   ]
  },
  {
   "cell_type": "code",
   "execution_count": 15,
   "metadata": {},
   "outputs": [],
   "source": [
    "# function to transform time series to supervised learning series\n",
    "# this function was extracted from \n",
    "# https://machinelearningmastery.com/convert-time-series-supervised-learning-problem-python/\n",
    "from pandas import DataFrame\n",
    "from pandas import concat\n",
    "\n",
    "def series_to_supervised(data, n_in=1, n_out=1, dropnan=True):\n",
    "    \"\"\"\n",
    "    Frame a time series as a supervised learning dataset.\n",
    "    Arguments:\n",
    "        data: Sequence of observations as a list or NumPy array.\n",
    "        n_in: Number of lag observations as input (X).\n",
    "        n_out: Number of observations as output (y).\n",
    "        dropnan: Boolean whether or not to drop rows with NaN values.\n",
    "    Returns:\n",
    "        Pandas DataFrame of series framed for supervised learning.\n",
    "    \"\"\"\n",
    "    n_vars = 1 if type(data) is list else data.shape[1]\n",
    "    df = DataFrame(data)\n",
    "    cols, names = list(), list()\n",
    "    # input sequence (t-n, ... t-1)\n",
    "    for i in range(n_in, 0, -1):\n",
    "        cols.append(df.shift(i))\n",
    "        names += [('var%d(t-%d)' % (j+1, i)) for j in range(n_vars)]\n",
    "    # forecast sequence (t, t+1, ... t+n)\n",
    "    for i in range(0, n_out):\n",
    "        cols.append(df.shift(-i))\n",
    "        if i == 0:\n",
    "            names += [('var%d(t)' % (j+1)) for j in range(n_vars)]\n",
    "        else:\n",
    "            names += [('var%d(t+%d)' % (j+1, i)) for j in range(n_vars)]\n",
    "    # put it all together\n",
    "    agg = concat(cols, axis=1)\n",
    "    agg.columns = names\n",
    "    # drop rows with NaN values\n",
    "    if dropnan:\n",
    "        agg.dropna(inplace=True)\n",
    "    return agg"
   ]
  },
  {
   "cell_type": "code",
   "execution_count": 16,
   "metadata": {},
   "outputs": [],
   "source": [
    "# using function above\n",
    "reframed = series_to_supervised(scaled, 1, 1)"
   ]
  },
  {
   "cell_type": "code",
   "execution_count": 17,
   "metadata": {},
   "outputs": [
    {
     "data": {
      "text/html": [
       "<div>\n",
       "<style scoped>\n",
       "    .dataframe tbody tr th:only-of-type {\n",
       "        vertical-align: middle;\n",
       "    }\n",
       "\n",
       "    .dataframe tbody tr th {\n",
       "        vertical-align: top;\n",
       "    }\n",
       "\n",
       "    .dataframe thead th {\n",
       "        text-align: right;\n",
       "    }\n",
       "</style>\n",
       "<table border=\"1\" class=\"dataframe\">\n",
       "  <thead>\n",
       "    <tr style=\"text-align: right;\">\n",
       "      <th></th>\n",
       "      <th>var1(t-1)</th>\n",
       "      <th>var2(t-1)</th>\n",
       "      <th>var3(t-1)</th>\n",
       "      <th>var4(t-1)</th>\n",
       "      <th>var5(t-1)</th>\n",
       "      <th>var6(t)</th>\n",
       "    </tr>\n",
       "  </thead>\n",
       "  <tbody>\n",
       "    <tr>\n",
       "      <th>1</th>\n",
       "      <td>0.021827</td>\n",
       "      <td>0.745837</td>\n",
       "      <td>0.772000</td>\n",
       "      <td>0.007353</td>\n",
       "      <td>0.009230</td>\n",
       "      <td>-1.239013</td>\n",
       "    </tr>\n",
       "    <tr>\n",
       "      <th>2</th>\n",
       "      <td>0.030442</td>\n",
       "      <td>0.794020</td>\n",
       "      <td>0.783623</td>\n",
       "      <td>0.006828</td>\n",
       "      <td>0.007602</td>\n",
       "      <td>-1.239844</td>\n",
       "    </tr>\n",
       "    <tr>\n",
       "      <th>3</th>\n",
       "      <td>0.014168</td>\n",
       "      <td>0.763185</td>\n",
       "      <td>0.743876</td>\n",
       "      <td>0.006828</td>\n",
       "      <td>0.006453</td>\n",
       "      <td>-1.240657</td>\n",
       "    </tr>\n",
       "    <tr>\n",
       "      <th>4</th>\n",
       "      <td>0.082520</td>\n",
       "      <td>0.777211</td>\n",
       "      <td>0.812902</td>\n",
       "      <td>0.006828</td>\n",
       "      <td>0.006214</td>\n",
       "      <td>-1.241877</td>\n",
       "    </tr>\n",
       "    <tr>\n",
       "      <th>5</th>\n",
       "      <td>0.011296</td>\n",
       "      <td>0.775912</td>\n",
       "      <td>0.746368</td>\n",
       "      <td>0.006828</td>\n",
       "      <td>0.005639</td>\n",
       "      <td>-1.242708</td>\n",
       "    </tr>\n",
       "  </tbody>\n",
       "</table>\n",
       "</div>"
      ],
      "text/plain": [
       "   var1(t-1)  var2(t-1)  var3(t-1)  var4(t-1)  var5(t-1)   var6(t)\n",
       "1   0.021827   0.745837   0.772000   0.007353   0.009230 -1.239013\n",
       "2   0.030442   0.794020   0.783623   0.006828   0.007602 -1.239844\n",
       "3   0.014168   0.763185   0.743876   0.006828   0.006453 -1.240657\n",
       "4   0.082520   0.777211   0.812902   0.006828   0.006214 -1.241877\n",
       "5   0.011296   0.775912   0.746368   0.006828   0.005639 -1.242708"
      ]
     },
     "execution_count": 17,
     "metadata": {},
     "output_type": "execute_result"
    }
   ],
   "source": [
    "# drop columns we don't want to predict\n",
    "reframed.drop(reframed.columns[[5,6,7,8,9,10]], axis=1, inplace=True)\n",
    "reframed.head()"
   ]
  },
  {
   "cell_type": "markdown",
   "metadata": {
    "id": "5quWIq-kJlIn"
   },
   "source": [
    "## Data split"
   ]
  },
  {
   "cell_type": "markdown",
   "metadata": {},
   "source": [
    "The third operation is to split the data into training, validation and training sets. \n",
    "\n",
    "The model is initially fit in a **training set**, which is a set of examples used to fit the parameters of the model.\n",
    "\n",
    "Successively, the fitted model is used to predict the responses for the observations in a second dataset called the **validation dataset**. The validation dataset provides an unbiased evaluation of a model fit on the training dataset. \n",
    "\n",
    "The **test dataset** is a dataset used to provide an unbiased evaluation of a final model fit on the training dataset. \n",
    "\n",
    "The dataset was also split into inputs and outputs. The figure below illustrates the different divisions of the dataset."
   ]
  },
  {
   "cell_type": "markdown",
   "metadata": {},
   "source": [
    "![subdivisions of dataset](./images/split_dataset.png)"
   ]
  },
  {
   "cell_type": "code",
   "execution_count": 18,
   "metadata": {},
   "outputs": [],
   "source": [
    "# split into train, val and test sets\n",
    "values = reframed.values\n",
    "\n",
    "n_train_years = 7305 # days in 20 years for training\n",
    "n_val_years = 9131 - n_train_years # days in 5 years for validating\n",
    "n_val_sum = n_train_years + n_val_years\n",
    "\n",
    "train = values[:n_train_years, :]\n",
    "val = values[n_train_years:n_val_sum, :]\n",
    "test = values[n_val_sum:, :]"
   ]
  },
  {
   "cell_type": "code",
   "execution_count": 19,
   "metadata": {},
   "outputs": [],
   "source": [
    "# split into input and outputs\n",
    "x_train, y_train = train[:, :-1], train[:, -1]\n",
    "x_val, y_val = val[:, :-1], val[:, -1]\n",
    "x_test, y_test = test[:, :-1], test[:, -1]"
   ]
  },
  {
   "cell_type": "markdown",
   "metadata": {},
   "source": [
    "To finish this transformation, the dataset was reshaped in a 3D format with the final shape of each subdivision of the dataset being: (number of samples, time steps, features)."
   ]
  },
  {
   "cell_type": "code",
   "execution_count": 20,
   "metadata": {},
   "outputs": [
    {
     "name": "stdout",
     "output_type": "stream",
     "text": [
      "(7305, 1, 5) (7305,) (1826, 1, 5) (1826,) (1674, 1, 5) (1674,)\n"
     ]
    }
   ],
   "source": [
    "# reshape input to be 3D [samples, timesteps, features]\n",
    "x_train = x_train.reshape((x_train.shape[0], 1, x_train.shape[1]))\n",
    "x_val = x_val.reshape((x_val.shape[0], 1, x_val.shape[1]))\n",
    "x_test = x_test.reshape((x_test.shape[0], 1, x_test.shape[1]))\n",
    "print(x_train.shape, y_train.shape, x_val.shape, y_val.shape, x_test.shape, y_test.shape)"
   ]
  },
  {
   "cell_type": "markdown",
   "metadata": {
    "id": "Whbni_sdhEz0"
   },
   "source": [
    "## LSTM Setting Up"
   ]
  },
  {
   "cell_type": "markdown",
   "metadata": {},
   "source": [
    "A sequential model was used for this work. A Sequential model is appropriate for a plain stack of layers where each layer has exactly one input tensor and one output tensor. An LSTM layer was added to the model and the number of its internal units was set using the value obtained after hyperparameter optimization. A dense layer of 1 unit was added to the LSTM units to sum up the result of the LSTM units and to set it up as output data."
   ]
  },
  {
   "cell_type": "code",
   "execution_count": 21,
   "metadata": {
    "id": "S21VRZ_8hv9S"
   },
   "outputs": [],
   "source": [
    "# set LSTM neural network\n",
    "model = Sequential()"
   ]
  },
  {
   "cell_type": "markdown",
   "metadata": {},
   "source": [
    "Now that the model is defined we can compile it and specify its optimizer, learning rate and loss function. The process of minimizing any mathematical expression is called optimization. Optimizers are algorithms or methods used to change the attributes of the neural network such as weights, biases and learning rate to reduce the losses. The optimizer used here is the Adaptive Moment Estimation (Adam) optimizer. Adam optimization is a stochastic gradient descent method that is based on the adaptive estimation of first-order and second-order moments. According to Kingma the method is “computationally efficient, has little memory requirement, invariant to diagonal rescaling of gradients, and is well suited for problems that are large in terms of data/parameters”. \n",
    "\n",
    "The learning rate obtained from the hyperparameter optimization process is also set here. The last step of compiling our LSTM model would be to set its loss function. Since the present work would use a large number of samples, we would not set a regularization term because the chances of overfitting the data are low. As for the data loss function, the mean square error would be chosen because larger mistakes are attributed to bigger penalties due to the squaring inside the function."
   ]
  },
  {
   "cell_type": "code",
   "execution_count": 22,
   "metadata": {},
   "outputs": [],
   "source": [
    "# build model\n",
    "model.add(LSTM(units=30, input_shape=(x_train.shape[1], x_train.shape[2])))\n",
    "model.add(Dense(units=1))"
   ]
  },
  {
   "cell_type": "code",
   "execution_count": 23,
   "metadata": {
    "id": "xjJSLd8GJlIs"
   },
   "outputs": [],
   "source": [
    "# set compiler\n",
    "optimizer = Adam(lr=0.01561601307656165)\n",
    "model.compile(loss='mse', optimizer=optimizer, metrics=['mae'])"
   ]
  },
  {
   "cell_type": "code",
   "execution_count": 24,
   "metadata": {
    "colab": {
     "base_uri": "https://localhost:8080/"
    },
    "id": "hvmivlFWJlIs",
    "outputId": "bf059ad5-23d3-4a62-d001-1627bb16a5a0"
   },
   "outputs": [
    {
     "name": "stdout",
     "output_type": "stream",
     "text": [
      "Model: \"sequential\"\n",
      "_________________________________________________________________\n",
      "Layer (type)                 Output Shape              Param #   \n",
      "=================================================================\n",
      "lstm (LSTM)                  (None, 30)                4320      \n",
      "_________________________________________________________________\n",
      "dense (Dense)                (None, 1)                 31        \n",
      "=================================================================\n",
      "Total params: 4,351\n",
      "Trainable params: 4,351\n",
      "Non-trainable params: 0\n",
      "_________________________________________________________________\n"
     ]
    }
   ],
   "source": [
    "model.summary()"
   ]
  },
  {
   "cell_type": "markdown",
   "metadata": {},
   "source": [
    "![lstm model](../images/lstm_model.png)"
   ]
  },
  {
   "cell_type": "markdown",
   "metadata": {
    "id": "N0pcQkRyoDhh"
   },
   "source": [
    "## LSTM Training"
   ]
  },
  {
   "cell_type": "markdown",
   "metadata": {},
   "source": [
    "For the training phase of our LSTM, the number of epochs and the batch size obtained after hyperparameter optimization are set in the model to fit."
   ]
  },
  {
   "cell_type": "code",
   "execution_count": 25,
   "metadata": {
    "scrolled": true
   },
   "outputs": [
    {
     "name": "stdout",
     "output_type": "stream",
     "text": [
      "Epoch 1/100\n",
      "58/58 - 8s - loss: 0.3072 - mae: 0.4206 - val_loss: 0.1328 - val_mae: 0.2688\n",
      "Epoch 2/100\n",
      "58/58 - 0s - loss: 0.0836 - mae: 0.2164 - val_loss: 0.0987 - val_mae: 0.2250\n",
      "Epoch 3/100\n",
      "58/58 - 0s - loss: 0.0652 - mae: 0.1894 - val_loss: 0.0802 - val_mae: 0.2019\n",
      "Epoch 4/100\n",
      "58/58 - 0s - loss: 0.0545 - mae: 0.1710 - val_loss: 0.0702 - val_mae: 0.1917\n",
      "Epoch 5/100\n",
      "58/58 - 0s - loss: 0.0464 - mae: 0.1539 - val_loss: 0.0648 - val_mae: 0.1880\n",
      "Epoch 6/100\n",
      "58/58 - 0s - loss: 0.0409 - mae: 0.1407 - val_loss: 0.0616 - val_mae: 0.1846\n",
      "Epoch 7/100\n",
      "58/58 - 0s - loss: 0.0375 - mae: 0.1324 - val_loss: 0.0595 - val_mae: 0.1806\n",
      "Epoch 8/100\n",
      "58/58 - 0s - loss: 0.0354 - mae: 0.1275 - val_loss: 0.0581 - val_mae: 0.1768\n",
      "Epoch 9/100\n",
      "58/58 - 0s - loss: 0.0341 - mae: 0.1244 - val_loss: 0.0571 - val_mae: 0.1738\n",
      "Epoch 10/100\n",
      "58/58 - 0s - loss: 0.0332 - mae: 0.1225 - val_loss: 0.0564 - val_mae: 0.1713\n",
      "Epoch 11/100\n",
      "58/58 - 0s - loss: 0.0326 - mae: 0.1211 - val_loss: 0.0559 - val_mae: 0.1694\n",
      "Epoch 12/100\n",
      "58/58 - 0s - loss: 0.0322 - mae: 0.1201 - val_loss: 0.0555 - val_mae: 0.1678\n",
      "Epoch 13/100\n",
      "58/58 - 0s - loss: 0.0318 - mae: 0.1194 - val_loss: 0.0551 - val_mae: 0.1665\n",
      "Epoch 14/100\n",
      "58/58 - 0s - loss: 0.0316 - mae: 0.1188 - val_loss: 0.0548 - val_mae: 0.1653\n",
      "Epoch 15/100\n",
      "58/58 - 0s - loss: 0.0314 - mae: 0.1183 - val_loss: 0.0546 - val_mae: 0.1642\n",
      "Epoch 16/100\n",
      "58/58 - 0s - loss: 0.0312 - mae: 0.1179 - val_loss: 0.0543 - val_mae: 0.1633\n",
      "Epoch 17/100\n",
      "58/58 - 0s - loss: 0.0310 - mae: 0.1175 - val_loss: 0.0541 - val_mae: 0.1624\n",
      "Epoch 18/100\n",
      "58/58 - 0s - loss: 0.0309 - mae: 0.1172 - val_loss: 0.0539 - val_mae: 0.1616\n",
      "Epoch 19/100\n",
      "58/58 - 0s - loss: 0.0307 - mae: 0.1169 - val_loss: 0.0538 - val_mae: 0.1608\n",
      "Epoch 20/100\n",
      "58/58 - 0s - loss: 0.0306 - mae: 0.1166 - val_loss: 0.0536 - val_mae: 0.1601\n",
      "Epoch 21/100\n",
      "58/58 - 0s - loss: 0.0305 - mae: 0.1163 - val_loss: 0.0534 - val_mae: 0.1594\n",
      "Epoch 22/100\n",
      "58/58 - 0s - loss: 0.0304 - mae: 0.1161 - val_loss: 0.0533 - val_mae: 0.1588\n",
      "Epoch 23/100\n",
      "58/58 - 0s - loss: 0.0302 - mae: 0.1158 - val_loss: 0.0532 - val_mae: 0.1582\n",
      "Epoch 24/100\n",
      "58/58 - 0s - loss: 0.0301 - mae: 0.1155 - val_loss: 0.0530 - val_mae: 0.1576\n",
      "Epoch 25/100\n",
      "58/58 - 0s - loss: 0.0300 - mae: 0.1153 - val_loss: 0.0529 - val_mae: 0.1570\n",
      "Epoch 26/100\n",
      "58/58 - 0s - loss: 0.0299 - mae: 0.1150 - val_loss: 0.0528 - val_mae: 0.1565\n",
      "Epoch 27/100\n",
      "58/58 - 0s - loss: 0.0298 - mae: 0.1148 - val_loss: 0.0527 - val_mae: 0.1560\n",
      "Epoch 28/100\n",
      "58/58 - 0s - loss: 0.0297 - mae: 0.1145 - val_loss: 0.0526 - val_mae: 0.1555\n",
      "Epoch 29/100\n",
      "58/58 - 0s - loss: 0.0296 - mae: 0.1143 - val_loss: 0.0526 - val_mae: 0.1551\n",
      "Epoch 30/100\n",
      "58/58 - 0s - loss: 0.0295 - mae: 0.1141 - val_loss: 0.0525 - val_mae: 0.1546\n",
      "Epoch 31/100\n",
      "58/58 - 0s - loss: 0.0294 - mae: 0.1138 - val_loss: 0.0524 - val_mae: 0.1542\n",
      "Epoch 32/100\n",
      "58/58 - 0s - loss: 0.0293 - mae: 0.1136 - val_loss: 0.0524 - val_mae: 0.1538\n",
      "Epoch 33/100\n",
      "58/58 - 0s - loss: 0.0292 - mae: 0.1134 - val_loss: 0.0523 - val_mae: 0.1534\n",
      "Epoch 34/100\n",
      "58/58 - 0s - loss: 0.0291 - mae: 0.1132 - val_loss: 0.0523 - val_mae: 0.1530\n",
      "Epoch 35/100\n",
      "58/58 - 0s - loss: 0.0290 - mae: 0.1130 - val_loss: 0.0522 - val_mae: 0.1527\n",
      "Epoch 36/100\n",
      "58/58 - 0s - loss: 0.0289 - mae: 0.1128 - val_loss: 0.0522 - val_mae: 0.1523\n",
      "Epoch 37/100\n",
      "58/58 - 0s - loss: 0.0288 - mae: 0.1126 - val_loss: 0.0521 - val_mae: 0.1519\n",
      "Epoch 38/100\n",
      "58/58 - 0s - loss: 0.0288 - mae: 0.1124 - val_loss: 0.0521 - val_mae: 0.1516\n",
      "Epoch 39/100\n",
      "58/58 - 0s - loss: 0.0287 - mae: 0.1123 - val_loss: 0.0521 - val_mae: 0.1512\n",
      "Epoch 40/100\n",
      "58/58 - 0s - loss: 0.0286 - mae: 0.1121 - val_loss: 0.0520 - val_mae: 0.1509\n",
      "Epoch 41/100\n",
      "58/58 - 0s - loss: 0.0285 - mae: 0.1119 - val_loss: 0.0520 - val_mae: 0.1506\n",
      "Epoch 42/100\n",
      "58/58 - 0s - loss: 0.0284 - mae: 0.1117 - val_loss: 0.0520 - val_mae: 0.1503\n",
      "Epoch 43/100\n",
      "58/58 - 0s - loss: 0.0284 - mae: 0.1116 - val_loss: 0.0519 - val_mae: 0.1499\n",
      "Epoch 44/100\n",
      "58/58 - 0s - loss: 0.0283 - mae: 0.1114 - val_loss: 0.0519 - val_mae: 0.1496\n",
      "Epoch 45/100\n",
      "58/58 - 0s - loss: 0.0282 - mae: 0.1113 - val_loss: 0.0519 - val_mae: 0.1493\n",
      "Epoch 46/100\n",
      "58/58 - 0s - loss: 0.0281 - mae: 0.1111 - val_loss: 0.0519 - val_mae: 0.1490\n",
      "Epoch 47/100\n",
      "58/58 - 0s - loss: 0.0280 - mae: 0.1109 - val_loss: 0.0519 - val_mae: 0.1487\n",
      "Epoch 48/100\n",
      "58/58 - 0s - loss: 0.0280 - mae: 0.1108 - val_loss: 0.0519 - val_mae: 0.1483\n",
      "Epoch 49/100\n",
      "58/58 - 0s - loss: 0.0279 - mae: 0.1106 - val_loss: 0.0519 - val_mae: 0.1480\n",
      "Epoch 50/100\n",
      "58/58 - 0s - loss: 0.0278 - mae: 0.1104 - val_loss: 0.0519 - val_mae: 0.1477\n",
      "Epoch 51/100\n",
      "58/58 - 0s - loss: 0.0277 - mae: 0.1102 - val_loss: 0.0519 - val_mae: 0.1474\n",
      "Epoch 52/100\n",
      "58/58 - 0s - loss: 0.0276 - mae: 0.1101 - val_loss: 0.0519 - val_mae: 0.1471\n",
      "Epoch 53/100\n",
      "58/58 - 0s - loss: 0.0275 - mae: 0.1099 - val_loss: 0.0519 - val_mae: 0.1468\n",
      "Epoch 54/100\n",
      "58/58 - 0s - loss: 0.0275 - mae: 0.1097 - val_loss: 0.0519 - val_mae: 0.1465\n",
      "Epoch 55/100\n",
      "58/58 - 0s - loss: 0.0274 - mae: 0.1095 - val_loss: 0.0519 - val_mae: 0.1462\n",
      "Epoch 56/100\n",
      "58/58 - 0s - loss: 0.0273 - mae: 0.1093 - val_loss: 0.0520 - val_mae: 0.1460\n",
      "Epoch 57/100\n",
      "58/58 - 0s - loss: 0.0272 - mae: 0.1092 - val_loss: 0.0520 - val_mae: 0.1458\n",
      "Epoch 58/100\n",
      "58/58 - 0s - loss: 0.0272 - mae: 0.1090 - val_loss: 0.0520 - val_mae: 0.1455\n",
      "Epoch 59/100\n",
      "58/58 - 0s - loss: 0.0271 - mae: 0.1088 - val_loss: 0.0521 - val_mae: 0.1454\n",
      "Epoch 60/100\n",
      "58/58 - 0s - loss: 0.0270 - mae: 0.1086 - val_loss: 0.0521 - val_mae: 0.1452\n",
      "Epoch 61/100\n",
      "58/58 - 0s - loss: 0.0269 - mae: 0.1085 - val_loss: 0.0522 - val_mae: 0.1450\n",
      "Epoch 62/100\n",
      "58/58 - 0s - loss: 0.0269 - mae: 0.1083 - val_loss: 0.0522 - val_mae: 0.1449\n",
      "Epoch 63/100\n",
      "58/58 - 0s - loss: 0.0268 - mae: 0.1082 - val_loss: 0.0523 - val_mae: 0.1448\n",
      "Epoch 64/100\n",
      "58/58 - 0s - loss: 0.0268 - mae: 0.1080 - val_loss: 0.0523 - val_mae: 0.1446\n",
      "Epoch 65/100\n",
      "58/58 - 0s - loss: 0.0267 - mae: 0.1079 - val_loss: 0.0524 - val_mae: 0.1446\n",
      "Epoch 66/100\n",
      "58/58 - 0s - loss: 0.0267 - mae: 0.1078 - val_loss: 0.0525 - val_mae: 0.1445\n",
      "Epoch 67/100\n",
      "58/58 - 0s - loss: 0.0266 - mae: 0.1076 - val_loss: 0.0525 - val_mae: 0.1444\n",
      "Epoch 68/100\n",
      "58/58 - 0s - loss: 0.0266 - mae: 0.1075 - val_loss: 0.0526 - val_mae: 0.1444\n",
      "Epoch 69/100\n",
      "58/58 - 0s - loss: 0.0265 - mae: 0.1074 - val_loss: 0.0527 - val_mae: 0.1443\n",
      "Epoch 70/100\n",
      "58/58 - 0s - loss: 0.0265 - mae: 0.1073 - val_loss: 0.0527 - val_mae: 0.1443\n",
      "Epoch 71/100\n",
      "58/58 - 0s - loss: 0.0264 - mae: 0.1072 - val_loss: 0.0528 - val_mae: 0.1443\n",
      "Epoch 72/100\n",
      "58/58 - 0s - loss: 0.0264 - mae: 0.1072 - val_loss: 0.0528 - val_mae: 0.1443\n",
      "Epoch 73/100\n",
      "58/58 - 0s - loss: 0.0264 - mae: 0.1071 - val_loss: 0.0529 - val_mae: 0.1443\n",
      "Epoch 74/100\n",
      "58/58 - 0s - loss: 0.0264 - mae: 0.1070 - val_loss: 0.0530 - val_mae: 0.1444\n",
      "Epoch 75/100\n",
      "58/58 - 0s - loss: 0.0263 - mae: 0.1070 - val_loss: 0.0530 - val_mae: 0.1444\n",
      "Epoch 76/100\n",
      "58/58 - 0s - loss: 0.0263 - mae: 0.1069 - val_loss: 0.0531 - val_mae: 0.1444\n",
      "Epoch 77/100\n",
      "58/58 - 0s - loss: 0.0263 - mae: 0.1068 - val_loss: 0.0531 - val_mae: 0.1445\n",
      "Epoch 78/100\n",
      "58/58 - 0s - loss: 0.0263 - mae: 0.1068 - val_loss: 0.0532 - val_mae: 0.1445\n",
      "Epoch 79/100\n",
      "58/58 - 0s - loss: 0.0262 - mae: 0.1068 - val_loss: 0.0532 - val_mae: 0.1446\n",
      "Epoch 80/100\n",
      "58/58 - 0s - loss: 0.0262 - mae: 0.1067 - val_loss: 0.0533 - val_mae: 0.1446\n",
      "Epoch 81/100\n",
      "58/58 - 0s - loss: 0.0262 - mae: 0.1067 - val_loss: 0.0534 - val_mae: 0.1447\n",
      "Epoch 82/100\n",
      "58/58 - 0s - loss: 0.0262 - mae: 0.1066 - val_loss: 0.0534 - val_mae: 0.1447\n",
      "Epoch 83/100\n",
      "58/58 - 0s - loss: 0.0262 - mae: 0.1066 - val_loss: 0.0535 - val_mae: 0.1448\n",
      "Epoch 84/100\n",
      "58/58 - 0s - loss: 0.0261 - mae: 0.1066 - val_loss: 0.0535 - val_mae: 0.1448\n",
      "Epoch 85/100\n",
      "58/58 - 0s - loss: 0.0261 - mae: 0.1065 - val_loss: 0.0536 - val_mae: 0.1449\n",
      "Epoch 86/100\n",
      "58/58 - 0s - loss: 0.0261 - mae: 0.1065 - val_loss: 0.0536 - val_mae: 0.1450\n",
      "Epoch 87/100\n",
      "58/58 - 0s - loss: 0.0261 - mae: 0.1065 - val_loss: 0.0537 - val_mae: 0.1451\n",
      "Epoch 88/100\n",
      "58/58 - 0s - loss: 0.0261 - mae: 0.1065 - val_loss: 0.0537 - val_mae: 0.1452\n",
      "Epoch 89/100\n",
      "58/58 - 0s - loss: 0.0261 - mae: 0.1065 - val_loss: 0.0538 - val_mae: 0.1453\n",
      "Epoch 90/100\n",
      "58/58 - 0s - loss: 0.0261 - mae: 0.1064 - val_loss: 0.0538 - val_mae: 0.1454\n",
      "Epoch 91/100\n",
      "58/58 - 0s - loss: 0.0260 - mae: 0.1064 - val_loss: 0.0539 - val_mae: 0.1455\n",
      "Epoch 92/100\n"
     ]
    },
    {
     "name": "stdout",
     "output_type": "stream",
     "text": [
      "58/58 - 0s - loss: 0.0260 - mae: 0.1064 - val_loss: 0.0539 - val_mae: 0.1456\n",
      "Epoch 93/100\n",
      "58/58 - 0s - loss: 0.0260 - mae: 0.1064 - val_loss: 0.0540 - val_mae: 0.1457\n",
      "Epoch 94/100\n",
      "58/58 - 0s - loss: 0.0260 - mae: 0.1064 - val_loss: 0.0540 - val_mae: 0.1458\n",
      "Epoch 95/100\n",
      "58/58 - 0s - loss: 0.0260 - mae: 0.1064 - val_loss: 0.0541 - val_mae: 0.1459\n",
      "Epoch 96/100\n",
      "58/58 - 0s - loss: 0.0260 - mae: 0.1064 - val_loss: 0.0541 - val_mae: 0.1461\n",
      "Epoch 97/100\n",
      "58/58 - 0s - loss: 0.0260 - mae: 0.1064 - val_loss: 0.0542 - val_mae: 0.1462\n",
      "Epoch 98/100\n",
      "58/58 - 0s - loss: 0.0260 - mae: 0.1064 - val_loss: 0.0543 - val_mae: 0.1463\n",
      "Epoch 99/100\n",
      "58/58 - 0s - loss: 0.0260 - mae: 0.1064 - val_loss: 0.0543 - val_mae: 0.1465\n",
      "Epoch 100/100\n",
      "58/58 - 0s - loss: 0.0260 - mae: 0.1064 - val_loss: 0.0544 - val_mae: 0.1467\n",
      "Wall time: 30.9 s\n"
     ]
    }
   ],
   "source": [
    "%%time\n",
    "history = model.fit(x_train, y_train, epochs=100, batch_size=128, validation_data=(x_val, y_val), verbose=2, shuffle=False)"
   ]
  },
  {
   "cell_type": "markdown",
   "metadata": {
    "id": "JpEmavvGwyJ9"
   },
   "source": [
    "## LSTM Evaluation"
   ]
  },
  {
   "cell_type": "markdown",
   "metadata": {},
   "source": [
    "The evaluation of the model is done using the test dataset."
   ]
  },
  {
   "cell_type": "code",
   "execution_count": 26,
   "metadata": {
    "colab": {
     "base_uri": "https://localhost:8080/"
    },
    "id": "ISD1CdNFmasu",
    "outputId": "8a556c8e-20d6-471a-c75f-3a9ca9b863b0",
    "scrolled": false
   },
   "outputs": [
    {
     "data": {
      "text/plain": [
       "<matplotlib.legend.Legend at 0x238e885ea58>"
      ]
     },
     "execution_count": 26,
     "metadata": {},
     "output_type": "execute_result"
    },
    {
     "data": {
      "image/png": "[encoded data removed]",
      "text/plain": [
       "<Figure size 576x432 with 1 Axes>"
      ]
     },
     "metadata": {
      "needs_background": "light"
     },
     "output_type": "display_data"
    }
   ],
   "source": [
    "#plot history\n",
    "plt.figure(figsize=(8,6))\n",
    "plt.plot(history.history['loss'], label='Training')\n",
    "plt.plot(history.history['val_loss'], label='Validation')\n",
    "#plt.title('LSTM Model Loss')\n",
    "plt.xlabel('Epoch', fontsize=16)\n",
    "plt.ylabel('Loss', fontsize=16)\n",
    "plt.legend()\n",
    "#plt.savefig('../images/evaluation_lstm.png')"
   ]
  },
  {
   "cell_type": "markdown",
   "metadata": {},
   "source": [
    "The trend of the loss curve shows that the model converged reasonably quickly and both train and test performance remained equivalent. The performance and convergence behavior of the model suggest that mean squared error is a good match for a neural network learning this problem. The validation curve being above the the training curve might suggest that the model is overfitting but the very small difference between the losses means that the model does not have significant overfitting issues. Moreover, the training/validation plot implies that the model presents low bias and low variance which attests that the model has a right balance and is neither overfitting nor underfitting."
   ]
  },
  {
   "cell_type": "markdown",
   "metadata": {},
   "source": [
    "## LSTM Testing"
   ]
  },
  {
   "cell_type": "code",
   "execution_count": 27,
   "metadata": {
    "id": "pUqpSIEAK35C"
   },
   "outputs": [],
   "source": [
    "# make a prediction\n",
    "yhat = model.predict(x_test)\n",
    "x_test = x_test.reshape((x_test.shape[0], x_test.shape[2]))"
   ]
  },
  {
   "cell_type": "code",
   "execution_count": 28,
   "metadata": {
    "id": "BLfMzm2gK308"
   },
   "outputs": [],
   "source": [
    "# rescaling predictions\n",
    "inv_yhat = concatenate((yhat, x_test), axis=1)\n",
    "inv_yhat = yhat * values_y.std() + values_y.mean()"
   ]
  },
  {
   "cell_type": "code",
   "execution_count": 29,
   "metadata": {},
   "outputs": [],
   "source": [
    "# get initial values of y_test\n",
    "inv_y = df['Niamey']\n",
    "inv_y = inv_y[n_val_sum+1:].values"
   ]
  },
  {
   "cell_type": "markdown",
   "metadata": {},
   "source": [
    "The next step would be to evaluate our LSTM model over the test set of data. The figure below presents the observed discharge vs the predicted discharge."
   ]
  },
  {
   "cell_type": "code",
   "execution_count": 30,
   "metadata": {
    "scrolled": false
   },
   "outputs": [
    {
     "data": {
      "text/plain": [
       "<matplotlib.legend.Legend at 0x238e87d79b0>"
      ]
     },
     "execution_count": 30,
     "metadata": {},
     "output_type": "execute_result"
    },
    {
     "data": {
      "image/png": "[encoded data removed]",
      "text/plain": [
       "<Figure size 576x432 with 1 Axes>"
      ]
     },
     "metadata": {
      "needs_background": "light"
     },
     "output_type": "display_data"
    }
   ],
   "source": [
    "# plot predicitons\n",
    "plt.figure(figsize=(8,6))\n",
    "plt.plot(inv_y, label='observations')\n",
    "plt.plot(inv_yhat, label='predictions')\n",
    "#plt.title('Predicted vs Observed')\n",
    "plt.xlabel('Days', fontsize=16)\n",
    "plt.ylabel('Discharge ($m^3/s$)', fontsize=16)\n",
    "plt.legend()\n",
    "#plt.savefig('../images/prediction_vs_observation_lstm.png')"
   ]
  },
  {
   "cell_type": "markdown",
   "metadata": {},
   "source": [
    "When presented with the LSTM model with a new set of data, we notice that the Guinean flood is well simulated while the red flood is not well simulated. The peaks of the red flood are underestimated by the deep learning model. This may be explained by the fact that maybe the right set of climate variables were not included in the model because the red flood originates from the climatic conditions within the Ansongo-Niamey basin."
   ]
  },
  {
   "cell_type": "code",
   "execution_count": 31,
   "metadata": {},
   "outputs": [
    {
     "name": "stdout",
     "output_type": "stream",
     "text": [
      "R2: 0.951\n"
     ]
    }
   ],
   "source": [
    "# Coefficient of Determination (R2)\n",
    "inv_yhat = inv_yhat = inv_yhat.reshape(inv_yhat.shape[0])\n",
    "correlation_matrix = np.corrcoef(inv_y, inv_yhat)\n",
    "correlation_xy = correlation_matrix[0,1]\n",
    "R2 = correlation_xy**2\n",
    "print('R2: %.3f' % R2)"
   ]
  },
  {
   "cell_type": "code",
   "execution_count": 32,
   "metadata": {},
   "outputs": [
    {
     "name": "stdout",
     "output_type": "stream",
     "text": [
      "NSE: 0.933\n"
     ]
    }
   ],
   "source": [
    "# Nash-Sutcliffe Efficiency (NSE) \n",
    "nse = 1 - ( sum((inv_y - inv_yhat) ** 2 ) / sum( (inv_y - mean(inv_y)) ** 2) ) \n",
    "print('NSE: %.3f' % nse)"
   ]
  },
  {
   "cell_type": "code",
   "execution_count": 33,
   "metadata": {
    "id": "UpDh39lWK3th"
   },
   "outputs": [
    {
     "name": "stdout",
     "output_type": "stream",
     "text": [
      "RMSE: 153.730\n"
     ]
    }
   ],
   "source": [
    "# Root Meam Square Error (RMSE)\n",
    "rmse = sqrt(1/len(inv_y)* sum((inv_y - inv_yhat) ** 2 ))\n",
    "print('RMSE: %.3f' % rmse)"
   ]
  },
  {
   "cell_type": "markdown",
   "metadata": {},
   "source": [
    "The R2, NSE and RMSE calculated were respectively 0.951, 0.933 and 153.730. This confirms the fact that the LSTM model is overall good at simulating discharge in general and particularly at the outlet of the Ansongo-Niamey basin."
   ]
  },
  {
   "cell_type": "code",
   "execution_count": 41,
   "metadata": {},
   "outputs": [],
   "source": [
    "# convert lstm data from list csv\n",
    "lstm_loss = pd.DataFrame(list(zip(history.history['loss'], history.history['val_loss'])), \n",
    "                         columns = ['lstm_loss', 'lstm_val_loss'])\n",
    "lstm_prediction = pd.DataFrame(inv_yhat, columns = ['lstm_prediction'])"
   ]
  },
  {
   "cell_type": "code",
   "execution_count": 42,
   "metadata": {},
   "outputs": [],
   "source": [
    "#save lstm data to csv\n",
    "lstm_loss.to_csv('./model_data/lstm_loss.csv', index=False)\n",
    "lstm_prediction.to_csv('./model_data/lstm_prediction.csv', index=False)"
   ]
  }
 ],
 "metadata": {
  "colab": {
   "collapsed_sections": [],
   "name": "model_test3.ipynb",
   "provenance": []
  },
  "kernelspec": {
   "display_name": "Python 3",
   "language": "python",
   "name": "python3"
  },
  "language_info": {
   "codemirror_mode": {
    "name": "ipython",
    "version": 3
   },
   "file_extension": ".py",
   "mimetype": "text/x-python",
   "name": "python",
   "nbconvert_exporter": "python",
   "pygments_lexer": "ipython3",
   "version": "3.9.2"
  }
 },
 "nbformat": 4,
 "nbformat_minor": 1
}
