{
 "cells": [
  {
   "cell_type": "code",
   "execution_count": 1,
   "id": "forced-zoning",
   "metadata": {},
   "outputs": [],
   "source": [
    "# import libraries\n",
    "import glob\n",
    "import numpy as np\n",
    "import pandas as pd\n",
    "import xarray as xr\n",
    "import netCDF4"
   ]
  },
  {
   "cell_type": "code",
   "execution_count": 2,
   "id": "dominant-harvest",
   "metadata": {},
   "outputs": [],
   "source": [
    "# create list of days from netcdf names\n",
    "all_days_pr = []\n",
    "for file in glob.glob('./climate_data/Precipitation/rr_mrg_*.nc'):\n",
    "    all_days_pr.append(file[23:31])\n",
    "\n",
    "# concatenate all files of pr\n",
    "pr = xr.concat([xr.open_dataset(f) for f in glob.glob('./climate_data/Precipitation/rr_mrg_*.nc')], pd.Index(all_days_pr, name=\"time\"))\n",
    "\n",
    "# extract to netcdf\n",
    "pr.to_netcdf('./climate_data/pr.nc')"
   ]
  },
  {
   "cell_type": "code",
   "execution_count": 3,
   "id": "blocked-looking",
   "metadata": {},
   "outputs": [],
   "source": [
    "# for tmax\n",
    "all_days_tmax = []\n",
    "for file in glob.glob('./climate_data/Tmax/tmax_mrg_*.nc'):\n",
    "    all_days_tmax.append(file[16:24])\n",
    "all_days_tmax\n",
    "\n",
    "# concatenate all files of tmax\n",
    "tmax = xr.concat([xr.open_dataset(f) for f in glob.glob('./climate_data/Tmax/tmax_mrg_*.nc')], pd.Index(all_days_tmax, name=\"time\"))\n",
    "\n",
    "# extract to netcdf\n",
    "tmax.to_netcdf('./climate_data/tmax.nc')"
   ]
  },
  {
   "cell_type": "code",
   "execution_count": 4,
   "id": "under-process",
   "metadata": {},
   "outputs": [],
   "source": [
    "# for tmin\n",
    "all_days_tmin = []\n",
    "for file in glob.glob('./climate_data/Tmin/tmin_mrg_*.nc'):\n",
    "    all_days_tmin.append(file[16:24])\n",
    "all_days_tmin\n",
    "\n",
    "# concatenate all files of tmin\n",
    "tmin = xr.concat([xr.open_dataset(f) for f in glob.glob('./climate_data/Tmin/tmin_mrg_*.nc')], pd.Index(all_days_tmin, name=\"time\"))\n",
    "\n",
    "# extract to netcdf\n",
    "tmin.to_netcdf('./climate_data/tmin.nc')"
   ]
  },
  {
   "cell_type": "code",
   "execution_count": 5,
   "id": "domestic-footwear",
   "metadata": {},
   "outputs": [],
   "source": [
    "# calculate mean of variable in area\n",
    "pr_fieldmean = pr.groupby(\"time\").mean([\"Lat\", \"Lon\"])\n",
    "tmax_fieldmean = tmax.groupby(\"time\").mean([\"Lat\", \"Lon\"])\n",
    "tmin_fieldmean = tmin.groupby(\"time\").mean([\"Lat\", \"Lon\"])\n",
    "\n",
    "# extract to csv\n",
    "pr_fieldmean = pr_fieldmean['precip']  \n",
    "pr_fieldmean.to_pandas().to_csv('./climate_data/pr_fieldmean.csv')\n",
    "\n",
    "tmax_fieldmean = tmax_fieldmean['temp']  \n",
    "tmax_fieldmean.to_pandas().to_csv('./climate_data/tmax_fieldmean.csv')\n",
    "\n",
    "tmin_fieldmean = tmin_fieldmean['temp']  \n",
    "tmin_fieldmean.to_pandas().to_csv('./climate_data/tmin_fieldmean.csv')"
   ]
  },
  {
   "cell_type": "code",
   "execution_count": 6,
   "id": "prepared-particular",
   "metadata": {},
   "outputs": [
    {
     "name": "stdout",
     "output_type": "stream",
     "text": [
      "{'Lon': <class 'netCDF4._netCDF4.Dimension'>: name = 'Lon', size = 18, 'Lat': <class 'netCDF4._netCDF4.Dimension'>: name = 'Lat', size = 20, 'time': <class 'netCDF4._netCDF4.Dimension'>: name = 'time', size = 12783}\n"
     ]
    }
   ],
   "source": [
    "# check netcdf files\n",
    "# open data with netcdf4 module\n",
    "nc = netCDF4.Dataset('./climate_data/pr.nc')\n",
    "print(nc.dimensions)"
   ]
  }
 ],
 "metadata": {
  "kernelspec": {
   "display_name": "Python 3",
   "language": "python",
   "name": "python3"
  },
  "language_info": {
   "codemirror_mode": {
    "name": "ipython",
    "version": 3
   },
   "file_extension": ".py",
   "mimetype": "text/x-python",
   "name": "python",
   "nbconvert_exporter": "python",
   "pygments_lexer": "ipython3",
   "version": "3.9.2"
  }
 },
 "nbformat": 4,
 "nbformat_minor": 5
}
