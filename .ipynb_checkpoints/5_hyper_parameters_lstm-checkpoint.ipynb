{
 "cells": [
  {
   "cell_type": "markdown",
   "id": "0cef3ed3",
   "metadata": {},
   "source": [
    "## Imports "
   ]
  },
  {
   "cell_type": "code",
   "execution_count": 1,
   "id": "68da50b3",
   "metadata": {},
   "outputs": [],
   "source": [
    "# import libraries\n",
    "import math\n",
    "import numpy as np\n",
    "import pandas as pd\n",
    "import matplotlib.pyplot as plt\n",
    "import tensorflow as tf\n",
    "%matplotlib inline"
   ]
  },
  {
   "cell_type": "code",
   "execution_count": 2,
   "id": "98d667ae",
   "metadata": {},
   "outputs": [],
   "source": [
    "# import keras modules\n",
    "from tensorflow.keras.preprocessing.sequence import TimeseriesGenerator\n",
    "from tensorflow.keras import backend as K\n",
    "from tensorflow.keras.models import Sequential\n",
    "from tensorflow.keras.layers import Dense, LSTM\n",
    "from tensorflow.keras.callbacks import TensorBoard\n",
    "from tensorflow.keras.optimizers import Adam\n",
    "from tensorflow.keras.models import load_model"
   ]
  },
  {
   "cell_type": "code",
   "execution_count": 3,
   "id": "0ad4cd16",
   "metadata": {},
   "outputs": [],
   "source": [
    "# import scikit-optimize modules\n",
    "import skopt\n",
    "from sklearn.preprocessing import MinMaxScaler\n",
    "from skopt import gp_minimize, forest_minimize\n",
    "from skopt.space import Real, Integer \n",
    "from skopt.plots import plot_convergence, plot_objective, plot_evaluations, plot_histogram, plot_objective_2D \n",
    "from skopt.utils import use_named_args"
   ]
  },
  {
   "cell_type": "code",
   "execution_count": 4,
   "id": "33019266",
   "metadata": {},
   "outputs": [
    {
     "name": "stdout",
     "output_type": "stream",
     "text": [
      "Tensorflow: 2.4.1\n",
      "Keras: 2.4.0\n",
      "Skop: 0.8.1\n"
     ]
    }
   ],
   "source": [
    "# check versions of libraries\n",
    "print(\"Tensorflow: \" + tf.__version__)\n",
    "print(\"Keras: \" + tf.keras.__version__)\n",
    "print(\"Skop: \" + skopt.__version__)"
   ]
  },
  {
   "cell_type": "markdown",
   "id": "0cfecd85",
   "metadata": {},
   "source": [
    "## Hyper parameter optimization"
   ]
  },
  {
   "cell_type": "markdown",
   "id": "570347ca",
   "metadata": {},
   "source": [
    "Hyperparameter optimization refers to performing a search to discover the set of specific model configuration arguments that result in the best performance of the model on a specific dataset.\n",
    "\n",
    "There are many ways to perform hyperparameter optimization, although modern methods, such as Bayesian optimization, are fast and effective. The Scikit-Optimize (skop) library is an opensource Python library that provides an implementation of Bayesian Optimization that can be used to tune the hyperparameters of machine learning models from the scikit-learn Python library. Bayesian optimization is an efficient optimization algorithm based on Bayes Theorem capable of finding the minimum or maximum of arbitrary cost functions.\n",
    "\n",
    "In our case, the goal was to minimize the cost function of the LSTM model. The selected LSTM network's parameters to optimize were the learning rate, the number of LSTM units, the dimension of epochs and the batch size. The idea is that we have a true fitness function (the performance of a neural network on some dataset) and we want to find the minimum. To find out how the NN performs with a given set of hyperparameters, we need to train the network. A model called the Gaussain Process is built. The search starts with the initial values of the hyperparameters. At the early optimization phase, the search is explored more and in the later phase, the search is focused on the best regions found. At the end of the process, we would get a set of hyperparameters corresponding to the minimal validation loss."
   ]
  },
  {
   "cell_type": "markdown",
   "id": "66c1ef06",
   "metadata": {},
   "source": [
    "![Hyperparameter optimization process](./images/bayesian_optimization_lstm.png)"
   ]
  },
  {
   "cell_type": "code",
   "execution_count": 5,
   "id": "cddcbe84",
   "metadata": {},
   "outputs": [],
   "source": [
    "# set hyper-parameters\n",
    "# learning rate\n",
    "dim_learning_rate = Real(low=1e-3, high=1, prior='log-uniform', name='learning_rate')\n",
    "\n",
    "# number of lstm layers\n",
    "dim_num_lstm_units = Integer(low=1, high=500, name='num_lstm_units')\n",
    "\n",
    "# number of epochs\n",
    "dim_num_epochs = Integer(low=1, high=500, name='num_epochs')\n",
    "\n",
    "# number of batch size\n",
    "dim_num_batch_size = Integer(low=1, high=500, name='num_batch_size')"
   ]
  },
  {
   "cell_type": "code",
   "execution_count": 6,
   "id": "e1a1f38b",
   "metadata": {},
   "outputs": [],
   "source": [
    "# combine hyper-parameters\n",
    "dimensions = [dim_learning_rate, dim_num_lstm_units, dim_num_epochs, dim_num_batch_size]"
   ]
  },
  {
   "cell_type": "code",
   "execution_count": 7,
   "id": "6c9d08dd",
   "metadata": {},
   "outputs": [],
   "source": [
    "# set default parameter values\n",
    "default_parameters = [1e-2, 100, 100, 100]"
   ]
  },
  {
   "cell_type": "code",
   "execution_count": 8,
   "id": "a4ac7eae",
   "metadata": {},
   "outputs": [],
   "source": [
    "# define a helper-function for log-dir-name\n",
    "def log_dir_name(learning_rate, num_lstm_units,\n",
    "                 num_epochs, num_batch_size):\n",
    "\n",
    "    # the dir-name for the TensorBoard log-dir\n",
    "    s = \"./5_logs/lr_{0:.0e}_lstm_{1}_epochs_{2}_batch_{3}/\"\n",
    "\n",
    "    # insert all the hyper-parameters in the dir-name\n",
    "    log_dir = s.format(learning_rate,\n",
    "                       num_lstm_units,\n",
    "                       num_epochs,\n",
    "                       num_batch_size)\n",
    "\n",
    "    return log_dir"
   ]
  },
  {
   "cell_type": "code",
   "execution_count": 9,
   "id": "4ba9696c",
   "metadata": {},
   "outputs": [],
   "source": [
    "# load data\n",
    "df = pd.read_csv('./model_data/model_data_interpolated.csv')"
   ]
  },
  {
   "cell_type": "code",
   "execution_count": 10,
   "id": "70048e53",
   "metadata": {},
   "outputs": [],
   "source": [
    "# drop time column\n",
    "date_time = pd.to_datetime(df.pop('Date'), format='%Y-%m-%d') #or infer_datetime_format=True"
   ]
  },
  {
   "cell_type": "code",
   "execution_count": 11,
   "id": "94ebc7ac",
   "metadata": {},
   "outputs": [],
   "source": [
    "# select values of dataframe\n",
    "values = df.values"
   ]
  },
  {
   "cell_type": "code",
   "execution_count": 12,
   "id": "174079c0",
   "metadata": {},
   "outputs": [],
   "source": [
    "# rescale data between 0 and 1\n",
    "scaler = MinMaxScaler(feature_range=(0, 1))\n",
    "scaled = scaler.fit_transform(values)"
   ]
  },
  {
   "cell_type": "code",
   "execution_count": 13,
   "id": "a20dc455",
   "metadata": {},
   "outputs": [],
   "source": [
    "# function to transform time series to supervised learning series\n",
    "from pandas import DataFrame\n",
    "from pandas import concat\n",
    "\n",
    "def series_to_supervised(data, n_in=1, n_out=1, dropnan=True):\n",
    "    \"\"\"\n",
    "    Frame a time series as a supervised learning dataset.\n",
    "    Arguments:\n",
    "        data: Sequence of observations as a list or NumPy array.\n",
    "        n_in: Number of lag observations as input (X).\n",
    "        n_out: Number of observations as output (y).\n",
    "        dropnan: Boolean whether or not to drop rows with NaN values.\n",
    "    Returns:\n",
    "        Pandas DataFrame of series framed for supervised learning.\n",
    "    \"\"\"\n",
    "    n_vars = 1 if type(data) is list else data.shape[1]\n",
    "    df = DataFrame(data)\n",
    "    cols, names = list(), list()\n",
    "    # input sequence (t-n, ... t-1)\n",
    "    for i in range(n_in, 0, -1):\n",
    "        cols.append(df.shift(i))\n",
    "        names += [('var%d(t-%d)' % (j+1, i)) for j in range(n_vars)]\n",
    "    # forecast sequence (t, t+1, ... t+n)\n",
    "    for i in range(0, n_out):\n",
    "        cols.append(df.shift(-i))\n",
    "        if i == 0:\n",
    "            names += [('var%d(t)' % (j+1)) for j in range(n_vars)]\n",
    "        else:\n",
    "            names += [('var%d(t+%d)' % (j+1, i)) for j in range(n_vars)]\n",
    "    # put it all together\n",
    "    agg = concat(cols, axis=1)\n",
    "    agg.columns = names\n",
    "    # drop rows with NaN values\n",
    "    if dropnan:\n",
    "        agg.dropna(inplace=True)\n",
    "    return agg"
   ]
  },
  {
   "cell_type": "code",
   "execution_count": 14,
   "id": "6bf558ad",
   "metadata": {},
   "outputs": [],
   "source": [
    "# using function above\n",
    "reframed = series_to_supervised(scaled, 1, 1)"
   ]
  },
  {
   "cell_type": "code",
   "execution_count": 15,
   "id": "3968199c",
   "metadata": {},
   "outputs": [],
   "source": [
    "# drop columns we don't want to predict\n",
    "reframed.drop(reframed.columns[[5,6,7,8,9,10]], axis=1, inplace=True)"
   ]
  },
  {
   "cell_type": "code",
   "execution_count": 16,
   "id": "3cc265c3",
   "metadata": {},
   "outputs": [],
   "source": [
    "# split into train, val and test sets\n",
    "values = reframed.values\n",
    "\n",
    "n_train_years = 7305 # days in 20 years for training\n",
    "n_val_years = 9131 - n_train_years # days in 5 years for validating\n",
    "n_val_sum = n_train_years + n_val_years\n",
    "\n",
    "train = values[:n_train_years, :]\n",
    "val = values[n_train_years:n_val_sum, :]\n",
    "test = values[n_val_sum:, :]"
   ]
  },
  {
   "cell_type": "code",
   "execution_count": 17,
   "id": "f1e99d50",
   "metadata": {},
   "outputs": [],
   "source": [
    "# split into input and outputs\n",
    "x_train, y_train = train[:, :-1], train[:, -1]\n",
    "x_val, y_val = val[:, :-1], val[:, -1]\n",
    "x_test, y_test = test[:, :-1], test[:, -1]"
   ]
  },
  {
   "cell_type": "code",
   "execution_count": 18,
   "id": "f07a5a8c",
   "metadata": {},
   "outputs": [
    {
     "name": "stdout",
     "output_type": "stream",
     "text": [
      "(7305, 1, 5) (7305,) (1826, 1, 5) (1826,) (1674, 1, 5) (1674,)\n"
     ]
    }
   ],
   "source": [
    "# reshape input to be 3D [samples, timesteps, features]\n",
    "x_train = x_train.reshape((x_train.shape[0], 1, x_train.shape[1]))\n",
    "x_val = x_val.reshape((x_val.shape[0], 1, x_val.shape[1]))\n",
    "x_test = x_test.reshape((x_test.shape[0], 1, x_test.shape[1]))\n",
    "print(x_train.shape, y_train.shape, x_val.shape, y_val.shape, x_test.shape, y_test.shape)"
   ]
  },
  {
   "cell_type": "code",
   "execution_count": 19,
   "id": "8876cc10",
   "metadata": {},
   "outputs": [],
   "source": [
    "def create_model(learning_rate, num_lstm_units, num_batch_size, num_epochs):\n",
    "    \n",
    "    \"\"\"\n",
    "    Hyper-parameters:\n",
    "    learning_rate:     Learning-rate for the optimizer.\n",
    "    num_lstm_units:    Number of lstm units.\n",
    "    num_epochs:        Number of epochs.\n",
    "    num_batch_size:    Batch size of model.\n",
    "    \"\"\"\n",
    "                       \n",
    "    model = Sequential()\n",
    "    \n",
    "    model.add(LSTM(units=num_lstm_units, input_shape=(x_train.shape[1], x_train.shape[2])))\n",
    "    model.add(Dense(units=1))\n",
    "\n",
    "    optimizer = Adam(lr=learning_rate)\n",
    "    model.compile(optimizer=optimizer, loss='mse', metrics=['mae'])\n",
    "    \n",
    "    return model"
   ]
  },
  {
   "cell_type": "code",
   "execution_count": 20,
   "id": "b034c411",
   "metadata": {},
   "outputs": [],
   "source": [
    "# save network with best hyper-parameters\n",
    "path_best_model = '5_best_model.h5'"
   ]
  },
  {
   "cell_type": "code",
   "execution_count": 21,
   "id": "df192da1",
   "metadata": {},
   "outputs": [],
   "source": [
    "# set regression loss\n",
    "best_loss = float('inf')"
   ]
  },
  {
   "cell_type": "code",
   "execution_count": 22,
   "id": "f470b717",
   "metadata": {},
   "outputs": [],
   "source": [
    "# Define function that creates and trains a neural network with the given hyper-parameters\n",
    "# and then evaluates its performance on the validation-set\n",
    "@use_named_args(dimensions=dimensions)\n",
    "def fitness(learning_rate, num_lstm_units, num_epochs, num_batch_size):\n",
    "    \n",
    "    \"\"\"\n",
    "    Hyper-parameters:\n",
    "    learning_rate:     Learning-rate for the optimizer.\n",
    "    num_lstm_units:    Number of lstm units.\n",
    "    num_epochs:        Number of epochs.\n",
    "    num_batch_size:    Batch size of model.\n",
    "    \"\"\"\n",
    "\n",
    "    # Print the hyper-parameters.\n",
    "    print('learning rate: {0:.1e}'.format(learning_rate))\n",
    "    print('num_lstm_units:', num_lstm_units)\n",
    "    print('num_epochs:', num_epochs)\n",
    "    print('num_batch_size:', num_batch_size)\n",
    "    print()\n",
    "    \n",
    "    # Create the neural network with these hyper-parameters.\n",
    "    model = create_model(learning_rate=learning_rate,\n",
    "                         num_lstm_units=num_lstm_units,\n",
    "                         num_epochs=num_epochs,\n",
    "                         num_batch_size=num_batch_size)\n",
    "\n",
    "    # Dir-name for the TensorBoard log-files.\n",
    "    log_dir = log_dir_name(learning_rate, num_lstm_units,\n",
    "                           num_epochs, num_batch_size)\n",
    "    \n",
    "    # Create a callback-function for Keras which will be\n",
    "    # run after each epoch has ended during training.\n",
    "    # This saves the log-files for TensorBoard.\n",
    "    # Note that there are complications when histogram_freq=1.\n",
    "    # It might give strange errors and it also does not properly\n",
    "    # support Keras data-generators for the validation-set.\n",
    "    callback_log = TensorBoard(\n",
    "        log_dir=log_dir,\n",
    "        histogram_freq=0,\n",
    "        write_graph=True,\n",
    "        write_grads=False,\n",
    "        write_images=False)\n",
    "   \n",
    "    # Use Keras to train the model.\n",
    "    history = model.fit(x=x_train,\n",
    "                        y=y_train,\n",
    "                        epochs=num_epochs,\n",
    "                        batch_size=num_batch_size,\n",
    "                        validation_data=(x_val, y_val),\n",
    "                        verbose=2, \n",
    "                        shuffle=False,\n",
    "                        callbacks=[callback_log])\n",
    "\n",
    "    # Get the loss on the validation-set\n",
    "    # after the last training-epoch.\n",
    "    val_loss = history.history['val_loss'][-1]\n",
    "\n",
    "    # print the classification accuracy.\n",
    "    print()\n",
    "    print(\"Loss: {0:.2%}\".format(val_loss))\n",
    "    print()\n",
    "\n",
    "    # Save the model if it improves on the best-found performance.\n",
    "    # We use the global keyword so we update the variable outside\n",
    "    # of this function.\n",
    "    global best_loss\n",
    "\n",
    "    # if the loss of the saved model is improved ...\n",
    "    if val_loss < best_loss:\n",
    "        # Save the new model to harddisk.\n",
    "        model.save(path_best_model)\n",
    "        \n",
    "        # Update the loss.\n",
    "        best_loss = val_loss\n",
    "\n",
    "    # Delete the Keras model with these hyper-parameters from memory.\n",
    "    del model\n",
    "    \n",
    "    # Clear the Keras session, otherwise it will keep adding new\n",
    "    # models to the same TensorFlow graph each time we create\n",
    "    # a model with a different set of hyper-parameters.\n",
    "    K.clear_session()\n",
    "    \n",
    "    # find a set of hyper-parameters with the LOWEST fitness-value\n",
    "    return val_loss"
   ]
  },
  {
   "cell_type": "code",
   "execution_count": 23,
   "id": "1e0b2db7",
   "metadata": {
    "scrolled": true
   },
   "outputs": [
    {
     "name": "stdout",
     "output_type": "stream",
     "text": [
      "learning rate: 1.0e-02\n",
      "num_lstm_units: 100\n",
      "num_epochs: 100\n",
      "num_batch_size: 100\n",
      "\n",
      "Epoch 1/100\n",
      "74/74 - 5s - loss: 0.0250 - mae: 0.1074 - val_loss: 0.0110 - val_mae: 0.0880\n",
      "Epoch 2/100\n",
      "74/74 - 0s - loss: 0.0066 - mae: 0.0581 - val_loss: 0.0075 - val_mae: 0.0642\n",
      "Epoch 3/100\n",
      "74/74 - 0s - loss: 0.0052 - mae: 0.0506 - val_loss: 0.0070 - val_mae: 0.0587\n",
      "Epoch 4/100\n",
      "74/74 - 1s - loss: 0.0045 - mae: 0.0459 - val_loss: 0.0071 - val_mae: 0.0601\n",
      "Epoch 5/100\n",
      "74/74 - 0s - loss: 0.0040 - mae: 0.0427 - val_loss: 0.0073 - val_mae: 0.0615\n",
      "Epoch 6/100\n",
      "74/74 - 0s - loss: 0.0037 - mae: 0.0409 - val_loss: 0.0074 - val_mae: 0.0622\n",
      "Epoch 7/100\n",
      "74/74 - 0s - loss: 0.0035 - mae: 0.0399 - val_loss: 0.0074 - val_mae: 0.0623\n",
      "Epoch 8/100\n",
      "74/74 - 0s - loss: 0.0034 - mae: 0.0392 - val_loss: 0.0073 - val_mae: 0.0621\n",
      "Epoch 9/100\n",
      "74/74 - 0s - loss: 0.0033 - mae: 0.0387 - val_loss: 0.0073 - val_mae: 0.0619\n",
      "Epoch 10/100\n",
      "74/74 - 0s - loss: 0.0032 - mae: 0.0383 - val_loss: 0.0072 - val_mae: 0.0616\n",
      "Epoch 11/100\n",
      "74/74 - 0s - loss: 0.0032 - mae: 0.0380 - val_loss: 0.0072 - val_mae: 0.0612\n",
      "Epoch 12/100\n",
      "74/74 - 0s - loss: 0.0032 - mae: 0.0377 - val_loss: 0.0071 - val_mae: 0.0609\n",
      "Epoch 13/100\n",
      "74/74 - 0s - loss: 0.0031 - mae: 0.0375 - val_loss: 0.0070 - val_mae: 0.0604\n",
      "Epoch 14/100\n",
      "74/74 - 0s - loss: 0.0031 - mae: 0.0373 - val_loss: 0.0069 - val_mae: 0.0600\n",
      "Epoch 15/100\n",
      "74/74 - 0s - loss: 0.0031 - mae: 0.0372 - val_loss: 0.0068 - val_mae: 0.0594\n",
      "Epoch 16/100\n",
      "74/74 - 0s - loss: 0.0031 - mae: 0.0371 - val_loss: 0.0067 - val_mae: 0.0588\n",
      "Epoch 17/100\n",
      "74/74 - 0s - loss: 0.0031 - mae: 0.0369 - val_loss: 0.0066 - val_mae: 0.0581\n",
      "Epoch 18/100\n",
      "74/74 - 0s - loss: 0.0031 - mae: 0.0368 - val_loss: 0.0064 - val_mae: 0.0573\n",
      "Epoch 19/100\n",
      "74/74 - 0s - loss: 0.0031 - mae: 0.0367 - val_loss: 0.0063 - val_mae: 0.0565\n",
      "Epoch 20/100\n",
      "74/74 - 0s - loss: 0.0030 - mae: 0.0366 - val_loss: 0.0062 - val_mae: 0.0556\n",
      "Epoch 21/100\n",
      "74/74 - 0s - loss: 0.0030 - mae: 0.0365 - val_loss: 0.0060 - val_mae: 0.0547\n",
      "Epoch 22/100\n",
      "74/74 - 0s - loss: 0.0030 - mae: 0.0364 - val_loss: 0.0059 - val_mae: 0.0537\n",
      "Epoch 23/100\n",
      "74/74 - 0s - loss: 0.0030 - mae: 0.0363 - val_loss: 0.0057 - val_mae: 0.0526\n",
      "Epoch 24/100\n",
      "74/74 - 0s - loss: 0.0030 - mae: 0.0362 - val_loss: 0.0056 - val_mae: 0.0516\n",
      "Epoch 25/100\n",
      "74/74 - 0s - loss: 0.0030 - mae: 0.0361 - val_loss: 0.0054 - val_mae: 0.0506\n",
      "Epoch 26/100\n",
      "74/74 - 0s - loss: 0.0030 - mae: 0.0360 - val_loss: 0.0053 - val_mae: 0.0496\n",
      "Epoch 27/100\n",
      "74/74 - 0s - loss: 0.0030 - mae: 0.0359 - val_loss: 0.0051 - val_mae: 0.0487\n",
      "Epoch 28/100\n",
      "74/74 - 0s - loss: 0.0030 - mae: 0.0357 - val_loss: 0.0050 - val_mae: 0.0478\n",
      "Epoch 29/100\n",
      "74/74 - 0s - loss: 0.0029 - mae: 0.0356 - val_loss: 0.0049 - val_mae: 0.0471\n",
      "Epoch 30/100\n",
      "74/74 - 0s - loss: 0.0029 - mae: 0.0355 - val_loss: 0.0048 - val_mae: 0.0464\n",
      "Epoch 31/100\n",
      "74/74 - 0s - loss: 0.0029 - mae: 0.0354 - val_loss: 0.0048 - val_mae: 0.0459\n",
      "Epoch 32/100\n",
      "74/74 - 0s - loss: 0.0029 - mae: 0.0352 - val_loss: 0.0047 - val_mae: 0.0455\n",
      "Epoch 33/100\n",
      "74/74 - 0s - loss: 0.0029 - mae: 0.0351 - val_loss: 0.0046 - val_mae: 0.0453\n",
      "Epoch 34/100\n",
      "74/74 - 0s - loss: 0.0029 - mae: 0.0349 - val_loss: 0.0046 - val_mae: 0.0451\n",
      "Epoch 35/100\n",
      "74/74 - 0s - loss: 0.0028 - mae: 0.0348 - val_loss: 0.0045 - val_mae: 0.0450\n",
      "Epoch 36/100\n",
      "74/74 - 0s - loss: 0.0028 - mae: 0.0347 - val_loss: 0.0045 - val_mae: 0.0449\n",
      "Epoch 37/100\n",
      "74/74 - 0s - loss: 0.0028 - mae: 0.0345 - val_loss: 0.0045 - val_mae: 0.0449\n",
      "Epoch 38/100\n",
      "74/74 - 0s - loss: 0.0028 - mae: 0.0344 - val_loss: 0.0044 - val_mae: 0.0450\n",
      "Epoch 39/100\n",
      "74/74 - 0s - loss: 0.0028 - mae: 0.0343 - val_loss: 0.0044 - val_mae: 0.0450\n",
      "Epoch 40/100\n",
      "74/74 - 0s - loss: 0.0028 - mae: 0.0342 - val_loss: 0.0044 - val_mae: 0.0451\n",
      "Epoch 41/100\n",
      "74/74 - 0s - loss: 0.0028 - mae: 0.0341 - val_loss: 0.0044 - val_mae: 0.0451\n",
      "Epoch 42/100\n",
      "74/74 - 0s - loss: 0.0027 - mae: 0.0340 - val_loss: 0.0044 - val_mae: 0.0452\n",
      "Epoch 43/100\n",
      "74/74 - 0s - loss: 0.0027 - mae: 0.0339 - val_loss: 0.0044 - val_mae: 0.0453\n",
      "Epoch 44/100\n",
      "74/74 - 0s - loss: 0.0027 - mae: 0.0338 - val_loss: 0.0043 - val_mae: 0.0453\n",
      "Epoch 45/100\n",
      "74/74 - 0s - loss: 0.0027 - mae: 0.0337 - val_loss: 0.0043 - val_mae: 0.0454\n",
      "Epoch 46/100\n",
      "74/74 - 0s - loss: 0.0027 - mae: 0.0336 - val_loss: 0.0043 - val_mae: 0.0454\n",
      "Epoch 47/100\n",
      "74/74 - 0s - loss: 0.0027 - mae: 0.0335 - val_loss: 0.0043 - val_mae: 0.0454\n",
      "Epoch 48/100\n",
      "74/74 - 0s - loss: 0.0027 - mae: 0.0334 - val_loss: 0.0043 - val_mae: 0.0454\n",
      "Epoch 49/100\n",
      "74/74 - 0s - loss: 0.0027 - mae: 0.0333 - val_loss: 0.0043 - val_mae: 0.0455\n",
      "Epoch 50/100\n",
      "74/74 - 0s - loss: 0.0026 - mae: 0.0332 - val_loss: 0.0043 - val_mae: 0.0455\n",
      "Epoch 51/100\n",
      "74/74 - 0s - loss: 0.0026 - mae: 0.0332 - val_loss: 0.0043 - val_mae: 0.0455\n",
      "Epoch 52/100\n",
      "74/74 - 0s - loss: 0.0026 - mae: 0.0331 - val_loss: 0.0043 - val_mae: 0.0454\n",
      "Epoch 53/100\n",
      "74/74 - 0s - loss: 0.0026 - mae: 0.0330 - val_loss: 0.0043 - val_mae: 0.0454\n",
      "Epoch 54/100\n",
      "74/74 - 0s - loss: 0.0026 - mae: 0.0330 - val_loss: 0.0043 - val_mae: 0.0453\n",
      "Epoch 55/100\n",
      "74/74 - 0s - loss: 0.0026 - mae: 0.0329 - val_loss: 0.0043 - val_mae: 0.0453\n",
      "Epoch 56/100\n",
      "74/74 - 0s - loss: 0.0026 - mae: 0.0329 - val_loss: 0.0043 - val_mae: 0.0452\n",
      "Epoch 57/100\n",
      "74/74 - 0s - loss: 0.0026 - mae: 0.0328 - val_loss: 0.0043 - val_mae: 0.0452\n",
      "Epoch 58/100\n",
      "74/74 - 0s - loss: 0.0026 - mae: 0.0327 - val_loss: 0.0043 - val_mae: 0.0452\n",
      "Epoch 59/100\n",
      "74/74 - 0s - loss: 0.0025 - mae: 0.0326 - val_loss: 0.0043 - val_mae: 0.0451\n",
      "Epoch 60/100\n",
      "74/74 - 0s - loss: 0.0025 - mae: 0.0326 - val_loss: 0.0042 - val_mae: 0.0451\n",
      "Epoch 61/100\n",
      "74/74 - 0s - loss: 0.0025 - mae: 0.0325 - val_loss: 0.0042 - val_mae: 0.0450\n",
      "Epoch 62/100\n",
      "74/74 - 0s - loss: 0.0025 - mae: 0.0324 - val_loss: 0.0042 - val_mae: 0.0449\n",
      "Epoch 63/100\n",
      "74/74 - 0s - loss: 0.0025 - mae: 0.0323 - val_loss: 0.0042 - val_mae: 0.0448\n",
      "Epoch 64/100\n",
      "74/74 - 0s - loss: 0.0025 - mae: 0.0323 - val_loss: 0.0042 - val_mae: 0.0448\n",
      "Epoch 65/100\n",
      "74/74 - 0s - loss: 0.0025 - mae: 0.0322 - val_loss: 0.0042 - val_mae: 0.0447\n",
      "Epoch 66/100\n",
      "74/74 - 0s - loss: 0.0025 - mae: 0.0322 - val_loss: 0.0042 - val_mae: 0.0446\n",
      "Epoch 67/100\n",
      "74/74 - 0s - loss: 0.0025 - mae: 0.0321 - val_loss: 0.0042 - val_mae: 0.0445\n",
      "Epoch 68/100\n",
      "74/74 - 0s - loss: 0.0025 - mae: 0.0321 - val_loss: 0.0042 - val_mae: 0.0445\n",
      "Epoch 69/100\n",
      "74/74 - 0s - loss: 0.0024 - mae: 0.0320 - val_loss: 0.0042 - val_mae: 0.0444\n",
      "Epoch 70/100\n",
      "74/74 - 0s - loss: 0.0024 - mae: 0.0319 - val_loss: 0.0042 - val_mae: 0.0444\n",
      "Epoch 71/100\n",
      "74/74 - 0s - loss: 0.0024 - mae: 0.0319 - val_loss: 0.0042 - val_mae: 0.0443\n",
      "Epoch 72/100\n",
      "74/74 - 0s - loss: 0.0024 - mae: 0.0318 - val_loss: 0.0042 - val_mae: 0.0442\n",
      "Epoch 73/100\n",
      "74/74 - 0s - loss: 0.0024 - mae: 0.0317 - val_loss: 0.0042 - val_mae: 0.0441\n",
      "Epoch 74/100\n",
      "74/74 - 0s - loss: 0.0024 - mae: 0.0317 - val_loss: 0.0042 - val_mae: 0.0441\n",
      "Epoch 75/100\n",
      "74/74 - 0s - loss: 0.0024 - mae: 0.0316 - val_loss: 0.0042 - val_mae: 0.0440\n",
      "Epoch 76/100\n",
      "74/74 - 1s - loss: 0.0024 - mae: 0.0316 - val_loss: 0.0042 - val_mae: 0.0439\n",
      "Epoch 77/100\n",
      "74/74 - 1s - loss: 0.0024 - mae: 0.0316 - val_loss: 0.0042 - val_mae: 0.0439\n",
      "Epoch 78/100\n",
      "74/74 - 1s - loss: 0.0024 - mae: 0.0315 - val_loss: 0.0042 - val_mae: 0.0438\n",
      "Epoch 79/100\n",
      "74/74 - 0s - loss: 0.0024 - mae: 0.0315 - val_loss: 0.0042 - val_mae: 0.0437\n",
      "Epoch 80/100\n",
      "74/74 - 0s - loss: 0.0024 - mae: 0.0314 - val_loss: 0.0041 - val_mae: 0.0437\n",
      "Epoch 81/100\n",
      "74/74 - 0s - loss: 0.0024 - mae: 0.0314 - val_loss: 0.0041 - val_mae: 0.0436\n",
      "Epoch 82/100\n",
      "74/74 - 0s - loss: 0.0023 - mae: 0.0313 - val_loss: 0.0041 - val_mae: 0.0436\n",
      "Epoch 83/100\n",
      "74/74 - 0s - loss: 0.0023 - mae: 0.0313 - val_loss: 0.0041 - val_mae: 0.0435\n",
      "Epoch 84/100\n",
      "74/74 - 0s - loss: 0.0023 - mae: 0.0312 - val_loss: 0.0041 - val_mae: 0.0435\n",
      "Epoch 85/100\n",
      "74/74 - 0s - loss: 0.0023 - mae: 0.0312 - val_loss: 0.0041 - val_mae: 0.0434\n",
      "Epoch 86/100\n",
      "74/74 - 1s - loss: 0.0023 - mae: 0.0312 - val_loss: 0.0041 - val_mae: 0.0434\n",
      "Epoch 87/100\n",
      "74/74 - 0s - loss: 0.0023 - mae: 0.0311 - val_loss: 0.0041 - val_mae: 0.0433\n",
      "Epoch 88/100\n",
      "74/74 - 0s - loss: 0.0023 - mae: 0.0311 - val_loss: 0.0041 - val_mae: 0.0433\n",
      "Epoch 89/100\n",
      "74/74 - 0s - loss: 0.0023 - mae: 0.0311 - val_loss: 0.0041 - val_mae: 0.0432\n",
      "Epoch 90/100\n",
      "74/74 - 0s - loss: 0.0023 - mae: 0.0310 - val_loss: 0.0041 - val_mae: 0.0432\n",
      "Epoch 91/100\n",
      "74/74 - 0s - loss: 0.0023 - mae: 0.0310 - val_loss: 0.0041 - val_mae: 0.0432\n"
     ]
    },
    {
     "name": "stdout",
     "output_type": "stream",
     "text": [
      "Epoch 92/100\n",
      "74/74 - 0s - loss: 0.0023 - mae: 0.0310 - val_loss: 0.0041 - val_mae: 0.0431\n",
      "Epoch 93/100\n",
      "74/74 - 0s - loss: 0.0023 - mae: 0.0309 - val_loss: 0.0041 - val_mae: 0.0431\n",
      "Epoch 94/100\n",
      "74/74 - 0s - loss: 0.0023 - mae: 0.0309 - val_loss: 0.0041 - val_mae: 0.0430\n",
      "Epoch 95/100\n",
      "74/74 - 0s - loss: 0.0023 - mae: 0.0309 - val_loss: 0.0041 - val_mae: 0.0430\n",
      "Epoch 96/100\n",
      "74/74 - 0s - loss: 0.0023 - mae: 0.0309 - val_loss: 0.0041 - val_mae: 0.0430\n",
      "Epoch 97/100\n",
      "74/74 - 0s - loss: 0.0023 - mae: 0.0308 - val_loss: 0.0041 - val_mae: 0.0429\n",
      "Epoch 98/100\n",
      "74/74 - 0s - loss: 0.0023 - mae: 0.0308 - val_loss: 0.0041 - val_mae: 0.0429\n",
      "Epoch 99/100\n",
      "74/74 - 0s - loss: 0.0023 - mae: 0.0308 - val_loss: 0.0041 - val_mae: 0.0429\n",
      "Epoch 100/100\n",
      "74/74 - 0s - loss: 0.0023 - mae: 0.0308 - val_loss: 0.0041 - val_mae: 0.0428\n",
      "\n",
      "Loss: 0.41%\n",
      "\n"
     ]
    },
    {
     "data": {
      "text/plain": [
       "0.004121147561818361"
      ]
     },
     "execution_count": 23,
     "metadata": {},
     "output_type": "execute_result"
    }
   ],
   "source": [
    "# check run\n",
    "fitness(x=default_parameters)"
   ]
  },
  {
   "cell_type": "code",
   "execution_count": null,
   "id": "e8283205",
   "metadata": {},
   "outputs": [],
   "source": [
    "##### run the hyper-parameter optimization\n",
    "search_result = gp_minimize(func=fitness,\n",
    "                            dimensions=dimensions,\n",
    "                            acq_func='EI',\n",
    "                            n_calls=40,\n",
    "                            x0=default_parameters)"
   ]
  },
  {
   "cell_type": "code",
   "execution_count": 25,
   "id": "2decfd5e",
   "metadata": {},
   "outputs": [
    {
     "data": {
      "text/plain": [
       "<AxesSubplot:title={'center':'Convergence plot'}, xlabel='Number of calls $n$', ylabel='$\\\\min f(x)$ after $n$ calls'>"
      ]
     },
     "execution_count": 25,
     "metadata": {},
     "output_type": "execute_result"
    },
    {
     "data": {
      "image/png": "[encoded data removed]",
      "text/plain": [
       "<Figure size 432x288 with 1 Axes>"
      ]
     },
     "metadata": {
      "needs_background": "light"
     },
     "output_type": "display_data"
    }
   ],
   "source": [
    "# optimization progress\n",
    "plot_convergence(search_result)"
   ]
  },
  {
   "cell_type": "markdown",
   "id": "bd2d5405",
   "metadata": {},
   "source": [
    "The convergence plot shows that the loss function of the LSTM model is already pretty low from the beginning of the process. At the 22nd search, the loss function drops by around $2.10^{-5}$."
   ]
  },
  {
   "cell_type": "code",
   "execution_count": 26,
   "id": "69849c13",
   "metadata": {},
   "outputs": [
    {
     "name": "stdout",
     "output_type": "stream",
     "text": [
      "learning_rate     0.01561601307656165\n",
      "num_lstm_units    30\n",
      "num_epochs        500\n",
      "num_batch_size    128\n"
     ]
    }
   ],
   "source": [
    "# best hyper-parameters\n",
    "print('learning_rate     {}'.format(search_result.x[0]))\n",
    "print('num_lstm_units    {}'.format(search_result.x[1]))\n",
    "print('num_epochs        {}'.format(search_result.x[2]))\n",
    "print('num_batch_size    {}'.format(search_result.x[3]))"
   ]
  },
  {
   "cell_type": "code",
   "execution_count": 27,
   "id": "155fb13b",
   "metadata": {},
   "outputs": [
    {
     "name": "stdout",
     "output_type": "stream",
     "text": [
      "learning_rate     Real(low=0.001, high=1, prior='log-uniform', transform='identity')\n",
      "num_lstm_units    Integer(low=1, high=500, prior='uniform', transform='identity')\n",
      "num_epochs        Integer(low=1, high=500, prior='uniform', transform='identity')\n",
      "num_batch_size    Integer(low=1, high=500, prior='uniform', transform='identity')\n"
     ]
    }
   ],
   "source": [
    "print('learning_rate     {}'.format(dimensions[0]))\n",
    "print('num_lstm_units    {}'.format(dimensions[1]))\n",
    "print('num_epochs        {}'.format(dimensions[2]))\n",
    "print('num_batch_size    {}'.format(dimensions[3]))"
   ]
  },
  {
   "cell_type": "code",
   "execution_count": 28,
   "id": "a18cf9f0",
   "metadata": {},
   "outputs": [
    {
     "data": {
      "text/plain": [
       "0.004136530216783285"
      ]
     },
     "execution_count": 28,
     "metadata": {},
     "output_type": "execute_result"
    }
   ],
   "source": [
    "search_result.fun"
   ]
  },
  {
   "cell_type": "code",
   "execution_count": 29,
   "id": "137faccc",
   "metadata": {},
   "outputs": [
    {
     "data": {
      "text/plain": [
       "[(0.004136530216783285, [0.01561601307656165, 30, 500, 128]),\n",
       " (0.004155533853918314, [0.01, 100, 100, 100]),\n",
       " (0.004326516762375832, [0.4334862687432915, 115, 92, 379]),\n",
       " (0.004370750393718481, [0.02958197314641175, 488, 60, 192]),\n",
       " (0.004542979411780834, [0.1277294961686797, 7, 458, 305]),\n",
       " (0.004700458608567715, [0.0018950585350399308, 189, 351, 70]),\n",
       " (0.0047556255012750626, [0.001, 407, 258, 76]),\n",
       " (0.004877073690295219, [0.001, 1, 500, 1]),\n",
       " (0.004932855721563101, [0.001, 425, 428, 26]),\n",
       " (0.004972529131919146, [1.0, 500, 500, 500]),\n",
       " (0.005517391487956047, [0.4919967434016415, 441, 500, 182]),\n",
       " (0.006089142058044672, [0.032242457725426804, 89, 278, 463]),\n",
       " (0.006123912986367941, [0.017697684634001537, 276, 107, 307]),\n",
       " (0.006264571100473404, [0.0011624505344010765, 236, 500, 500]),\n",
       " (0.0064185503870248795, [0.02201991410428172, 41, 213, 366]),\n",
       " (0.006625488866120577, [0.001, 480, 500, 150]),\n",
       " (0.006798347923904657, [0.001, 449, 440, 418]),\n",
       " (0.007092648185789585, [0.12159090639428773, 122, 394, 286]),\n",
       " (0.007519216276705265, [0.001, 1, 199, 486]),\n",
       " (0.00759211415424943, [0.001, 357, 500, 194]),\n",
       " (0.007792661432176828, [0.0027274729876038523, 119, 487, 238]),\n",
       " (0.00807427242398262, [0.001, 384, 58, 387]),\n",
       " (0.008278263732790947, [0.31576237166334437, 318, 235, 140]),\n",
       " (0.00930437259376049, [0.21031953265427586, 232, 239, 473]),\n",
       " (0.009309734217822552, [0.01944153922922999, 55, 442, 450]),\n",
       " (0.009427351877093315, [0.02678837355906454, 203, 372, 493]),\n",
       " (0.012887410819530487, [0.004376482956726247, 496, 32, 470]),\n",
       " (0.014559315517544746, [1.0, 209, 149, 246]),\n",
       " (0.0433134064078331, [0.0027248552600231493, 20, 1, 143]),\n",
       " (0.05107715725898743, [0.005029621261430646, 1, 253, 1]),\n",
       " (0.08007945865392685, [0.01438861733940544, 455, 151, 1]),\n",
       " (0.08410190790891647, [0.001, 170, 1, 483]),\n",
       " (0.10518210381269455, [1.0, 331, 500, 89]),\n",
       " (0.17476697266101837, [0.7165448743509659, 14, 3, 18]),\n",
       " (0.181575745344162, [1.0, 176, 1, 500]),\n",
       " (0.22631193697452545, [0.24275089163011399, 340, 439, 1]),\n",
       " (0.32057997584342957, [1.0, 99, 329, 43]),\n",
       " (0.3514423668384552, [0.0350179548277067, 500, 500, 1]),\n",
       " (0.4032553434371948, [0.038801277679289814, 1, 1, 1]),\n",
       " (1.712756872177124, [1.0, 475, 1, 337])]"
      ]
     },
     "execution_count": 29,
     "metadata": {},
     "output_type": "execute_result"
    }
   ],
   "source": [
    "sorted(zip(search_result.func_vals, search_result.x_iters))"
   ]
  },
  {
   "cell_type": "markdown",
   "id": "94720961",
   "metadata": {},
   "source": [
    "The following figure shows a matrix plot of all combinations of dimensions (hyperparameters). The verticals show the influence of a single dimension on fitness. This is a so-called “Partial Dependence plot” for that dimension. It shows how the approximated fitness value changes with different values in that dimension. The plots below the diagonal show the Partial Dependence for 3 dimensions. This shows how the approximated fitness value changes when we are varying 3 dimensions simultaneously."
   ]
  },
  {
   "cell_type": "markdown",
   "id": "88397a4c",
   "metadata": {},
   "source": [
    "The yellow regions show areas where the loss on the validation set is the lowest as contrary to the darker regions. The star in the plot represents the location where the optimal hyperparameters were found. From the curves shown in the figure below, the loss improves when the LSTM model’s learning rate is lower (the model learns better at smaller time steps), its number of LSTM units is not more than 350 and its number of epochs is bigger than 100 epochs. The batch size does not seem to affect a lot the loss function. The partial dimension plot of the batch size is flat which indicates that the performance might change with the batch size but there is then another choice of the number of epochs, the number of LSTM units and the learning rate in the layer that compensate for that."
   ]
  },
  {
   "cell_type": "code",
   "execution_count": 31,
   "id": "28df8a38",
   "metadata": {},
   "outputs": [
    {
     "data": {
      "image/png": "[encoded data removed]",
      "text/plain": [
       "<Figure size 576x576 with 16 Axes>"
      ]
     },
     "metadata": {
      "needs_background": "light"
     },
     "output_type": "display_data"
    }
   ],
   "source": [
    "_ = plot_objective(result=search_result)"
   ]
  },
  {
   "cell_type": "markdown",
   "id": "28252e69",
   "metadata": {},
   "source": [
    "We also displayed another type of matrix plot: the evaluation plot. Here, the verticals show histograms of the sample distributions for each of the hyperparameters during the Bayesian optimization. The plots below the diagonal show the location of samples in the search space and the color-coding shows the order in which the samples were taken. The early samples are darker while the late samples are yellow. As excepted, the earlier samples were more random and the later samples were more in clusters because a certain pattern started to form, the search was more structured. The hyperparameters were mostly sampled at the limits of the search range. If we had done more iterations, the results would have been even better and the clustering pattern would have been easier to identify."
   ]
  },
  {
   "cell_type": "code",
   "execution_count": 32,
   "id": "b4aac012",
   "metadata": {
    "scrolled": false
   },
   "outputs": [
    {
     "data": {
      "image/png": "[encoded data removed]",
      "text/plain": [
       "<Figure size 576x576 with 16 Axes>"
      ]
     },
     "metadata": {
      "needs_background": "light"
     },
     "output_type": "display_data"
    }
   ],
   "source": [
    "_ = plot_evaluations(result=search_result)"
   ]
  },
  {
   "cell_type": "code",
   "execution_count": 33,
   "id": "b8b05870",
   "metadata": {},
   "outputs": [],
   "source": [
    "model = load_model(path_best_model)"
   ]
  },
  {
   "cell_type": "code",
   "execution_count": 34,
   "id": "32dc9d9d",
   "metadata": {},
   "outputs": [
    {
     "name": "stdout",
     "output_type": "stream",
     "text": [
      "58/58 [==============================] - 1s 2ms/step - loss: 0.0041 - mae: 0.0428\n"
     ]
    }
   ],
   "source": [
    "result = model.evaluate(x=x_val,\n",
    "                        y=y_val)"
   ]
  },
  {
   "cell_type": "code",
   "execution_count": 35,
   "id": "dcae0524",
   "metadata": {},
   "outputs": [
    {
     "name": "stdout",
     "output_type": "stream",
     "text": [
      "loss 0.004121147096157074\n",
      "mae 0.04284857586026192\n"
     ]
    }
   ],
   "source": [
    "for name, value in zip(model.metrics_names, result):\n",
    "    print(name, value)"
   ]
  },
  {
   "cell_type": "code",
   "execution_count": 36,
   "id": "c8f4ccc5",
   "metadata": {},
   "outputs": [
    {
     "name": "stdout",
     "output_type": "stream",
     "text": [
      "loss: 0.41%\n"
     ]
    }
   ],
   "source": [
    "print(\"{0}: {1:.2%}\".format(model.metrics_names[0], result[0]))"
   ]
  },
  {
   "cell_type": "markdown",
   "id": "37fb8acd",
   "metadata": {},
   "source": [
    "**Reference:**\n",
    "\n",
    "Most of the codes from thi notebook was inspired by Magnus Erik Hvass Pedersen work on [Hyper-Parameter Optimization of CNN](https://github.com/Hvass-Labs/TensorFlow-Tutorials/blob/master/19_Hyper-Parameters.ipynb)."
   ]
  }
 ],
 "metadata": {
  "kernelspec": {
   "display_name": "Python 3",
   "language": "python",
   "name": "python3"
  },
  "language_info": {
   "codemirror_mode": {
    "name": "ipython",
    "version": 3
   },
   "file_extension": ".py",
   "mimetype": "text/x-python",
   "name": "python",
   "nbconvert_exporter": "python",
   "pygments_lexer": "ipython3",
   "version": "3.9.2"
  }
 },
 "nbformat": 4,
 "nbformat_minor": 5
}
