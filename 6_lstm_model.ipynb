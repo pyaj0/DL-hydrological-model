{
 "cells": [
  {
   "cell_type": "markdown",
   "metadata": {
    "id": "eztdNRTDvk_n"
   },
   "source": [
    "## Imports"
   ]
  },
  {
   "cell_type": "code",
   "execution_count": 1,
   "metadata": {
    "id": "UQcatIbyEorJ"
   },
   "outputs": [],
   "source": [
    "#import libraries\n",
    "import numpy as np\n",
    "import pandas as pd\n",
    "import matplotlib.pyplot as plt\n",
    "import sklearn\n",
    "import tensorflow as tf\n",
    "%matplotlib inline"
   ]
  },
  {
   "cell_type": "code",
   "execution_count": 2,
   "metadata": {},
   "outputs": [
    {
     "name": "stdout",
     "output_type": "stream",
     "text": [
      "Numpy: 1.19.5\n",
      "Pandas: 1.1.5\n",
      "Tensorflow: 2.4.1\n",
      "Science Kit Learn: 0.24.1\n"
     ]
    }
   ],
   "source": [
    "#print versions of modules\n",
    "print(\"Numpy: \" + np.__version__)\n",
    "print(\"Pandas: \" + pd.__version__)\n",
    "print(\"Tensorflow: \" + tf.__version__)\n",
    "print(\"Science Kit Learn: \" + sklearn.__version__)"
   ]
  },
  {
   "cell_type": "code",
   "execution_count": 3,
   "metadata": {
    "id": "gMa_b4s9E_fb"
   },
   "outputs": [],
   "source": [
    "#import additional modules\n",
    "from statistics import mean\n",
    "from math import sqrt\n",
    "from sklearn.preprocessing import MinMaxScaler\n",
    "#from sklearn.metrics import mean_squared_error\n",
    "from tensorflow.keras.layers import concatenate\n",
    "from tensorflow.keras.models import Sequential\n",
    "from tensorflow.keras.layers import Dense, LSTM, GRU\n",
    "from tensorflow.keras.optimizers import Adam\n",
    "from tensorflow.keras.regularizers import l2"
   ]
  },
  {
   "cell_type": "markdown",
   "metadata": {},
   "source": [
    "## Area of study"
   ]
  },
  {
   "cell_type": "markdown",
   "metadata": {},
   "source": [
    "The Ansongo-Niamey basin is a catchment located in the middle region of the Niger basin between the cities of Ansongo (Mali) and Niamey (Niger). This basin was chosen as study area because it would be challenging to collect data in the upstream of the Niger basin: the upper Niger basin. Regarding that, Ansongo being the downstream of the upper delta was considered as the upstream of our study area and Niamey the outlet of the basin."
   ]
  },
  {
   "cell_type": "markdown",
   "metadata": {},
   "source": [
    "![Ansongo-Niamey map](./images/map_study_area.png)"
   ]
  },
  {
   "cell_type": "markdown",
   "metadata": {},
   "source": [
    "The Ansongo-Niger basin runoff regime is affected by different types of reoccurring floods, which result from the geographic locations and characteristics of their main source areas. \n",
    "\n",
    "The first one is the **Guinean Flood**, which originates from the headwaters of the Niger in the Guinean highlands during the rainy season between July and November. The flood originating in the Guinean highlands experiences its peak usually around October. From here, the Niger flows into a vast wetland that covers an area and delays there for approximately three months. This upper flood arrives in the Ansongo around January, although rainfall in the Sahelian region falls at\n",
    "the same time as in the Guinean highlands. \n",
    "\n",
    "The second one is the annual peak during the rainy season (July to November) in the Ansongo-Niamey basin called the **“Red Flood”** or “Sahelian Flood”.\n",
    "\n",
    "Figure below illustrates well the basin’s runoff regime by distinguishing red flood from the Guinean flood."
   ]
  },
  {
   "cell_type": "markdown",
   "metadata": {},
   "source": [
    "![Hydrographs of Ansongo, Kandadji and Niamey for June 1991 to Mai 1992](./images/q_day_1991_1993_sub.png)"
   ]
  },
  {
   "cell_type": "markdown",
   "metadata": {
    "id": "SWug2WWiv1DF"
   },
   "source": [
    "## Data"
   ]
  },
  {
   "cell_type": "code",
   "execution_count": 4,
   "metadata": {
    "id": "wUfHY79iFQBB"
   },
   "outputs": [
    {
     "data": {
      "text/html": [
       "<div>\n",
       "<style scoped>\n",
       "    .dataframe tbody tr th:only-of-type {\n",
       "        vertical-align: middle;\n",
       "    }\n",
       "\n",
       "    .dataframe tbody tr th {\n",
       "        vertical-align: top;\n",
       "    }\n",
       "\n",
       "    .dataframe thead th {\n",
       "        text-align: right;\n",
       "    }\n",
       "</style>\n",
       "<table border=\"1\" class=\"dataframe\">\n",
       "  <thead>\n",
       "    <tr style=\"text-align: right;\">\n",
       "      <th></th>\n",
       "      <th>Date</th>\n",
       "      <th>pr</th>\n",
       "      <th>tmax</th>\n",
       "      <th>tmin</th>\n",
       "      <th>Ansongo</th>\n",
       "      <th>Kandadji</th>\n",
       "      <th>Niamey</th>\n",
       "    </tr>\n",
       "  </thead>\n",
       "  <tbody>\n",
       "    <tr>\n",
       "      <th>0</th>\n",
       "      <td>1981-06-01</td>\n",
       "      <td>0.525346</td>\n",
       "      <td>38.824417</td>\n",
       "      <td>27.352827</td>\n",
       "      <td>14.0</td>\n",
       "      <td>20.400000</td>\n",
       "      <td>5.03</td>\n",
       "    </tr>\n",
       "    <tr>\n",
       "      <th>1</th>\n",
       "      <td>1981-06-02</td>\n",
       "      <td>0.732719</td>\n",
       "      <td>39.789036</td>\n",
       "      <td>27.593908</td>\n",
       "      <td>13.0</td>\n",
       "      <td>17.000000</td>\n",
       "      <td>4.61</td>\n",
       "    </tr>\n",
       "    <tr>\n",
       "      <th>2</th>\n",
       "      <td>1981-06-03</td>\n",
       "      <td>0.341014</td>\n",
       "      <td>39.171715</td>\n",
       "      <td>26.769451</td>\n",
       "      <td>13.0</td>\n",
       "      <td>14.600000</td>\n",
       "      <td>4.14</td>\n",
       "    </tr>\n",
       "    <tr>\n",
       "      <th>3</th>\n",
       "      <td>1981-06-04</td>\n",
       "      <td>1.986175</td>\n",
       "      <td>39.452515</td>\n",
       "      <td>28.201244</td>\n",
       "      <td>13.0</td>\n",
       "      <td>14.100000</td>\n",
       "      <td>3.68</td>\n",
       "    </tr>\n",
       "    <tr>\n",
       "      <th>4</th>\n",
       "      <td>1981-06-05</td>\n",
       "      <td>0.271889</td>\n",
       "      <td>39.426506</td>\n",
       "      <td>26.821142</td>\n",
       "      <td>13.0</td>\n",
       "      <td>12.900000</td>\n",
       "      <td>2.99</td>\n",
       "    </tr>\n",
       "    <tr>\n",
       "      <th>...</th>\n",
       "      <td>...</td>\n",
       "      <td>...</td>\n",
       "      <td>...</td>\n",
       "      <td>...</td>\n",
       "      <td>...</td>\n",
       "      <td>...</td>\n",
       "      <td>...</td>\n",
       "    </tr>\n",
       "    <tr>\n",
       "      <th>10801</th>\n",
       "      <td>2010-12-27</td>\n",
       "      <td>0.000000</td>\n",
       "      <td>33.876694</td>\n",
       "      <td>19.051850</td>\n",
       "      <td>1751.0</td>\n",
       "      <td>1841.915039</td>\n",
       "      <td>1669.00</td>\n",
       "    </tr>\n",
       "    <tr>\n",
       "      <th>10802</th>\n",
       "      <td>2010-12-28</td>\n",
       "      <td>0.000000</td>\n",
       "      <td>33.088223</td>\n",
       "      <td>18.405252</td>\n",
       "      <td>1753.0</td>\n",
       "      <td>1851.276978</td>\n",
       "      <td>1677.00</td>\n",
       "    </tr>\n",
       "    <tr>\n",
       "      <th>10803</th>\n",
       "      <td>2010-12-29</td>\n",
       "      <td>0.000000</td>\n",
       "      <td>30.650715</td>\n",
       "      <td>17.136805</td>\n",
       "      <td>1752.0</td>\n",
       "      <td>1851.276978</td>\n",
       "      <td>1684.00</td>\n",
       "    </tr>\n",
       "    <tr>\n",
       "      <th>10804</th>\n",
       "      <td>2010-12-30</td>\n",
       "      <td>0.000000</td>\n",
       "      <td>29.456808</td>\n",
       "      <td>16.068770</td>\n",
       "      <td>1749.0</td>\n",
       "      <td>1851.276978</td>\n",
       "      <td>1684.00</td>\n",
       "    </tr>\n",
       "    <tr>\n",
       "      <th>10805</th>\n",
       "      <td>2010-12-31</td>\n",
       "      <td>0.000000</td>\n",
       "      <td>29.198921</td>\n",
       "      <td>16.231855</td>\n",
       "      <td>1743.0</td>\n",
       "      <td>1860.637939</td>\n",
       "      <td>1684.00</td>\n",
       "    </tr>\n",
       "  </tbody>\n",
       "</table>\n",
       "<p>10806 rows × 7 columns</p>\n",
       "</div>"
      ],
      "text/plain": [
       "             Date        pr       tmax       tmin  Ansongo     Kandadji  \\\n",
       "0      1981-06-01  0.525346  38.824417  27.352827     14.0    20.400000   \n",
       "1      1981-06-02  0.732719  39.789036  27.593908     13.0    17.000000   \n",
       "2      1981-06-03  0.341014  39.171715  26.769451     13.0    14.600000   \n",
       "3      1981-06-04  1.986175  39.452515  28.201244     13.0    14.100000   \n",
       "4      1981-06-05  0.271889  39.426506  26.821142     13.0    12.900000   \n",
       "...           ...       ...        ...        ...      ...          ...   \n",
       "10801  2010-12-27  0.000000  33.876694  19.051850   1751.0  1841.915039   \n",
       "10802  2010-12-28  0.000000  33.088223  18.405252   1753.0  1851.276978   \n",
       "10803  2010-12-29  0.000000  30.650715  17.136805   1752.0  1851.276978   \n",
       "10804  2010-12-30  0.000000  29.456808  16.068770   1749.0  1851.276978   \n",
       "10805  2010-12-31  0.000000  29.198921  16.231855   1743.0  1860.637939   \n",
       "\n",
       "        Niamey  \n",
       "0         5.03  \n",
       "1         4.61  \n",
       "2         4.14  \n",
       "3         3.68  \n",
       "4         2.99  \n",
       "...        ...  \n",
       "10801  1669.00  \n",
       "10802  1677.00  \n",
       "10803  1684.00  \n",
       "10804  1684.00  \n",
       "10805  1684.00  \n",
       "\n",
       "[10806 rows x 7 columns]"
      ]
     },
     "execution_count": 4,
     "metadata": {},
     "output_type": "execute_result"
    }
   ],
   "source": [
    "#load data\n",
    "df = pd.read_csv('./model_data/model_data_interpolated.csv')\n",
    "df"
   ]
  },
  {
   "cell_type": "code",
   "execution_count": 5,
   "metadata": {
    "id": "mGCklzx5FQDz"
   },
   "outputs": [],
   "source": [
    "#drop time column\n",
    "date_time = pd.to_datetime(df.pop('Date'), format='%Y-%m-%d') #or infer_datetime_format=True"
   ]
  },
  {
   "cell_type": "code",
   "execution_count": 6,
   "metadata": {},
   "outputs": [
    {
     "data": {
      "text/plain": [
       "array([<AxesSubplot:xlabel='Date'>, <AxesSubplot:xlabel='Date'>,\n",
       "       <AxesSubplot:xlabel='Date'>, <AxesSubplot:xlabel='Date'>,\n",
       "       <AxesSubplot:xlabel='Date'>, <AxesSubplot:xlabel='Date'>],\n",
       "      dtype=object)"
      ]
     },
     "execution_count": 6,
     "metadata": {},
     "output_type": "execute_result"
    },
    {
     "data": {
      "image/png": "[encoded data removed]",
      "text/plain": [
       "<Figure size 432x288 with 6 Axes>"
      ]
     },
     "metadata": {
      "needs_background": "light"
     },
     "output_type": "display_data"
    }
   ],
   "source": [
    "#view dataset\n",
    "df.set_index(date_time)[['pr', 'tmax', 'tmin', 'Ansongo', 'Kandadji', 'Niamey']].plot(subplots=True)"
   ]
  },
  {
   "cell_type": "code",
   "execution_count": 7,
   "metadata": {},
   "outputs": [
    {
     "data": {
      "text/html": [
       "<div>\n",
       "<style scoped>\n",
       "    .dataframe tbody tr th:only-of-type {\n",
       "        vertical-align: middle;\n",
       "    }\n",
       "\n",
       "    .dataframe tbody tr th {\n",
       "        vertical-align: top;\n",
       "    }\n",
       "\n",
       "    .dataframe thead th {\n",
       "        text-align: right;\n",
       "    }\n",
       "</style>\n",
       "<table border=\"1\" class=\"dataframe\">\n",
       "  <thead>\n",
       "    <tr style=\"text-align: right;\">\n",
       "      <th></th>\n",
       "      <th>count</th>\n",
       "      <th>mean</th>\n",
       "      <th>std</th>\n",
       "      <th>min</th>\n",
       "      <th>25%</th>\n",
       "      <th>50%</th>\n",
       "      <th>75%</th>\n",
       "      <th>max</th>\n",
       "    </tr>\n",
       "  </thead>\n",
       "  <tbody>\n",
       "    <tr>\n",
       "      <th>pr</th>\n",
       "      <td>10806.0</td>\n",
       "      <td>1.375334</td>\n",
       "      <td>2.311514</td>\n",
       "      <td>0.000000e+00</td>\n",
       "      <td>0.000000</td>\n",
       "      <td>0.414747</td>\n",
       "      <td>1.824885</td>\n",
       "      <td>24.069124</td>\n",
       "    </tr>\n",
       "    <tr>\n",
       "      <th>tmax</th>\n",
       "      <td>10806.0</td>\n",
       "      <td>35.124774</td>\n",
       "      <td>3.299601</td>\n",
       "      <td>2.389276e+01</td>\n",
       "      <td>32.604908</td>\n",
       "      <td>35.198283</td>\n",
       "      <td>37.532277</td>\n",
       "      <td>43.912750</td>\n",
       "    </tr>\n",
       "    <tr>\n",
       "      <th>tmin</th>\n",
       "      <td>10806.0</td>\n",
       "      <td>22.947793</td>\n",
       "      <td>3.614374</td>\n",
       "      <td>1.133926e+01</td>\n",
       "      <td>20.857830</td>\n",
       "      <td>23.514691</td>\n",
       "      <td>25.549257</td>\n",
       "      <td>32.082210</td>\n",
       "    </tr>\n",
       "    <tr>\n",
       "      <th>Ansongo</th>\n",
       "      <td>10806.0</td>\n",
       "      <td>685.853843</td>\n",
       "      <td>599.710296</td>\n",
       "      <td>5.530694e-07</td>\n",
       "      <td>99.000000</td>\n",
       "      <td>538.000000</td>\n",
       "      <td>1240.750000</td>\n",
       "      <td>1904.000000</td>\n",
       "    </tr>\n",
       "    <tr>\n",
       "      <th>Kandadji</th>\n",
       "      <td>10806.0</td>\n",
       "      <td>695.545463</td>\n",
       "      <td>607.054939</td>\n",
       "      <td>1.120000e+00</td>\n",
       "      <td>104.000000</td>\n",
       "      <td>542.094513</td>\n",
       "      <td>1260.000000</td>\n",
       "      <td>2090.000000</td>\n",
       "    </tr>\n",
       "    <tr>\n",
       "      <th>Niamey</th>\n",
       "      <td>10806.0</td>\n",
       "      <td>705.412916</td>\n",
       "      <td>565.640158</td>\n",
       "      <td>0.000000e+00</td>\n",
       "      <td>116.000000</td>\n",
       "      <td>688.500000</td>\n",
       "      <td>1209.000000</td>\n",
       "      <td>1993.000000</td>\n",
       "    </tr>\n",
       "  </tbody>\n",
       "</table>\n",
       "</div>"
      ],
      "text/plain": [
       "            count        mean         std           min         25%  \\\n",
       "pr        10806.0    1.375334    2.311514  0.000000e+00    0.000000   \n",
       "tmax      10806.0   35.124774    3.299601  2.389276e+01   32.604908   \n",
       "tmin      10806.0   22.947793    3.614374  1.133926e+01   20.857830   \n",
       "Ansongo   10806.0  685.853843  599.710296  5.530694e-07   99.000000   \n",
       "Kandadji  10806.0  695.545463  607.054939  1.120000e+00  104.000000   \n",
       "Niamey    10806.0  705.412916  565.640158  0.000000e+00  116.000000   \n",
       "\n",
       "                 50%          75%          max  \n",
       "pr          0.414747     1.824885    24.069124  \n",
       "tmax       35.198283    37.532277    43.912750  \n",
       "tmin       23.514691    25.549257    32.082210  \n",
       "Ansongo   538.000000  1240.750000  1904.000000  \n",
       "Kandadji  542.094513  1260.000000  2090.000000  \n",
       "Niamey    688.500000  1209.000000  1993.000000  "
      ]
     },
     "execution_count": 7,
     "metadata": {},
     "output_type": "execute_result"
    }
   ],
   "source": [
    "#inspection\n",
    "df.describe().transpose()"
   ]
  },
  {
   "cell_type": "markdown",
   "metadata": {},
   "source": [
    "## Normalization"
   ]
  },
  {
   "cell_type": "markdown",
   "metadata": {},
   "source": [
    "The first operation is to normalize the features of the dataset. When a network is fit on unscaled data that has a range of values large inputs can slow down the learning and convergence of your network and in some cases prevent the network from effectively learning your problem. To solve this issue, it is highly recommended to normalize the dataset. Normalization is a rescaling of the data from the original range so that all values are within the range of 0 and 1."
   ]
  },
  {
   "cell_type": "code",
   "execution_count": 8,
   "metadata": {},
   "outputs": [],
   "source": [
    "#select values of dataframe\n",
    "values = df.values"
   ]
  },
  {
   "cell_type": "code",
   "execution_count": 9,
   "metadata": {},
   "outputs": [],
   "source": [
    "#rescale data between 0 and 1\n",
    "scaler = MinMaxScaler(feature_range=(0, 1))\n",
    "scaled = scaler.fit_transform(values)"
   ]
  },
  {
   "cell_type": "markdown",
   "metadata": {},
   "source": [
    "## Transformation"
   ]
  },
  {
   "cell_type": "markdown",
   "metadata": {},
   "source": [
    "The second operation is to transform the time series into a supervised learning series. Time series forecasting problems must be re-framed as supervised learning problems. From a sequence to pairs of input and output sequences. A time series is a sequence of numbers that are ordered by a time index. This can be thought of as a list or column of ordered values. A supervised learning problem is comprised of input patterns (X) and output patterns (y), such that an algorithm can learn how to predict the output patterns from the input patterns. To do this, we used the “series_to_supervised” function of Jason Brownlee and assumed that the discharge of Ansongo and Kandadji both takes one timestep (a day) to get to Niamey."
   ]
  },
  {
   "cell_type": "code",
   "execution_count": 10,
   "metadata": {},
   "outputs": [],
   "source": [
    "#function to transform time series to supervised learning series\n",
    "#This function was extracted from \n",
    "#https://machinelearningmastery.com/convert-time-series-supervised-learning-problem-python/\n",
    "from pandas import DataFrame\n",
    "from pandas import concat\n",
    "\n",
    "def series_to_supervised(data, n_in=1, n_out=1, dropnan=True):\n",
    "    \"\"\"\n",
    "    Frame a time series as a supervised learning dataset.\n",
    "    Arguments:\n",
    "        data: Sequence of observations as a list or NumPy array.\n",
    "        n_in: Number of lag observations as input (X).\n",
    "        n_out: Number of observations as output (y).\n",
    "        dropnan: Boolean whether or not to drop rows with NaN values.\n",
    "    Returns:\n",
    "        Pandas DataFrame of series framed for supervised learning.\n",
    "    \"\"\"\n",
    "    n_vars = 1 if type(data) is list else data.shape[1]\n",
    "    df = DataFrame(data)\n",
    "    cols, names = list(), list()\n",
    "    # input sequence (t-n, ... t-1)\n",
    "    for i in range(n_in, 0, -1):\n",
    "        cols.append(df.shift(i))\n",
    "        names += [('var%d(t-%d)' % (j+1, i)) for j in range(n_vars)]\n",
    "    # forecast sequence (t, t+1, ... t+n)\n",
    "    for i in range(0, n_out):\n",
    "        cols.append(df.shift(-i))\n",
    "        if i == 0:\n",
    "            names += [('var%d(t)' % (j+1)) for j in range(n_vars)]\n",
    "        else:\n",
    "            names += [('var%d(t+%d)' % (j+1, i)) for j in range(n_vars)]\n",
    "    # put it all together\n",
    "    agg = concat(cols, axis=1)\n",
    "    agg.columns = names\n",
    "    # drop rows with NaN values\n",
    "    if dropnan:\n",
    "        agg.dropna(inplace=True)\n",
    "    return agg"
   ]
  },
  {
   "cell_type": "code",
   "execution_count": 11,
   "metadata": {},
   "outputs": [],
   "source": [
    "#using function above\n",
    "reframed = series_to_supervised(scaled, 1, 1)"
   ]
  },
  {
   "cell_type": "code",
   "execution_count": 13,
   "metadata": {},
   "outputs": [
    {
     "data": {
      "text/html": [
       "<div>\n",
       "<style scoped>\n",
       "    .dataframe tbody tr th:only-of-type {\n",
       "        vertical-align: middle;\n",
       "    }\n",
       "\n",
       "    .dataframe tbody tr th {\n",
       "        vertical-align: top;\n",
       "    }\n",
       "\n",
       "    .dataframe thead th {\n",
       "        text-align: right;\n",
       "    }\n",
       "</style>\n",
       "<table border=\"1\" class=\"dataframe\">\n",
       "  <thead>\n",
       "    <tr style=\"text-align: right;\">\n",
       "      <th></th>\n",
       "      <th>var1(t-1)</th>\n",
       "      <th>var2(t-1)</th>\n",
       "      <th>var3(t-1)</th>\n",
       "      <th>var4(t-1)</th>\n",
       "      <th>var5(t-1)</th>\n",
       "      <th>var6(t)</th>\n",
       "    </tr>\n",
       "  </thead>\n",
       "  <tbody>\n",
       "    <tr>\n",
       "      <th>1</th>\n",
       "      <td>0.021827</td>\n",
       "      <td>0.745837</td>\n",
       "      <td>0.772000</td>\n",
       "      <td>0.007353</td>\n",
       "      <td>0.009230</td>\n",
       "      <td>0.002313</td>\n",
       "    </tr>\n",
       "    <tr>\n",
       "      <th>2</th>\n",
       "      <td>0.030442</td>\n",
       "      <td>0.794020</td>\n",
       "      <td>0.783623</td>\n",
       "      <td>0.006828</td>\n",
       "      <td>0.007602</td>\n",
       "      <td>0.002077</td>\n",
       "    </tr>\n",
       "    <tr>\n",
       "      <th>3</th>\n",
       "      <td>0.014168</td>\n",
       "      <td>0.763185</td>\n",
       "      <td>0.743876</td>\n",
       "      <td>0.006828</td>\n",
       "      <td>0.006453</td>\n",
       "      <td>0.001846</td>\n",
       "    </tr>\n",
       "    <tr>\n",
       "      <th>4</th>\n",
       "      <td>0.082520</td>\n",
       "      <td>0.777211</td>\n",
       "      <td>0.812902</td>\n",
       "      <td>0.006828</td>\n",
       "      <td>0.006214</td>\n",
       "      <td>0.001500</td>\n",
       "    </tr>\n",
       "    <tr>\n",
       "      <th>5</th>\n",
       "      <td>0.011296</td>\n",
       "      <td>0.775912</td>\n",
       "      <td>0.746368</td>\n",
       "      <td>0.006828</td>\n",
       "      <td>0.005639</td>\n",
       "      <td>0.001264</td>\n",
       "    </tr>\n",
       "  </tbody>\n",
       "</table>\n",
       "</div>"
      ],
      "text/plain": [
       "   var1(t-1)  var2(t-1)  var3(t-1)  var4(t-1)  var5(t-1)   var6(t)\n",
       "1   0.021827   0.745837   0.772000   0.007353   0.009230  0.002313\n",
       "2   0.030442   0.794020   0.783623   0.006828   0.007602  0.002077\n",
       "3   0.014168   0.763185   0.743876   0.006828   0.006453  0.001846\n",
       "4   0.082520   0.777211   0.812902   0.006828   0.006214  0.001500\n",
       "5   0.011296   0.775912   0.746368   0.006828   0.005639  0.001264"
      ]
     },
     "execution_count": 13,
     "metadata": {},
     "output_type": "execute_result"
    }
   ],
   "source": [
    "# drop columns we don't want to predict\n",
    "reframed.drop(reframed.columns[[5,6,7,8,9,10]], axis=1, inplace=True)\n",
    "reframed.head()"
   ]
  },
  {
   "cell_type": "markdown",
   "metadata": {
    "id": "5quWIq-kJlIn"
   },
   "source": [
    "## Data split"
   ]
  },
  {
   "cell_type": "markdown",
   "metadata": {},
   "source": [
    "The third operation is to split the data into training, validation and training sets. \n",
    "\n",
    "The model is initially fit in a **training set**, which is a set of examples used to fit the parameters of the model.\n",
    "\n",
    "Successively, the fitted model is used to predict the responses for the observations in a second dataset called the **validation dataset**. The validation dataset provides an unbiased evaluation of a model fit on the training dataset. \n",
    "\n",
    "The **test dataset** is a dataset used to provide an unbiased evaluation of a final model fit on the training dataset. \n",
    "\n",
    "The dataset was also split into inputs and outputs. The figure below illustrates the different divisions of the dataset."
   ]
  },
  {
   "cell_type": "markdown",
   "metadata": {},
   "source": [
    "![subdivisions of dataset](./images/split_dataset.png)"
   ]
  },
  {
   "cell_type": "code",
   "execution_count": 14,
   "metadata": {},
   "outputs": [],
   "source": [
    "# split into train, val and test sets\n",
    "values = reframed.values\n",
    "\n",
    "n_train_years = 7305 # days in 20 years for training\n",
    "n_val_years = 9131 - n_train_years # days in 5 years for validating\n",
    "n_val_sum = n_train_years + n_val_years\n",
    "\n",
    "train = values[:n_train_years, :]\n",
    "val = values[n_train_years:n_val_sum, :]\n",
    "test = values[n_val_sum:, :]"
   ]
  },
  {
   "cell_type": "code",
   "execution_count": 15,
   "metadata": {},
   "outputs": [],
   "source": [
    "# split into input and outputs\n",
    "x_train, y_train = train[:, :-1], train[:, -1]\n",
    "x_val, y_val = val[:, :-1], val[:, -1]\n",
    "x_test, y_test = test[:, :-1], test[:, -1]"
   ]
  },
  {
   "cell_type": "markdown",
   "metadata": {},
   "source": [
    "To finish this transformation, the dataset was reshaped in a 3D format with the final shape of each subdivision of the dataset being: (number of samples, time steps, features)."
   ]
  },
  {
   "cell_type": "code",
   "execution_count": 16,
   "metadata": {},
   "outputs": [
    {
     "name": "stdout",
     "output_type": "stream",
     "text": [
      "(7305, 1, 5) (7305,) (1826, 1, 5) (1826,) (1674, 1, 5) (1674,)\n"
     ]
    }
   ],
   "source": [
    "# reshape input to be 3D [samples, timesteps, features]\n",
    "x_train = x_train.reshape((x_train.shape[0], 1, x_train.shape[1]))\n",
    "x_val = x_val.reshape((x_val.shape[0], 1, x_val.shape[1]))\n",
    "x_test = x_test.reshape((x_test.shape[0], 1, x_test.shape[1]))\n",
    "print(x_train.shape, y_train.shape, x_val.shape, y_val.shape, x_test.shape, y_test.shape)"
   ]
  },
  {
   "cell_type": "markdown",
   "metadata": {
    "id": "Whbni_sdhEz0"
   },
   "source": [
    "## LSTM Setting Up"
   ]
  },
  {
   "cell_type": "markdown",
   "metadata": {},
   "source": [
    "A sequential model was used for this work. A Sequential model is appropriate for a plain stack of layers where each layer has exactly one input tensor and one output tensor. An LSTM layer was added to the model and the number of its internal units was set using the value obtained after hyperparameter optimization. A dense layer of 1 unit was added to the LSTM units to sum up the result of the LSTM units and to set it up as output data."
   ]
  },
  {
   "cell_type": "code",
   "execution_count": 17,
   "metadata": {
    "id": "S21VRZ_8hv9S"
   },
   "outputs": [],
   "source": [
    "#set LSTM neural network\n",
    "model = Sequential()"
   ]
  },
  {
   "cell_type": "markdown",
   "metadata": {},
   "source": [
    "Now that the model is defined we can compile it and specify its optimizer, learning rate and loss function. The process of minimizing any mathematical expression is called optimization. Optimizers are algorithms or methods used to change the attributes of the neural network such as weights, biases and learning rate to reduce the losses. The optimizer used here is the Adaptive Moment Estimation (Adam) optimizer. Adam optimization is a stochastic gradient descent method that is based on the adaptive estimation of first-order and second-order moments. According to Kingma the method is “computationally efficient, has little memory requirement, invariant to diagonal rescaling of gradients, and is well suited for problems that are large in terms of data/parameters”. \n",
    "\n",
    "The learning rate obtained from the hyperparameter optimization process is also set here. The last step of compiling our LSTM model would be to set its loss function. Since the present work would use a large number of samples, we would not set a regularization term because the chances of overfitting the data are low. As for the data loss function, the mean square error would be chosen because larger mistakes are attributed to bigger penalties due to the squaring inside the function."
   ]
  },
  {
   "cell_type": "code",
   "execution_count": 18,
   "metadata": {},
   "outputs": [],
   "source": [
    "#build model\n",
    "model.add(LSTM(units=30, input_shape=(x_train.shape[1], x_train.shape[2])))\n",
    "model.add(Dense(units=1))"
   ]
  },
  {
   "cell_type": "code",
   "execution_count": 19,
   "metadata": {
    "id": "xjJSLd8GJlIs"
   },
   "outputs": [],
   "source": [
    "#set compiler\n",
    "optimizer = Adam(lr=0.01561601307656165)\n",
    "model.compile(loss='mse', optimizer=optimizer, metrics=['mae'])"
   ]
  },
  {
   "cell_type": "code",
   "execution_count": 20,
   "metadata": {
    "colab": {
     "base_uri": "https://localhost:8080/"
    },
    "id": "hvmivlFWJlIs",
    "outputId": "bf059ad5-23d3-4a62-d001-1627bb16a5a0"
   },
   "outputs": [
    {
     "name": "stdout",
     "output_type": "stream",
     "text": [
      "Model: \"sequential\"\n",
      "_________________________________________________________________\n",
      "Layer (type)                 Output Shape              Param #   \n",
      "=================================================================\n",
      "lstm (LSTM)                  (None, 30)                4320      \n",
      "_________________________________________________________________\n",
      "dense (Dense)                (None, 1)                 31        \n",
      "=================================================================\n",
      "Total params: 4,351\n",
      "Trainable params: 4,351\n",
      "Non-trainable params: 0\n",
      "_________________________________________________________________\n"
     ]
    }
   ],
   "source": [
    "model.summary()"
   ]
  },
  {
   "cell_type": "markdown",
   "metadata": {},
   "source": [
    "![lstm model](./images/lstm_model.png)"
   ]
  },
  {
   "cell_type": "markdown",
   "metadata": {
    "id": "N0pcQkRyoDhh"
   },
   "source": [
    "## LSTM Training"
   ]
  },
  {
   "cell_type": "markdown",
   "metadata": {},
   "source": [
    "For the training phase of our LSTM, the number of epochs and the batch size obtained after hyperparameter optimization are set in the model to fit."
   ]
  },
  {
   "cell_type": "code",
   "execution_count": 21,
   "metadata": {
    "scrolled": true
   },
   "outputs": [
    {
     "name": "stdout",
     "output_type": "stream",
     "text": [
      "Epoch 1/500\n",
      "58/58 - 5s - loss: 0.0302 - mae: 0.1174 - val_loss: 0.0109 - val_mae: 0.0845\n",
      "Epoch 2/500\n",
      "58/58 - 1s - loss: 0.0072 - mae: 0.0611 - val_loss: 0.0083 - val_mae: 0.0725\n",
      "Epoch 3/500\n",
      "58/58 - 0s - loss: 0.0058 - mae: 0.0549 - val_loss: 0.0073 - val_mae: 0.0689\n",
      "Epoch 4/500\n",
      "58/58 - 0s - loss: 0.0047 - mae: 0.0493 - val_loss: 0.0065 - val_mae: 0.0653\n",
      "Epoch 5/500\n",
      "58/58 - 0s - loss: 0.0040 - mae: 0.0445 - val_loss: 0.0059 - val_mae: 0.0612\n",
      "Epoch 6/500\n",
      "58/58 - 1s - loss: 0.0034 - mae: 0.0406 - val_loss: 0.0053 - val_mae: 0.0569\n",
      "Epoch 7/500\n",
      "58/58 - 1s - loss: 0.0031 - mae: 0.0376 - val_loss: 0.0049 - val_mae: 0.0531\n",
      "Epoch 8/500\n",
      "58/58 - 0s - loss: 0.0029 - mae: 0.0358 - val_loss: 0.0047 - val_mae: 0.0504\n",
      "Epoch 9/500\n",
      "58/58 - 0s - loss: 0.0028 - mae: 0.0348 - val_loss: 0.0046 - val_mae: 0.0487\n",
      "Epoch 10/500\n",
      "58/58 - 0s - loss: 0.0028 - mae: 0.0343 - val_loss: 0.0045 - val_mae: 0.0476\n",
      "Epoch 11/500\n",
      "58/58 - 0s - loss: 0.0027 - mae: 0.0340 - val_loss: 0.0045 - val_mae: 0.0470\n",
      "Epoch 12/500\n",
      "58/58 - 0s - loss: 0.0027 - mae: 0.0339 - val_loss: 0.0044 - val_mae: 0.0466\n",
      "Epoch 13/500\n",
      "58/58 - 0s - loss: 0.0027 - mae: 0.0338 - val_loss: 0.0044 - val_mae: 0.0464\n",
      "Epoch 14/500\n",
      "58/58 - 0s - loss: 0.0027 - mae: 0.0338 - val_loss: 0.0044 - val_mae: 0.0462\n",
      "Epoch 15/500\n",
      "58/58 - 0s - loss: 0.0027 - mae: 0.0337 - val_loss: 0.0044 - val_mae: 0.0461\n",
      "Epoch 16/500\n",
      "58/58 - 0s - loss: 0.0027 - mae: 0.0336 - val_loss: 0.0044 - val_mae: 0.0460\n",
      "Epoch 17/500\n",
      "58/58 - 0s - loss: 0.0027 - mae: 0.0336 - val_loss: 0.0044 - val_mae: 0.0460\n",
      "Epoch 18/500\n",
      "58/58 - 0s - loss: 0.0027 - mae: 0.0336 - val_loss: 0.0044 - val_mae: 0.0459\n",
      "Epoch 19/500\n",
      "58/58 - 0s - loss: 0.0027 - mae: 0.0335 - val_loss: 0.0044 - val_mae: 0.0459\n",
      "Epoch 20/500\n",
      "58/58 - 0s - loss: 0.0027 - mae: 0.0334 - val_loss: 0.0044 - val_mae: 0.0459\n",
      "Epoch 21/500\n",
      "58/58 - 0s - loss: 0.0026 - mae: 0.0334 - val_loss: 0.0044 - val_mae: 0.0459\n",
      "Epoch 22/500\n",
      "58/58 - 0s - loss: 0.0026 - mae: 0.0333 - val_loss: 0.0044 - val_mae: 0.0459\n",
      "Epoch 23/500\n",
      "58/58 - 1s - loss: 0.0026 - mae: 0.0333 - val_loss: 0.0044 - val_mae: 0.0459\n",
      "Epoch 24/500\n",
      "58/58 - 1s - loss: 0.0026 - mae: 0.0332 - val_loss: 0.0044 - val_mae: 0.0459\n",
      "Epoch 25/500\n",
      "58/58 - 0s - loss: 0.0026 - mae: 0.0332 - val_loss: 0.0044 - val_mae: 0.0460\n",
      "Epoch 26/500\n",
      "58/58 - 0s - loss: 0.0026 - mae: 0.0331 - val_loss: 0.0044 - val_mae: 0.0460\n",
      "Epoch 27/500\n",
      "58/58 - 0s - loss: 0.0026 - mae: 0.0331 - val_loss: 0.0044 - val_mae: 0.0460\n",
      "Epoch 28/500\n",
      "58/58 - 0s - loss: 0.0026 - mae: 0.0330 - val_loss: 0.0044 - val_mae: 0.0460\n",
      "Epoch 29/500\n",
      "58/58 - 0s - loss: 0.0026 - mae: 0.0330 - val_loss: 0.0044 - val_mae: 0.0460\n",
      "Epoch 30/500\n",
      "58/58 - 0s - loss: 0.0026 - mae: 0.0329 - val_loss: 0.0044 - val_mae: 0.0461\n",
      "Epoch 31/500\n",
      "58/58 - 0s - loss: 0.0026 - mae: 0.0329 - val_loss: 0.0044 - val_mae: 0.0461\n",
      "Epoch 32/500\n",
      "58/58 - 1s - loss: 0.0026 - mae: 0.0328 - val_loss: 0.0044 - val_mae: 0.0461\n",
      "Epoch 33/500\n",
      "58/58 - 1s - loss: 0.0026 - mae: 0.0328 - val_loss: 0.0044 - val_mae: 0.0461\n",
      "Epoch 34/500\n",
      "58/58 - 1s - loss: 0.0025 - mae: 0.0327 - val_loss: 0.0044 - val_mae: 0.0461\n",
      "Epoch 35/500\n",
      "58/58 - 1s - loss: 0.0025 - mae: 0.0327 - val_loss: 0.0044 - val_mae: 0.0461\n",
      "Epoch 36/500\n",
      "58/58 - 0s - loss: 0.0025 - mae: 0.0327 - val_loss: 0.0044 - val_mae: 0.0461\n",
      "Epoch 37/500\n",
      "58/58 - 0s - loss: 0.0025 - mae: 0.0326 - val_loss: 0.0044 - val_mae: 0.0461\n",
      "Epoch 38/500\n",
      "58/58 - 1s - loss: 0.0025 - mae: 0.0326 - val_loss: 0.0043 - val_mae: 0.0461\n",
      "Epoch 39/500\n",
      "58/58 - 1s - loss: 0.0025 - mae: 0.0325 - val_loss: 0.0043 - val_mae: 0.0461\n",
      "Epoch 40/500\n",
      "58/58 - 1s - loss: 0.0025 - mae: 0.0325 - val_loss: 0.0043 - val_mae: 0.0461\n",
      "Epoch 41/500\n",
      "58/58 - 1s - loss: 0.0025 - mae: 0.0325 - val_loss: 0.0043 - val_mae: 0.0461\n",
      "Epoch 42/500\n",
      "58/58 - 1s - loss: 0.0025 - mae: 0.0324 - val_loss: 0.0043 - val_mae: 0.0461\n",
      "Epoch 43/500\n",
      "58/58 - 0s - loss: 0.0025 - mae: 0.0324 - val_loss: 0.0043 - val_mae: 0.0461\n",
      "Epoch 44/500\n",
      "58/58 - 1s - loss: 0.0025 - mae: 0.0324 - val_loss: 0.0043 - val_mae: 0.0461\n",
      "Epoch 45/500\n",
      "58/58 - 1s - loss: 0.0025 - mae: 0.0323 - val_loss: 0.0043 - val_mae: 0.0460\n",
      "Epoch 46/500\n",
      "58/58 - 1s - loss: 0.0025 - mae: 0.0323 - val_loss: 0.0043 - val_mae: 0.0460\n",
      "Epoch 47/500\n",
      "58/58 - 0s - loss: 0.0025 - mae: 0.0323 - val_loss: 0.0043 - val_mae: 0.0460\n",
      "Epoch 48/500\n",
      "58/58 - 0s - loss: 0.0025 - mae: 0.0322 - val_loss: 0.0043 - val_mae: 0.0460\n",
      "Epoch 49/500\n",
      "58/58 - 0s - loss: 0.0025 - mae: 0.0322 - val_loss: 0.0043 - val_mae: 0.0459\n",
      "Epoch 50/500\n",
      "58/58 - 0s - loss: 0.0024 - mae: 0.0322 - val_loss: 0.0043 - val_mae: 0.0459\n",
      "Epoch 51/500\n",
      "58/58 - 0s - loss: 0.0024 - mae: 0.0321 - val_loss: 0.0043 - val_mae: 0.0459\n",
      "Epoch 52/500\n",
      "58/58 - 0s - loss: 0.0024 - mae: 0.0321 - val_loss: 0.0043 - val_mae: 0.0458\n",
      "Epoch 53/500\n",
      "58/58 - 0s - loss: 0.0024 - mae: 0.0321 - val_loss: 0.0043 - val_mae: 0.0458\n",
      "Epoch 54/500\n",
      "58/58 - 0s - loss: 0.0024 - mae: 0.0320 - val_loss: 0.0043 - val_mae: 0.0457\n",
      "Epoch 55/500\n",
      "58/58 - 0s - loss: 0.0024 - mae: 0.0320 - val_loss: 0.0043 - val_mae: 0.0457\n",
      "Epoch 56/500\n",
      "58/58 - 0s - loss: 0.0024 - mae: 0.0320 - val_loss: 0.0043 - val_mae: 0.0456\n",
      "Epoch 57/500\n",
      "58/58 - 0s - loss: 0.0024 - mae: 0.0319 - val_loss: 0.0043 - val_mae: 0.0456\n",
      "Epoch 58/500\n",
      "58/58 - 0s - loss: 0.0024 - mae: 0.0319 - val_loss: 0.0043 - val_mae: 0.0455\n",
      "Epoch 59/500\n",
      "58/58 - 0s - loss: 0.0024 - mae: 0.0319 - val_loss: 0.0043 - val_mae: 0.0455\n",
      "Epoch 60/500\n",
      "58/58 - 0s - loss: 0.0024 - mae: 0.0318 - val_loss: 0.0043 - val_mae: 0.0454\n",
      "Epoch 61/500\n",
      "58/58 - 1s - loss: 0.0024 - mae: 0.0318 - val_loss: 0.0043 - val_mae: 0.0453\n",
      "Epoch 62/500\n",
      "58/58 - 1s - loss: 0.0024 - mae: 0.0318 - val_loss: 0.0043 - val_mae: 0.0453\n",
      "Epoch 63/500\n",
      "58/58 - 1s - loss: 0.0024 - mae: 0.0317 - val_loss: 0.0042 - val_mae: 0.0452\n",
      "Epoch 64/500\n",
      "58/58 - 1s - loss: 0.0024 - mae: 0.0317 - val_loss: 0.0042 - val_mae: 0.0451\n",
      "Epoch 65/500\n",
      "58/58 - 0s - loss: 0.0024 - mae: 0.0317 - val_loss: 0.0042 - val_mae: 0.0451\n",
      "Epoch 66/500\n",
      "58/58 - 0s - loss: 0.0024 - mae: 0.0316 - val_loss: 0.0042 - val_mae: 0.0450\n",
      "Epoch 67/500\n",
      "58/58 - 0s - loss: 0.0024 - mae: 0.0316 - val_loss: 0.0042 - val_mae: 0.0449\n",
      "Epoch 68/500\n",
      "58/58 - 0s - loss: 0.0024 - mae: 0.0316 - val_loss: 0.0042 - val_mae: 0.0449\n",
      "Epoch 69/500\n",
      "58/58 - 0s - loss: 0.0024 - mae: 0.0315 - val_loss: 0.0042 - val_mae: 0.0448\n",
      "Epoch 70/500\n",
      "58/58 - 0s - loss: 0.0023 - mae: 0.0315 - val_loss: 0.0042 - val_mae: 0.0447\n",
      "Epoch 71/500\n",
      "58/58 - 0s - loss: 0.0023 - mae: 0.0315 - val_loss: 0.0042 - val_mae: 0.0447\n",
      "Epoch 72/500\n",
      "58/58 - 0s - loss: 0.0023 - mae: 0.0315 - val_loss: 0.0042 - val_mae: 0.0446\n",
      "Epoch 73/500\n",
      "58/58 - 0s - loss: 0.0023 - mae: 0.0314 - val_loss: 0.0042 - val_mae: 0.0445\n",
      "Epoch 74/500\n",
      "58/58 - 0s - loss: 0.0023 - mae: 0.0314 - val_loss: 0.0042 - val_mae: 0.0445\n",
      "Epoch 75/500\n",
      "58/58 - 0s - loss: 0.0023 - mae: 0.0314 - val_loss: 0.0042 - val_mae: 0.0444\n",
      "Epoch 76/500\n",
      "58/58 - 0s - loss: 0.0023 - mae: 0.0313 - val_loss: 0.0042 - val_mae: 0.0443\n",
      "Epoch 77/500\n",
      "58/58 - 0s - loss: 0.0023 - mae: 0.0313 - val_loss: 0.0042 - val_mae: 0.0442\n",
      "Epoch 78/500\n",
      "58/58 - 0s - loss: 0.0023 - mae: 0.0313 - val_loss: 0.0042 - val_mae: 0.0442\n",
      "Epoch 79/500\n",
      "58/58 - 0s - loss: 0.0023 - mae: 0.0313 - val_loss: 0.0042 - val_mae: 0.0441\n",
      "Epoch 80/500\n",
      "58/58 - 0s - loss: 0.0023 - mae: 0.0312 - val_loss: 0.0042 - val_mae: 0.0440\n",
      "Epoch 81/500\n",
      "58/58 - 0s - loss: 0.0023 - mae: 0.0312 - val_loss: 0.0042 - val_mae: 0.0440\n",
      "Epoch 82/500\n",
      "58/58 - 0s - loss: 0.0023 - mae: 0.0312 - val_loss: 0.0042 - val_mae: 0.0439\n",
      "Epoch 83/500\n",
      "58/58 - 0s - loss: 0.0023 - mae: 0.0311 - val_loss: 0.0042 - val_mae: 0.0439\n",
      "Epoch 84/500\n",
      "58/58 - 0s - loss: 0.0023 - mae: 0.0311 - val_loss: 0.0042 - val_mae: 0.0438\n",
      "Epoch 85/500\n",
      "58/58 - 0s - loss: 0.0023 - mae: 0.0311 - val_loss: 0.0042 - val_mae: 0.0437\n",
      "Epoch 86/500\n",
      "58/58 - 0s - loss: 0.0023 - mae: 0.0311 - val_loss: 0.0042 - val_mae: 0.0437\n",
      "Epoch 87/500\n",
      "58/58 - 0s - loss: 0.0023 - mae: 0.0310 - val_loss: 0.0042 - val_mae: 0.0436\n",
      "Epoch 88/500\n",
      "58/58 - 0s - loss: 0.0023 - mae: 0.0310 - val_loss: 0.0042 - val_mae: 0.0436\n",
      "Epoch 89/500\n",
      "58/58 - 0s - loss: 0.0023 - mae: 0.0310 - val_loss: 0.0042 - val_mae: 0.0435\n",
      "Epoch 90/500\n",
      "58/58 - 0s - loss: 0.0023 - mae: 0.0310 - val_loss: 0.0042 - val_mae: 0.0435\n",
      "Epoch 91/500\n",
      "58/58 - 0s - loss: 0.0023 - mae: 0.0309 - val_loss: 0.0042 - val_mae: 0.0434\n",
      "Epoch 92/500\n"
     ]
    },
    {
     "name": "stdout",
     "output_type": "stream",
     "text": [
      "58/58 - 0s - loss: 0.0023 - mae: 0.0309 - val_loss: 0.0042 - val_mae: 0.0434\n",
      "Epoch 93/500\n",
      "58/58 - 0s - loss: 0.0023 - mae: 0.0309 - val_loss: 0.0042 - val_mae: 0.0433\n",
      "Epoch 94/500\n",
      "58/58 - 0s - loss: 0.0023 - mae: 0.0309 - val_loss: 0.0042 - val_mae: 0.0433\n",
      "Epoch 95/500\n",
      "58/58 - 0s - loss: 0.0023 - mae: 0.0308 - val_loss: 0.0042 - val_mae: 0.0432\n",
      "Epoch 96/500\n",
      "58/58 - 0s - loss: 0.0023 - mae: 0.0308 - val_loss: 0.0042 - val_mae: 0.0432\n",
      "Epoch 97/500\n",
      "58/58 - 0s - loss: 0.0023 - mae: 0.0308 - val_loss: 0.0042 - val_mae: 0.0431\n",
      "Epoch 98/500\n",
      "58/58 - 0s - loss: 0.0023 - mae: 0.0308 - val_loss: 0.0042 - val_mae: 0.0431\n",
      "Epoch 99/500\n",
      "58/58 - 0s - loss: 0.0023 - mae: 0.0308 - val_loss: 0.0042 - val_mae: 0.0430\n",
      "Epoch 100/500\n",
      "58/58 - 0s - loss: 0.0023 - mae: 0.0307 - val_loss: 0.0042 - val_mae: 0.0430\n",
      "Epoch 101/500\n",
      "58/58 - 0s - loss: 0.0022 - mae: 0.0307 - val_loss: 0.0042 - val_mae: 0.0430\n",
      "Epoch 102/500\n",
      "58/58 - 0s - loss: 0.0022 - mae: 0.0307 - val_loss: 0.0042 - val_mae: 0.0429\n",
      "Epoch 103/500\n",
      "58/58 - 0s - loss: 0.0022 - mae: 0.0307 - val_loss: 0.0042 - val_mae: 0.0429\n",
      "Epoch 104/500\n",
      "58/58 - 0s - loss: 0.0022 - mae: 0.0307 - val_loss: 0.0042 - val_mae: 0.0429\n",
      "Epoch 105/500\n",
      "58/58 - 0s - loss: 0.0022 - mae: 0.0306 - val_loss: 0.0042 - val_mae: 0.0428\n",
      "Epoch 106/500\n",
      "58/58 - 0s - loss: 0.0022 - mae: 0.0306 - val_loss: 0.0041 - val_mae: 0.0428\n",
      "Epoch 107/500\n",
      "58/58 - 0s - loss: 0.0022 - mae: 0.0306 - val_loss: 0.0041 - val_mae: 0.0428\n",
      "Epoch 108/500\n",
      "58/58 - 0s - loss: 0.0022 - mae: 0.0306 - val_loss: 0.0041 - val_mae: 0.0427\n",
      "Epoch 109/500\n",
      "58/58 - 0s - loss: 0.0022 - mae: 0.0306 - val_loss: 0.0041 - val_mae: 0.0427\n",
      "Epoch 110/500\n",
      "58/58 - 0s - loss: 0.0022 - mae: 0.0306 - val_loss: 0.0041 - val_mae: 0.0427\n",
      "Epoch 111/500\n",
      "58/58 - 0s - loss: 0.0022 - mae: 0.0305 - val_loss: 0.0041 - val_mae: 0.0426\n",
      "Epoch 112/500\n",
      "58/58 - 0s - loss: 0.0022 - mae: 0.0305 - val_loss: 0.0041 - val_mae: 0.0426\n",
      "Epoch 113/500\n",
      "58/58 - 0s - loss: 0.0022 - mae: 0.0305 - val_loss: 0.0041 - val_mae: 0.0426\n",
      "Epoch 114/500\n",
      "58/58 - 0s - loss: 0.0022 - mae: 0.0305 - val_loss: 0.0041 - val_mae: 0.0425\n",
      "Epoch 115/500\n",
      "58/58 - 0s - loss: 0.0022 - mae: 0.0305 - val_loss: 0.0041 - val_mae: 0.0425\n",
      "Epoch 116/500\n",
      "58/58 - 0s - loss: 0.0022 - mae: 0.0305 - val_loss: 0.0041 - val_mae: 0.0425\n",
      "Epoch 117/500\n",
      "58/58 - 0s - loss: 0.0022 - mae: 0.0305 - val_loss: 0.0041 - val_mae: 0.0425\n",
      "Epoch 118/500\n",
      "58/58 - 0s - loss: 0.0022 - mae: 0.0304 - val_loss: 0.0041 - val_mae: 0.0424\n",
      "Epoch 119/500\n",
      "58/58 - 0s - loss: 0.0022 - mae: 0.0304 - val_loss: 0.0041 - val_mae: 0.0424\n",
      "Epoch 120/500\n",
      "58/58 - 0s - loss: 0.0022 - mae: 0.0304 - val_loss: 0.0041 - val_mae: 0.0424\n",
      "Epoch 121/500\n",
      "58/58 - 0s - loss: 0.0022 - mae: 0.0304 - val_loss: 0.0041 - val_mae: 0.0424\n",
      "Epoch 122/500\n",
      "58/58 - 0s - loss: 0.0022 - mae: 0.0304 - val_loss: 0.0041 - val_mae: 0.0423\n",
      "Epoch 123/500\n",
      "58/58 - 0s - loss: 0.0022 - mae: 0.0304 - val_loss: 0.0041 - val_mae: 0.0423\n",
      "Epoch 124/500\n",
      "58/58 - 0s - loss: 0.0022 - mae: 0.0304 - val_loss: 0.0041 - val_mae: 0.0423\n",
      "Epoch 125/500\n",
      "58/58 - 0s - loss: 0.0022 - mae: 0.0304 - val_loss: 0.0041 - val_mae: 0.0423\n",
      "Epoch 126/500\n",
      "58/58 - 0s - loss: 0.0022 - mae: 0.0303 - val_loss: 0.0041 - val_mae: 0.0423\n",
      "Epoch 127/500\n",
      "58/58 - 0s - loss: 0.0022 - mae: 0.0303 - val_loss: 0.0041 - val_mae: 0.0423\n",
      "Epoch 128/500\n",
      "58/58 - 0s - loss: 0.0022 - mae: 0.0303 - val_loss: 0.0041 - val_mae: 0.0422\n",
      "Epoch 129/500\n",
      "58/58 - 0s - loss: 0.0022 - mae: 0.0303 - val_loss: 0.0041 - val_mae: 0.0422\n",
      "Epoch 130/500\n",
      "58/58 - 0s - loss: 0.0022 - mae: 0.0303 - val_loss: 0.0041 - val_mae: 0.0422\n",
      "Epoch 131/500\n",
      "58/58 - 0s - loss: 0.0022 - mae: 0.0303 - val_loss: 0.0041 - val_mae: 0.0422\n",
      "Epoch 132/500\n",
      "58/58 - 0s - loss: 0.0022 - mae: 0.0303 - val_loss: 0.0041 - val_mae: 0.0422\n",
      "Epoch 133/500\n",
      "58/58 - 0s - loss: 0.0022 - mae: 0.0303 - val_loss: 0.0041 - val_mae: 0.0422\n",
      "Epoch 134/500\n",
      "58/58 - 0s - loss: 0.0022 - mae: 0.0303 - val_loss: 0.0041 - val_mae: 0.0421\n",
      "Epoch 135/500\n",
      "58/58 - 0s - loss: 0.0022 - mae: 0.0303 - val_loss: 0.0041 - val_mae: 0.0421\n",
      "Epoch 136/500\n",
      "58/58 - 0s - loss: 0.0022 - mae: 0.0303 - val_loss: 0.0041 - val_mae: 0.0421\n",
      "Epoch 137/500\n",
      "58/58 - 0s - loss: 0.0022 - mae: 0.0303 - val_loss: 0.0041 - val_mae: 0.0421\n",
      "Epoch 138/500\n",
      "58/58 - 0s - loss: 0.0022 - mae: 0.0303 - val_loss: 0.0041 - val_mae: 0.0421\n",
      "Epoch 139/500\n",
      "58/58 - 0s - loss: 0.0022 - mae: 0.0302 - val_loss: 0.0041 - val_mae: 0.0421\n",
      "Epoch 140/500\n",
      "58/58 - 0s - loss: 0.0022 - mae: 0.0302 - val_loss: 0.0041 - val_mae: 0.0421\n",
      "Epoch 141/500\n",
      "58/58 - 0s - loss: 0.0022 - mae: 0.0302 - val_loss: 0.0041 - val_mae: 0.0420\n",
      "Epoch 142/500\n",
      "58/58 - 0s - loss: 0.0022 - mae: 0.0302 - val_loss: 0.0041 - val_mae: 0.0420\n",
      "Epoch 143/500\n",
      "58/58 - 0s - loss: 0.0022 - mae: 0.0302 - val_loss: 0.0041 - val_mae: 0.0420\n",
      "Epoch 144/500\n",
      "58/58 - 0s - loss: 0.0022 - mae: 0.0302 - val_loss: 0.0041 - val_mae: 0.0420\n",
      "Epoch 145/500\n",
      "58/58 - 0s - loss: 0.0022 - mae: 0.0302 - val_loss: 0.0041 - val_mae: 0.0420\n",
      "Epoch 146/500\n",
      "58/58 - 0s - loss: 0.0022 - mae: 0.0302 - val_loss: 0.0041 - val_mae: 0.0420\n",
      "Epoch 147/500\n",
      "58/58 - 0s - loss: 0.0022 - mae: 0.0302 - val_loss: 0.0041 - val_mae: 0.0420\n",
      "Epoch 148/500\n",
      "58/58 - 0s - loss: 0.0022 - mae: 0.0302 - val_loss: 0.0041 - val_mae: 0.0419\n",
      "Epoch 149/500\n",
      "58/58 - 0s - loss: 0.0022 - mae: 0.0302 - val_loss: 0.0041 - val_mae: 0.0419\n",
      "Epoch 150/500\n",
      "58/58 - 0s - loss: 0.0022 - mae: 0.0302 - val_loss: 0.0041 - val_mae: 0.0419\n",
      "Epoch 151/500\n",
      "58/58 - 0s - loss: 0.0022 - mae: 0.0302 - val_loss: 0.0041 - val_mae: 0.0419\n",
      "Epoch 152/500\n",
      "58/58 - 0s - loss: 0.0022 - mae: 0.0302 - val_loss: 0.0041 - val_mae: 0.0419\n",
      "Epoch 153/500\n",
      "58/58 - 0s - loss: 0.0022 - mae: 0.0302 - val_loss: 0.0041 - val_mae: 0.0419\n",
      "Epoch 154/500\n",
      "58/58 - 0s - loss: 0.0022 - mae: 0.0302 - val_loss: 0.0041 - val_mae: 0.0419\n",
      "Epoch 155/500\n",
      "58/58 - 0s - loss: 0.0022 - mae: 0.0302 - val_loss: 0.0041 - val_mae: 0.0419\n",
      "Epoch 156/500\n",
      "58/58 - 0s - loss: 0.0022 - mae: 0.0302 - val_loss: 0.0041 - val_mae: 0.0418\n",
      "Epoch 157/500\n",
      "58/58 - 1s - loss: 0.0022 - mae: 0.0302 - val_loss: 0.0041 - val_mae: 0.0418\n",
      "Epoch 158/500\n",
      "58/58 - 0s - loss: 0.0022 - mae: 0.0302 - val_loss: 0.0041 - val_mae: 0.0418\n",
      "Epoch 159/500\n",
      "58/58 - 1s - loss: 0.0022 - mae: 0.0302 - val_loss: 0.0041 - val_mae: 0.0418\n",
      "Epoch 160/500\n",
      "58/58 - 0s - loss: 0.0022 - mae: 0.0302 - val_loss: 0.0041 - val_mae: 0.0418\n",
      "Epoch 161/500\n",
      "58/58 - 0s - loss: 0.0022 - mae: 0.0302 - val_loss: 0.0041 - val_mae: 0.0418\n",
      "Epoch 162/500\n",
      "58/58 - 0s - loss: 0.0022 - mae: 0.0302 - val_loss: 0.0041 - val_mae: 0.0418\n",
      "Epoch 163/500\n",
      "58/58 - 1s - loss: 0.0022 - mae: 0.0302 - val_loss: 0.0041 - val_mae: 0.0417\n",
      "Epoch 164/500\n",
      "58/58 - 1s - loss: 0.0022 - mae: 0.0302 - val_loss: 0.0041 - val_mae: 0.0417\n",
      "Epoch 165/500\n",
      "58/58 - 0s - loss: 0.0022 - mae: 0.0302 - val_loss: 0.0041 - val_mae: 0.0417\n",
      "Epoch 166/500\n",
      "58/58 - 0s - loss: 0.0022 - mae: 0.0302 - val_loss: 0.0041 - val_mae: 0.0417\n",
      "Epoch 167/500\n",
      "58/58 - 0s - loss: 0.0022 - mae: 0.0302 - val_loss: 0.0041 - val_mae: 0.0417\n",
      "Epoch 168/500\n",
      "58/58 - 0s - loss: 0.0022 - mae: 0.0302 - val_loss: 0.0041 - val_mae: 0.0417\n",
      "Epoch 169/500\n",
      "58/58 - 0s - loss: 0.0022 - mae: 0.0302 - val_loss: 0.0041 - val_mae: 0.0417\n",
      "Epoch 170/500\n",
      "58/58 - 0s - loss: 0.0022 - mae: 0.0302 - val_loss: 0.0041 - val_mae: 0.0417\n",
      "Epoch 171/500\n",
      "58/58 - 0s - loss: 0.0022 - mae: 0.0302 - val_loss: 0.0041 - val_mae: 0.0416\n",
      "Epoch 172/500\n",
      "58/58 - 0s - loss: 0.0022 - mae: 0.0302 - val_loss: 0.0041 - val_mae: 0.0416\n",
      "Epoch 173/500\n",
      "58/58 - 0s - loss: 0.0022 - mae: 0.0302 - val_loss: 0.0041 - val_mae: 0.0416\n",
      "Epoch 174/500\n",
      "58/58 - 0s - loss: 0.0022 - mae: 0.0302 - val_loss: 0.0041 - val_mae: 0.0416\n",
      "Epoch 175/500\n",
      "58/58 - 0s - loss: 0.0022 - mae: 0.0302 - val_loss: 0.0041 - val_mae: 0.0416\n",
      "Epoch 176/500\n",
      "58/58 - 0s - loss: 0.0022 - mae: 0.0302 - val_loss: 0.0041 - val_mae: 0.0416\n",
      "Epoch 177/500\n",
      "58/58 - 0s - loss: 0.0022 - mae: 0.0302 - val_loss: 0.0041 - val_mae: 0.0416\n",
      "Epoch 178/500\n",
      "58/58 - 0s - loss: 0.0021 - mae: 0.0301 - val_loss: 0.0041 - val_mae: 0.0416\n",
      "Epoch 179/500\n",
      "58/58 - 0s - loss: 0.0021 - mae: 0.0301 - val_loss: 0.0041 - val_mae: 0.0416\n",
      "Epoch 180/500\n",
      "58/58 - 0s - loss: 0.0021 - mae: 0.0301 - val_loss: 0.0041 - val_mae: 0.0416\n",
      "Epoch 181/500\n",
      "58/58 - 0s - loss: 0.0021 - mae: 0.0301 - val_loss: 0.0041 - val_mae: 0.0416\n",
      "Epoch 182/500\n",
      "58/58 - 0s - loss: 0.0021 - mae: 0.0301 - val_loss: 0.0041 - val_mae: 0.0416\n"
     ]
    },
    {
     "name": "stdout",
     "output_type": "stream",
     "text": [
      "Epoch 183/500\n",
      "58/58 - 0s - loss: 0.0021 - mae: 0.0301 - val_loss: 0.0041 - val_mae: 0.0416\n",
      "Epoch 184/500\n",
      "58/58 - 0s - loss: 0.0021 - mae: 0.0301 - val_loss: 0.0042 - val_mae: 0.0416\n",
      "Epoch 185/500\n",
      "58/58 - 0s - loss: 0.0021 - mae: 0.0301 - val_loss: 0.0042 - val_mae: 0.0416\n",
      "Epoch 186/500\n",
      "58/58 - 0s - loss: 0.0021 - mae: 0.0301 - val_loss: 0.0042 - val_mae: 0.0416\n",
      "Epoch 187/500\n",
      "58/58 - 0s - loss: 0.0021 - mae: 0.0301 - val_loss: 0.0042 - val_mae: 0.0416\n",
      "Epoch 188/500\n",
      "58/58 - 0s - loss: 0.0021 - mae: 0.0301 - val_loss: 0.0042 - val_mae: 0.0416\n",
      "Epoch 189/500\n",
      "58/58 - 0s - loss: 0.0021 - mae: 0.0301 - val_loss: 0.0042 - val_mae: 0.0416\n",
      "Epoch 190/500\n",
      "58/58 - 0s - loss: 0.0021 - mae: 0.0301 - val_loss: 0.0042 - val_mae: 0.0416\n",
      "Epoch 191/500\n",
      "58/58 - 0s - loss: 0.0021 - mae: 0.0301 - val_loss: 0.0042 - val_mae: 0.0416\n",
      "Epoch 192/500\n",
      "58/58 - 0s - loss: 0.0021 - mae: 0.0301 - val_loss: 0.0042 - val_mae: 0.0416\n",
      "Epoch 193/500\n",
      "58/58 - 0s - loss: 0.0021 - mae: 0.0301 - val_loss: 0.0042 - val_mae: 0.0416\n",
      "Epoch 194/500\n",
      "58/58 - 0s - loss: 0.0021 - mae: 0.0301 - val_loss: 0.0042 - val_mae: 0.0416\n",
      "Epoch 195/500\n",
      "58/58 - 0s - loss: 0.0021 - mae: 0.0301 - val_loss: 0.0042 - val_mae: 0.0416\n",
      "Epoch 196/500\n",
      "58/58 - 1s - loss: 0.0021 - mae: 0.0301 - val_loss: 0.0042 - val_mae: 0.0416\n",
      "Epoch 197/500\n",
      "58/58 - 1s - loss: 0.0021 - mae: 0.0301 - val_loss: 0.0042 - val_mae: 0.0416\n",
      "Epoch 198/500\n",
      "58/58 - 1s - loss: 0.0021 - mae: 0.0301 - val_loss: 0.0042 - val_mae: 0.0416\n",
      "Epoch 199/500\n",
      "58/58 - 1s - loss: 0.0021 - mae: 0.0301 - val_loss: 0.0042 - val_mae: 0.0416\n",
      "Epoch 200/500\n",
      "58/58 - 1s - loss: 0.0021 - mae: 0.0301 - val_loss: 0.0042 - val_mae: 0.0416\n",
      "Epoch 201/500\n",
      "58/58 - 1s - loss: 0.0021 - mae: 0.0301 - val_loss: 0.0042 - val_mae: 0.0416\n",
      "Epoch 202/500\n",
      "58/58 - 1s - loss: 0.0021 - mae: 0.0301 - val_loss: 0.0042 - val_mae: 0.0416\n",
      "Epoch 203/500\n",
      "58/58 - 1s - loss: 0.0021 - mae: 0.0301 - val_loss: 0.0042 - val_mae: 0.0416\n",
      "Epoch 204/500\n",
      "58/58 - 0s - loss: 0.0021 - mae: 0.0301 - val_loss: 0.0042 - val_mae: 0.0416\n",
      "Epoch 205/500\n",
      "58/58 - 1s - loss: 0.0021 - mae: 0.0301 - val_loss: 0.0042 - val_mae: 0.0416\n",
      "Epoch 206/500\n",
      "58/58 - 1s - loss: 0.0021 - mae: 0.0301 - val_loss: 0.0042 - val_mae: 0.0416\n",
      "Epoch 207/500\n",
      "58/58 - 1s - loss: 0.0021 - mae: 0.0301 - val_loss: 0.0042 - val_mae: 0.0416\n",
      "Epoch 208/500\n",
      "58/58 - 1s - loss: 0.0021 - mae: 0.0300 - val_loss: 0.0042 - val_mae: 0.0416\n",
      "Epoch 209/500\n",
      "58/58 - 0s - loss: 0.0021 - mae: 0.0300 - val_loss: 0.0042 - val_mae: 0.0416\n",
      "Epoch 210/500\n",
      "58/58 - 1s - loss: 0.0021 - mae: 0.0300 - val_loss: 0.0042 - val_mae: 0.0416\n",
      "Epoch 211/500\n",
      "58/58 - 1s - loss: 0.0021 - mae: 0.0300 - val_loss: 0.0042 - val_mae: 0.0416\n",
      "Epoch 212/500\n",
      "58/58 - 1s - loss: 0.0021 - mae: 0.0300 - val_loss: 0.0042 - val_mae: 0.0417\n",
      "Epoch 213/500\n",
      "58/58 - 1s - loss: 0.0021 - mae: 0.0300 - val_loss: 0.0042 - val_mae: 0.0417\n",
      "Epoch 214/500\n",
      "58/58 - 1s - loss: 0.0021 - mae: 0.0300 - val_loss: 0.0042 - val_mae: 0.0417\n",
      "Epoch 215/500\n",
      "58/58 - 1s - loss: 0.0021 - mae: 0.0300 - val_loss: 0.0042 - val_mae: 0.0417\n",
      "Epoch 216/500\n",
      "58/58 - 1s - loss: 0.0021 - mae: 0.0300 - val_loss: 0.0042 - val_mae: 0.0417\n",
      "Epoch 217/500\n",
      "58/58 - 1s - loss: 0.0021 - mae: 0.0300 - val_loss: 0.0042 - val_mae: 0.0417\n",
      "Epoch 218/500\n",
      "58/58 - 1s - loss: 0.0021 - mae: 0.0300 - val_loss: 0.0042 - val_mae: 0.0417\n",
      "Epoch 219/500\n",
      "58/58 - 1s - loss: 0.0021 - mae: 0.0300 - val_loss: 0.0042 - val_mae: 0.0417\n",
      "Epoch 220/500\n",
      "58/58 - 0s - loss: 0.0021 - mae: 0.0300 - val_loss: 0.0042 - val_mae: 0.0417\n",
      "Epoch 221/500\n",
      "58/58 - 0s - loss: 0.0021 - mae: 0.0300 - val_loss: 0.0042 - val_mae: 0.0417\n",
      "Epoch 222/500\n",
      "58/58 - 1s - loss: 0.0021 - mae: 0.0300 - val_loss: 0.0042 - val_mae: 0.0417\n",
      "Epoch 223/500\n",
      "58/58 - 0s - loss: 0.0021 - mae: 0.0300 - val_loss: 0.0042 - val_mae: 0.0417\n",
      "Epoch 224/500\n",
      "58/58 - 0s - loss: 0.0021 - mae: 0.0300 - val_loss: 0.0042 - val_mae: 0.0417\n",
      "Epoch 225/500\n",
      "58/58 - 0s - loss: 0.0021 - mae: 0.0300 - val_loss: 0.0042 - val_mae: 0.0417\n",
      "Epoch 226/500\n",
      "58/58 - 0s - loss: 0.0021 - mae: 0.0300 - val_loss: 0.0042 - val_mae: 0.0418\n",
      "Epoch 227/500\n",
      "58/58 - 0s - loss: 0.0021 - mae: 0.0300 - val_loss: 0.0042 - val_mae: 0.0418\n",
      "Epoch 228/500\n",
      "58/58 - 0s - loss: 0.0021 - mae: 0.0300 - val_loss: 0.0042 - val_mae: 0.0418\n",
      "Epoch 229/500\n",
      "58/58 - 0s - loss: 0.0021 - mae: 0.0300 - val_loss: 0.0042 - val_mae: 0.0418\n",
      "Epoch 230/500\n",
      "58/58 - 0s - loss: 0.0021 - mae: 0.0300 - val_loss: 0.0042 - val_mae: 0.0418\n",
      "Epoch 231/500\n",
      "58/58 - 0s - loss: 0.0021 - mae: 0.0299 - val_loss: 0.0042 - val_mae: 0.0418\n",
      "Epoch 232/500\n",
      "58/58 - 0s - loss: 0.0021 - mae: 0.0299 - val_loss: 0.0042 - val_mae: 0.0418\n",
      "Epoch 233/500\n",
      "58/58 - 0s - loss: 0.0021 - mae: 0.0299 - val_loss: 0.0042 - val_mae: 0.0418\n",
      "Epoch 234/500\n",
      "58/58 - 0s - loss: 0.0021 - mae: 0.0299 - val_loss: 0.0042 - val_mae: 0.0418\n",
      "Epoch 235/500\n",
      "58/58 - 1s - loss: 0.0021 - mae: 0.0299 - val_loss: 0.0042 - val_mae: 0.0418\n",
      "Epoch 236/500\n",
      "58/58 - 0s - loss: 0.0021 - mae: 0.0299 - val_loss: 0.0042 - val_mae: 0.0418\n",
      "Epoch 237/500\n",
      "58/58 - 0s - loss: 0.0021 - mae: 0.0299 - val_loss: 0.0042 - val_mae: 0.0418\n",
      "Epoch 238/500\n",
      "58/58 - 0s - loss: 0.0021 - mae: 0.0299 - val_loss: 0.0042 - val_mae: 0.0418\n",
      "Epoch 239/500\n",
      "58/58 - 0s - loss: 0.0021 - mae: 0.0299 - val_loss: 0.0042 - val_mae: 0.0418\n",
      "Epoch 240/500\n",
      "58/58 - 0s - loss: 0.0021 - mae: 0.0299 - val_loss: 0.0042 - val_mae: 0.0418\n",
      "Epoch 241/500\n",
      "58/58 - 0s - loss: 0.0021 - mae: 0.0299 - val_loss: 0.0042 - val_mae: 0.0419\n",
      "Epoch 242/500\n",
      "58/58 - 0s - loss: 0.0021 - mae: 0.0299 - val_loss: 0.0042 - val_mae: 0.0419\n",
      "Epoch 243/500\n",
      "58/58 - 0s - loss: 0.0021 - mae: 0.0299 - val_loss: 0.0042 - val_mae: 0.0419\n",
      "Epoch 244/500\n",
      "58/58 - 1s - loss: 0.0021 - mae: 0.0299 - val_loss: 0.0042 - val_mae: 0.0419\n",
      "Epoch 245/500\n",
      "58/58 - 0s - loss: 0.0021 - mae: 0.0299 - val_loss: 0.0042 - val_mae: 0.0419\n",
      "Epoch 246/500\n",
      "58/58 - 0s - loss: 0.0021 - mae: 0.0299 - val_loss: 0.0042 - val_mae: 0.0419\n",
      "Epoch 247/500\n",
      "58/58 - 0s - loss: 0.0021 - mae: 0.0299 - val_loss: 0.0042 - val_mae: 0.0419\n",
      "Epoch 248/500\n",
      "58/58 - 0s - loss: 0.0021 - mae: 0.0298 - val_loss: 0.0042 - val_mae: 0.0419\n",
      "Epoch 249/500\n",
      "58/58 - 1s - loss: 0.0021 - mae: 0.0298 - val_loss: 0.0042 - val_mae: 0.0419\n",
      "Epoch 250/500\n",
      "58/58 - 0s - loss: 0.0021 - mae: 0.0298 - val_loss: 0.0042 - val_mae: 0.0419\n",
      "Epoch 251/500\n",
      "58/58 - 1s - loss: 0.0021 - mae: 0.0298 - val_loss: 0.0042 - val_mae: 0.0419\n",
      "Epoch 252/500\n",
      "58/58 - 1s - loss: 0.0021 - mae: 0.0298 - val_loss: 0.0042 - val_mae: 0.0419\n",
      "Epoch 253/500\n",
      "58/58 - 0s - loss: 0.0021 - mae: 0.0298 - val_loss: 0.0042 - val_mae: 0.0419\n",
      "Epoch 254/500\n",
      "58/58 - 0s - loss: 0.0021 - mae: 0.0298 - val_loss: 0.0042 - val_mae: 0.0419\n",
      "Epoch 255/500\n",
      "58/58 - 0s - loss: 0.0021 - mae: 0.0298 - val_loss: 0.0042 - val_mae: 0.0419\n",
      "Epoch 256/500\n",
      "58/58 - 0s - loss: 0.0021 - mae: 0.0298 - val_loss: 0.0042 - val_mae: 0.0419\n",
      "Epoch 257/500\n",
      "58/58 - 0s - loss: 0.0021 - mae: 0.0298 - val_loss: 0.0042 - val_mae: 0.0419\n",
      "Epoch 258/500\n",
      "58/58 - 0s - loss: 0.0021 - mae: 0.0298 - val_loss: 0.0042 - val_mae: 0.0419\n",
      "Epoch 259/500\n",
      "58/58 - 0s - loss: 0.0021 - mae: 0.0298 - val_loss: 0.0042 - val_mae: 0.0419\n",
      "Epoch 260/500\n",
      "58/58 - 0s - loss: 0.0021 - mae: 0.0298 - val_loss: 0.0042 - val_mae: 0.0419\n",
      "Epoch 261/500\n",
      "58/58 - 0s - loss: 0.0021 - mae: 0.0297 - val_loss: 0.0042 - val_mae: 0.0419\n",
      "Epoch 262/500\n",
      "58/58 - 0s - loss: 0.0021 - mae: 0.0297 - val_loss: 0.0042 - val_mae: 0.0420\n",
      "Epoch 263/500\n",
      "58/58 - 0s - loss: 0.0021 - mae: 0.0297 - val_loss: 0.0042 - val_mae: 0.0420\n",
      "Epoch 264/500\n",
      "58/58 - 0s - loss: 0.0021 - mae: 0.0297 - val_loss: 0.0042 - val_mae: 0.0420\n",
      "Epoch 265/500\n",
      "58/58 - 0s - loss: 0.0021 - mae: 0.0297 - val_loss: 0.0042 - val_mae: 0.0420\n",
      "Epoch 266/500\n",
      "58/58 - 0s - loss: 0.0021 - mae: 0.0297 - val_loss: 0.0042 - val_mae: 0.0420\n",
      "Epoch 267/500\n",
      "58/58 - 0s - loss: 0.0021 - mae: 0.0297 - val_loss: 0.0042 - val_mae: 0.0420\n",
      "Epoch 268/500\n",
      "58/58 - 0s - loss: 0.0021 - mae: 0.0297 - val_loss: 0.0042 - val_mae: 0.0420\n",
      "Epoch 269/500\n",
      "58/58 - 0s - loss: 0.0021 - mae: 0.0297 - val_loss: 0.0042 - val_mae: 0.0420\n",
      "Epoch 270/500\n",
      "58/58 - 0s - loss: 0.0021 - mae: 0.0296 - val_loss: 0.0042 - val_mae: 0.0420\n",
      "Epoch 271/500\n",
      "58/58 - 0s - loss: 0.0021 - mae: 0.0296 - val_loss: 0.0042 - val_mae: 0.0420\n",
      "Epoch 272/500\n",
      "58/58 - 0s - loss: 0.0021 - mae: 0.0296 - val_loss: 0.0043 - val_mae: 0.0420\n",
      "Epoch 273/500\n"
     ]
    },
    {
     "name": "stdout",
     "output_type": "stream",
     "text": [
      "58/58 - 0s - loss: 0.0021 - mae: 0.0296 - val_loss: 0.0043 - val_mae: 0.0420\n",
      "Epoch 274/500\n",
      "58/58 - 0s - loss: 0.0021 - mae: 0.0296 - val_loss: 0.0043 - val_mae: 0.0420\n",
      "Epoch 275/500\n",
      "58/58 - 0s - loss: 0.0021 - mae: 0.0296 - val_loss: 0.0043 - val_mae: 0.0420\n",
      "Epoch 276/500\n",
      "58/58 - 0s - loss: 0.0021 - mae: 0.0296 - val_loss: 0.0043 - val_mae: 0.0420\n",
      "Epoch 277/500\n",
      "58/58 - 0s - loss: 0.0020 - mae: 0.0296 - val_loss: 0.0043 - val_mae: 0.0420\n",
      "Epoch 278/500\n",
      "58/58 - 0s - loss: 0.0020 - mae: 0.0295 - val_loss: 0.0043 - val_mae: 0.0420\n",
      "Epoch 279/500\n",
      "58/58 - 0s - loss: 0.0020 - mae: 0.0295 - val_loss: 0.0043 - val_mae: 0.0420\n",
      "Epoch 280/500\n",
      "58/58 - 0s - loss: 0.0020 - mae: 0.0295 - val_loss: 0.0043 - val_mae: 0.0421\n",
      "Epoch 281/500\n",
      "58/58 - 0s - loss: 0.0020 - mae: 0.0295 - val_loss: 0.0043 - val_mae: 0.0421\n",
      "Epoch 282/500\n",
      "58/58 - 0s - loss: 0.0020 - mae: 0.0295 - val_loss: 0.0043 - val_mae: 0.0421\n",
      "Epoch 283/500\n",
      "58/58 - 0s - loss: 0.0020 - mae: 0.0295 - val_loss: 0.0043 - val_mae: 0.0421\n",
      "Epoch 284/500\n",
      "58/58 - 0s - loss: 0.0020 - mae: 0.0295 - val_loss: 0.0043 - val_mae: 0.0421\n",
      "Epoch 285/500\n",
      "58/58 - 0s - loss: 0.0020 - mae: 0.0294 - val_loss: 0.0043 - val_mae: 0.0421\n",
      "Epoch 286/500\n",
      "58/58 - 0s - loss: 0.0020 - mae: 0.0294 - val_loss: 0.0043 - val_mae: 0.0421\n",
      "Epoch 287/500\n",
      "58/58 - 0s - loss: 0.0020 - mae: 0.0294 - val_loss: 0.0043 - val_mae: 0.0421\n",
      "Epoch 288/500\n",
      "58/58 - 0s - loss: 0.0020 - mae: 0.0294 - val_loss: 0.0043 - val_mae: 0.0421\n",
      "Epoch 289/500\n",
      "58/58 - 0s - loss: 0.0020 - mae: 0.0294 - val_loss: 0.0043 - val_mae: 0.0421\n",
      "Epoch 290/500\n",
      "58/58 - 0s - loss: 0.0020 - mae: 0.0294 - val_loss: 0.0043 - val_mae: 0.0421\n",
      "Epoch 291/500\n",
      "58/58 - 0s - loss: 0.0020 - mae: 0.0294 - val_loss: 0.0043 - val_mae: 0.0421\n",
      "Epoch 292/500\n",
      "58/58 - 0s - loss: 0.0020 - mae: 0.0294 - val_loss: 0.0043 - val_mae: 0.0421\n",
      "Epoch 293/500\n",
      "58/58 - 0s - loss: 0.0020 - mae: 0.0293 - val_loss: 0.0043 - val_mae: 0.0422\n",
      "Epoch 294/500\n",
      "58/58 - 0s - loss: 0.0020 - mae: 0.0293 - val_loss: 0.0043 - val_mae: 0.0422\n",
      "Epoch 295/500\n",
      "58/58 - 0s - loss: 0.0020 - mae: 0.0293 - val_loss: 0.0043 - val_mae: 0.0422\n",
      "Epoch 296/500\n",
      "58/58 - 0s - loss: 0.0020 - mae: 0.0293 - val_loss: 0.0043 - val_mae: 0.0422\n",
      "Epoch 297/500\n",
      "58/58 - 0s - loss: 0.0020 - mae: 0.0293 - val_loss: 0.0043 - val_mae: 0.0422\n",
      "Epoch 298/500\n",
      "58/58 - 0s - loss: 0.0020 - mae: 0.0293 - val_loss: 0.0043 - val_mae: 0.0422\n",
      "Epoch 299/500\n",
      "58/58 - 0s - loss: 0.0020 - mae: 0.0293 - val_loss: 0.0043 - val_mae: 0.0422\n",
      "Epoch 300/500\n",
      "58/58 - 0s - loss: 0.0020 - mae: 0.0293 - val_loss: 0.0043 - val_mae: 0.0422\n",
      "Epoch 301/500\n",
      "58/58 - 0s - loss: 0.0020 - mae: 0.0293 - val_loss: 0.0043 - val_mae: 0.0422\n",
      "Epoch 302/500\n",
      "58/58 - 1s - loss: 0.0020 - mae: 0.0292 - val_loss: 0.0043 - val_mae: 0.0422\n",
      "Epoch 303/500\n",
      "58/58 - 1s - loss: 0.0020 - mae: 0.0292 - val_loss: 0.0043 - val_mae: 0.0422\n",
      "Epoch 304/500\n",
      "58/58 - 1s - loss: 0.0020 - mae: 0.0292 - val_loss: 0.0043 - val_mae: 0.0422\n",
      "Epoch 305/500\n",
      "58/58 - 1s - loss: 0.0020 - mae: 0.0292 - val_loss: 0.0043 - val_mae: 0.0422\n",
      "Epoch 306/500\n",
      "58/58 - 0s - loss: 0.0020 - mae: 0.0292 - val_loss: 0.0043 - val_mae: 0.0422\n",
      "Epoch 307/500\n",
      "58/58 - 1s - loss: 0.0020 - mae: 0.0292 - val_loss: 0.0043 - val_mae: 0.0422\n",
      "Epoch 308/500\n",
      "58/58 - 1s - loss: 0.0020 - mae: 0.0292 - val_loss: 0.0043 - val_mae: 0.0422\n",
      "Epoch 309/500\n",
      "58/58 - 0s - loss: 0.0020 - mae: 0.0292 - val_loss: 0.0043 - val_mae: 0.0422\n",
      "Epoch 310/500\n",
      "58/58 - 0s - loss: 0.0020 - mae: 0.0291 - val_loss: 0.0043 - val_mae: 0.0422\n",
      "Epoch 311/500\n",
      "58/58 - 1s - loss: 0.0020 - mae: 0.0291 - val_loss: 0.0043 - val_mae: 0.0421\n",
      "Epoch 312/500\n",
      "58/58 - 0s - loss: 0.0020 - mae: 0.0291 - val_loss: 0.0043 - val_mae: 0.0422\n",
      "Epoch 313/500\n",
      "58/58 - 0s - loss: 0.0020 - mae: 0.0291 - val_loss: 0.0043 - val_mae: 0.0421\n",
      "Epoch 314/500\n",
      "58/58 - 0s - loss: 0.0020 - mae: 0.0291 - val_loss: 0.0043 - val_mae: 0.0422\n",
      "Epoch 315/500\n",
      "58/58 - 0s - loss: 0.0020 - mae: 0.0291 - val_loss: 0.0043 - val_mae: 0.0421\n",
      "Epoch 316/500\n",
      "58/58 - 0s - loss: 0.0020 - mae: 0.0291 - val_loss: 0.0043 - val_mae: 0.0423\n",
      "Epoch 317/500\n",
      "58/58 - 0s - loss: 0.0020 - mae: 0.0291 - val_loss: 0.0043 - val_mae: 0.0420\n",
      "Epoch 318/500\n",
      "58/58 - 1s - loss: 0.0020 - mae: 0.0290 - val_loss: 0.0043 - val_mae: 0.0424\n",
      "Epoch 319/500\n",
      "58/58 - 1s - loss: 0.0020 - mae: 0.0291 - val_loss: 0.0042 - val_mae: 0.0419\n",
      "Epoch 320/500\n",
      "58/58 - 1s - loss: 0.0020 - mae: 0.0290 - val_loss: 0.0043 - val_mae: 0.0424\n",
      "Epoch 321/500\n",
      "58/58 - 0s - loss: 0.0020 - mae: 0.0291 - val_loss: 0.0042 - val_mae: 0.0418\n",
      "Epoch 322/500\n",
      "58/58 - 0s - loss: 0.0020 - mae: 0.0290 - val_loss: 0.0043 - val_mae: 0.0423\n",
      "Epoch 323/500\n",
      "58/58 - 0s - loss: 0.0020 - mae: 0.0290 - val_loss: 0.0042 - val_mae: 0.0418\n",
      "Epoch 324/500\n",
      "58/58 - 0s - loss: 0.0020 - mae: 0.0290 - val_loss: 0.0043 - val_mae: 0.0423\n",
      "Epoch 325/500\n",
      "58/58 - 0s - loss: 0.0020 - mae: 0.0290 - val_loss: 0.0042 - val_mae: 0.0419\n",
      "Epoch 326/500\n",
      "58/58 - 0s - loss: 0.0020 - mae: 0.0289 - val_loss: 0.0043 - val_mae: 0.0423\n",
      "Epoch 327/500\n",
      "58/58 - 0s - loss: 0.0020 - mae: 0.0289 - val_loss: 0.0042 - val_mae: 0.0419\n",
      "Epoch 328/500\n",
      "58/58 - 0s - loss: 0.0020 - mae: 0.0289 - val_loss: 0.0043 - val_mae: 0.0423\n",
      "Epoch 329/500\n",
      "58/58 - 1s - loss: 0.0020 - mae: 0.0289 - val_loss: 0.0042 - val_mae: 0.0419\n",
      "Epoch 330/500\n",
      "58/58 - 0s - loss: 0.0020 - mae: 0.0289 - val_loss: 0.0043 - val_mae: 0.0423\n",
      "Epoch 331/500\n",
      "58/58 - 0s - loss: 0.0020 - mae: 0.0289 - val_loss: 0.0042 - val_mae: 0.0419\n",
      "Epoch 332/500\n",
      "58/58 - 1s - loss: 0.0020 - mae: 0.0288 - val_loss: 0.0043 - val_mae: 0.0423\n",
      "Epoch 333/500\n",
      "58/58 - 0s - loss: 0.0020 - mae: 0.0288 - val_loss: 0.0042 - val_mae: 0.0419\n",
      "Epoch 334/500\n",
      "58/58 - 0s - loss: 0.0020 - mae: 0.0288 - val_loss: 0.0043 - val_mae: 0.0422\n",
      "Epoch 335/500\n",
      "58/58 - 1s - loss: 0.0020 - mae: 0.0288 - val_loss: 0.0042 - val_mae: 0.0419\n",
      "Epoch 336/500\n",
      "58/58 - 1s - loss: 0.0020 - mae: 0.0288 - val_loss: 0.0043 - val_mae: 0.0422\n",
      "Epoch 337/500\n",
      "58/58 - 0s - loss: 0.0020 - mae: 0.0288 - val_loss: 0.0042 - val_mae: 0.0419\n",
      "Epoch 338/500\n",
      "58/58 - 0s - loss: 0.0020 - mae: 0.0288 - val_loss: 0.0043 - val_mae: 0.0422\n",
      "Epoch 339/500\n",
      "58/58 - 0s - loss: 0.0020 - mae: 0.0288 - val_loss: 0.0042 - val_mae: 0.0419\n",
      "Epoch 340/500\n",
      "58/58 - 0s - loss: 0.0020 - mae: 0.0287 - val_loss: 0.0043 - val_mae: 0.0422\n",
      "Epoch 341/500\n",
      "58/58 - 0s - loss: 0.0020 - mae: 0.0287 - val_loss: 0.0042 - val_mae: 0.0419\n",
      "Epoch 342/500\n",
      "58/58 - 0s - loss: 0.0020 - mae: 0.0287 - val_loss: 0.0043 - val_mae: 0.0422\n",
      "Epoch 343/500\n",
      "58/58 - 0s - loss: 0.0020 - mae: 0.0287 - val_loss: 0.0042 - val_mae: 0.0419\n",
      "Epoch 344/500\n",
      "58/58 - 0s - loss: 0.0020 - mae: 0.0287 - val_loss: 0.0043 - val_mae: 0.0422\n",
      "Epoch 345/500\n",
      "58/58 - 0s - loss: 0.0020 - mae: 0.0287 - val_loss: 0.0042 - val_mae: 0.0419\n",
      "Epoch 346/500\n",
      "58/58 - 0s - loss: 0.0020 - mae: 0.0287 - val_loss: 0.0043 - val_mae: 0.0422\n",
      "Epoch 347/500\n",
      "58/58 - 0s - loss: 0.0020 - mae: 0.0286 - val_loss: 0.0042 - val_mae: 0.0419\n",
      "Epoch 348/500\n",
      "58/58 - 0s - loss: 0.0020 - mae: 0.0286 - val_loss: 0.0043 - val_mae: 0.0422\n",
      "Epoch 349/500\n",
      "58/58 - 0s - loss: 0.0020 - mae: 0.0286 - val_loss: 0.0042 - val_mae: 0.0419\n",
      "Epoch 350/500\n",
      "58/58 - 0s - loss: 0.0020 - mae: 0.0286 - val_loss: 0.0043 - val_mae: 0.0421\n",
      "Epoch 351/500\n",
      "58/58 - 0s - loss: 0.0020 - mae: 0.0286 - val_loss: 0.0042 - val_mae: 0.0419\n",
      "Epoch 352/500\n",
      "58/58 - 0s - loss: 0.0020 - mae: 0.0286 - val_loss: 0.0043 - val_mae: 0.0421\n",
      "Epoch 353/500\n",
      "58/58 - 1s - loss: 0.0020 - mae: 0.0286 - val_loss: 0.0042 - val_mae: 0.0419\n",
      "Epoch 354/500\n",
      "58/58 - 0s - loss: 0.0020 - mae: 0.0286 - val_loss: 0.0043 - val_mae: 0.0421\n",
      "Epoch 355/500\n",
      "58/58 - 0s - loss: 0.0020 - mae: 0.0285 - val_loss: 0.0042 - val_mae: 0.0419\n",
      "Epoch 356/500\n",
      "58/58 - 0s - loss: 0.0020 - mae: 0.0285 - val_loss: 0.0042 - val_mae: 0.0421\n",
      "Epoch 357/500\n",
      "58/58 - 0s - loss: 0.0020 - mae: 0.0285 - val_loss: 0.0042 - val_mae: 0.0419\n",
      "Epoch 358/500\n",
      "58/58 - 1s - loss: 0.0020 - mae: 0.0285 - val_loss: 0.0042 - val_mae: 0.0421\n",
      "Epoch 359/500\n",
      "58/58 - 0s - loss: 0.0020 - mae: 0.0285 - val_loss: 0.0042 - val_mae: 0.0419\n",
      "Epoch 360/500\n",
      "58/58 - 1s - loss: 0.0020 - mae: 0.0285 - val_loss: 0.0042 - val_mae: 0.0421\n",
      "Epoch 361/500\n",
      "58/58 - 1s - loss: 0.0020 - mae: 0.0285 - val_loss: 0.0042 - val_mae: 0.0419\n",
      "Epoch 362/500\n",
      "58/58 - 1s - loss: 0.0020 - mae: 0.0285 - val_loss: 0.0042 - val_mae: 0.0420\n",
      "Epoch 363/500\n",
      "58/58 - 0s - loss: 0.0020 - mae: 0.0285 - val_loss: 0.0042 - val_mae: 0.0419\n"
     ]
    },
    {
     "name": "stdout",
     "output_type": "stream",
     "text": [
      "Epoch 364/500\n",
      "58/58 - 0s - loss: 0.0020 - mae: 0.0284 - val_loss: 0.0042 - val_mae: 0.0420\n",
      "Epoch 365/500\n",
      "58/58 - 1s - loss: 0.0020 - mae: 0.0284 - val_loss: 0.0042 - val_mae: 0.0419\n",
      "Epoch 366/500\n",
      "58/58 - 0s - loss: 0.0020 - mae: 0.0284 - val_loss: 0.0042 - val_mae: 0.0420\n",
      "Epoch 367/500\n",
      "58/58 - 1s - loss: 0.0020 - mae: 0.0284 - val_loss: 0.0042 - val_mae: 0.0419\n",
      "Epoch 368/500\n",
      "58/58 - 1s - loss: 0.0020 - mae: 0.0284 - val_loss: 0.0042 - val_mae: 0.0420\n",
      "Epoch 369/500\n",
      "58/58 - 0s - loss: 0.0020 - mae: 0.0284 - val_loss: 0.0042 - val_mae: 0.0419\n",
      "Epoch 370/500\n",
      "58/58 - 0s - loss: 0.0020 - mae: 0.0284 - val_loss: 0.0042 - val_mae: 0.0420\n",
      "Epoch 371/500\n",
      "58/58 - 0s - loss: 0.0020 - mae: 0.0283 - val_loss: 0.0042 - val_mae: 0.0419\n",
      "Epoch 372/500\n",
      "58/58 - 0s - loss: 0.0019 - mae: 0.0283 - val_loss: 0.0042 - val_mae: 0.0419\n",
      "Epoch 373/500\n",
      "58/58 - 0s - loss: 0.0020 - mae: 0.0283 - val_loss: 0.0042 - val_mae: 0.0419\n",
      "Epoch 374/500\n",
      "58/58 - 0s - loss: 0.0019 - mae: 0.0283 - val_loss: 0.0042 - val_mae: 0.0419\n",
      "Epoch 375/500\n",
      "58/58 - 0s - loss: 0.0019 - mae: 0.0283 - val_loss: 0.0042 - val_mae: 0.0418\n",
      "Epoch 376/500\n",
      "58/58 - 0s - loss: 0.0019 - mae: 0.0283 - val_loss: 0.0042 - val_mae: 0.0419\n",
      "Epoch 377/500\n",
      "58/58 - 0s - loss: 0.0019 - mae: 0.0283 - val_loss: 0.0042 - val_mae: 0.0418\n",
      "Epoch 378/500\n",
      "58/58 - 0s - loss: 0.0019 - mae: 0.0283 - val_loss: 0.0042 - val_mae: 0.0419\n",
      "Epoch 379/500\n",
      "58/58 - 0s - loss: 0.0019 - mae: 0.0282 - val_loss: 0.0042 - val_mae: 0.0418\n",
      "Epoch 380/500\n",
      "58/58 - 0s - loss: 0.0019 - mae: 0.0282 - val_loss: 0.0042 - val_mae: 0.0419\n",
      "Epoch 381/500\n",
      "58/58 - 0s - loss: 0.0019 - mae: 0.0282 - val_loss: 0.0042 - val_mae: 0.0418\n",
      "Epoch 382/500\n",
      "58/58 - 0s - loss: 0.0019 - mae: 0.0282 - val_loss: 0.0042 - val_mae: 0.0418\n",
      "Epoch 383/500\n",
      "58/58 - 0s - loss: 0.0019 - mae: 0.0282 - val_loss: 0.0042 - val_mae: 0.0418\n",
      "Epoch 384/500\n",
      "58/58 - 0s - loss: 0.0019 - mae: 0.0282 - val_loss: 0.0042 - val_mae: 0.0418\n",
      "Epoch 385/500\n",
      "58/58 - 0s - loss: 0.0019 - mae: 0.0282 - val_loss: 0.0042 - val_mae: 0.0418\n",
      "Epoch 386/500\n",
      "58/58 - 0s - loss: 0.0019 - mae: 0.0282 - val_loss: 0.0042 - val_mae: 0.0418\n",
      "Epoch 387/500\n",
      "58/58 - 0s - loss: 0.0019 - mae: 0.0281 - val_loss: 0.0042 - val_mae: 0.0418\n",
      "Epoch 388/500\n",
      "58/58 - 0s - loss: 0.0019 - mae: 0.0281 - val_loss: 0.0042 - val_mae: 0.0418\n",
      "Epoch 389/500\n",
      "58/58 - 0s - loss: 0.0019 - mae: 0.0281 - val_loss: 0.0042 - val_mae: 0.0418\n",
      "Epoch 390/500\n",
      "58/58 - 0s - loss: 0.0019 - mae: 0.0281 - val_loss: 0.0042 - val_mae: 0.0418\n",
      "Epoch 391/500\n",
      "58/58 - 0s - loss: 0.0019 - mae: 0.0281 - val_loss: 0.0042 - val_mae: 0.0418\n",
      "Epoch 392/500\n",
      "58/58 - 0s - loss: 0.0019 - mae: 0.0281 - val_loss: 0.0042 - val_mae: 0.0418\n",
      "Epoch 393/500\n",
      "58/58 - 0s - loss: 0.0019 - mae: 0.0281 - val_loss: 0.0042 - val_mae: 0.0417\n",
      "Epoch 394/500\n",
      "58/58 - 0s - loss: 0.0019 - mae: 0.0281 - val_loss: 0.0042 - val_mae: 0.0417\n",
      "Epoch 395/500\n",
      "58/58 - 0s - loss: 0.0019 - mae: 0.0281 - val_loss: 0.0042 - val_mae: 0.0417\n",
      "Epoch 396/500\n",
      "58/58 - 0s - loss: 0.0019 - mae: 0.0280 - val_loss: 0.0042 - val_mae: 0.0417\n",
      "Epoch 397/500\n",
      "58/58 - 0s - loss: 0.0019 - mae: 0.0280 - val_loss: 0.0042 - val_mae: 0.0417\n",
      "Epoch 398/500\n",
      "58/58 - 1s - loss: 0.0019 - mae: 0.0280 - val_loss: 0.0042 - val_mae: 0.0417\n",
      "Epoch 399/500\n",
      "58/58 - 0s - loss: 0.0019 - mae: 0.0280 - val_loss: 0.0042 - val_mae: 0.0417\n",
      "Epoch 400/500\n",
      "58/58 - 0s - loss: 0.0019 - mae: 0.0280 - val_loss: 0.0042 - val_mae: 0.0417\n",
      "Epoch 401/500\n",
      "58/58 - 0s - loss: 0.0019 - mae: 0.0280 - val_loss: 0.0042 - val_mae: 0.0417\n",
      "Epoch 402/500\n",
      "58/58 - 0s - loss: 0.0019 - mae: 0.0280 - val_loss: 0.0042 - val_mae: 0.0417\n",
      "Epoch 403/500\n",
      "58/58 - 0s - loss: 0.0019 - mae: 0.0280 - val_loss: 0.0042 - val_mae: 0.0417\n",
      "Epoch 404/500\n",
      "58/58 - 0s - loss: 0.0019 - mae: 0.0280 - val_loss: 0.0042 - val_mae: 0.0417\n",
      "Epoch 405/500\n",
      "58/58 - 0s - loss: 0.0019 - mae: 0.0280 - val_loss: 0.0042 - val_mae: 0.0417\n",
      "Epoch 406/500\n",
      "58/58 - 0s - loss: 0.0019 - mae: 0.0279 - val_loss: 0.0042 - val_mae: 0.0417\n",
      "Epoch 407/500\n",
      "58/58 - 0s - loss: 0.0019 - mae: 0.0279 - val_loss: 0.0042 - val_mae: 0.0417\n",
      "Epoch 408/500\n",
      "58/58 - 0s - loss: 0.0019 - mae: 0.0279 - val_loss: 0.0042 - val_mae: 0.0417\n",
      "Epoch 409/500\n",
      "58/58 - 0s - loss: 0.0019 - mae: 0.0279 - val_loss: 0.0042 - val_mae: 0.0416\n",
      "Epoch 410/500\n",
      "58/58 - 0s - loss: 0.0019 - mae: 0.0279 - val_loss: 0.0042 - val_mae: 0.0416\n",
      "Epoch 411/500\n",
      "58/58 - 0s - loss: 0.0019 - mae: 0.0279 - val_loss: 0.0042 - val_mae: 0.0416\n",
      "Epoch 412/500\n",
      "58/58 - 0s - loss: 0.0019 - mae: 0.0279 - val_loss: 0.0042 - val_mae: 0.0416\n",
      "Epoch 413/500\n",
      "58/58 - 0s - loss: 0.0019 - mae: 0.0279 - val_loss: 0.0042 - val_mae: 0.0416\n",
      "Epoch 414/500\n",
      "58/58 - 0s - loss: 0.0019 - mae: 0.0279 - val_loss: 0.0042 - val_mae: 0.0416\n",
      "Epoch 415/500\n",
      "58/58 - 0s - loss: 0.0019 - mae: 0.0279 - val_loss: 0.0042 - val_mae: 0.0416\n",
      "Epoch 416/500\n",
      "58/58 - 0s - loss: 0.0019 - mae: 0.0279 - val_loss: 0.0042 - val_mae: 0.0416\n",
      "Epoch 417/500\n",
      "58/58 - 0s - loss: 0.0019 - mae: 0.0278 - val_loss: 0.0042 - val_mae: 0.0416\n",
      "Epoch 418/500\n",
      "58/58 - 0s - loss: 0.0019 - mae: 0.0278 - val_loss: 0.0042 - val_mae: 0.0416\n",
      "Epoch 419/500\n",
      "58/58 - 0s - loss: 0.0019 - mae: 0.0278 - val_loss: 0.0042 - val_mae: 0.0416\n",
      "Epoch 420/500\n",
      "58/58 - 0s - loss: 0.0019 - mae: 0.0278 - val_loss: 0.0042 - val_mae: 0.0416\n",
      "Epoch 421/500\n",
      "58/58 - 0s - loss: 0.0019 - mae: 0.0278 - val_loss: 0.0042 - val_mae: 0.0416\n",
      "Epoch 422/500\n",
      "58/58 - 0s - loss: 0.0019 - mae: 0.0278 - val_loss: 0.0042 - val_mae: 0.0416\n",
      "Epoch 423/500\n",
      "58/58 - 0s - loss: 0.0019 - mae: 0.0278 - val_loss: 0.0042 - val_mae: 0.0416\n",
      "Epoch 424/500\n",
      "58/58 - 0s - loss: 0.0019 - mae: 0.0278 - val_loss: 0.0042 - val_mae: 0.0416\n",
      "Epoch 425/500\n",
      "58/58 - 0s - loss: 0.0019 - mae: 0.0278 - val_loss: 0.0042 - val_mae: 0.0416\n",
      "Epoch 426/500\n",
      "58/58 - 0s - loss: 0.0019 - mae: 0.0278 - val_loss: 0.0042 - val_mae: 0.0416\n",
      "Epoch 427/500\n",
      "58/58 - 0s - loss: 0.0019 - mae: 0.0277 - val_loss: 0.0042 - val_mae: 0.0415\n",
      "Epoch 428/500\n",
      "58/58 - 0s - loss: 0.0019 - mae: 0.0277 - val_loss: 0.0042 - val_mae: 0.0415\n",
      "Epoch 429/500\n",
      "58/58 - 0s - loss: 0.0019 - mae: 0.0277 - val_loss: 0.0042 - val_mae: 0.0415\n",
      "Epoch 430/500\n",
      "58/58 - 0s - loss: 0.0019 - mae: 0.0277 - val_loss: 0.0042 - val_mae: 0.0415\n",
      "Epoch 431/500\n",
      "58/58 - 0s - loss: 0.0019 - mae: 0.0277 - val_loss: 0.0042 - val_mae: 0.0415\n",
      "Epoch 432/500\n",
      "58/58 - 0s - loss: 0.0019 - mae: 0.0277 - val_loss: 0.0042 - val_mae: 0.0415\n",
      "Epoch 433/500\n",
      "58/58 - 0s - loss: 0.0019 - mae: 0.0277 - val_loss: 0.0042 - val_mae: 0.0415\n",
      "Epoch 434/500\n",
      "58/58 - 0s - loss: 0.0019 - mae: 0.0277 - val_loss: 0.0042 - val_mae: 0.0415\n",
      "Epoch 435/500\n",
      "58/58 - 0s - loss: 0.0019 - mae: 0.0277 - val_loss: 0.0042 - val_mae: 0.0415\n",
      "Epoch 436/500\n",
      "58/58 - 0s - loss: 0.0019 - mae: 0.0277 - val_loss: 0.0042 - val_mae: 0.0415\n",
      "Epoch 437/500\n",
      "58/58 - 0s - loss: 0.0019 - mae: 0.0276 - val_loss: 0.0042 - val_mae: 0.0415\n",
      "Epoch 438/500\n",
      "58/58 - 0s - loss: 0.0019 - mae: 0.0276 - val_loss: 0.0042 - val_mae: 0.0415\n",
      "Epoch 439/500\n",
      "58/58 - 0s - loss: 0.0019 - mae: 0.0276 - val_loss: 0.0042 - val_mae: 0.0415\n",
      "Epoch 440/500\n",
      "58/58 - 0s - loss: 0.0019 - mae: 0.0276 - val_loss: 0.0042 - val_mae: 0.0415\n",
      "Epoch 441/500\n",
      "58/58 - 0s - loss: 0.0019 - mae: 0.0276 - val_loss: 0.0042 - val_mae: 0.0415\n",
      "Epoch 442/500\n",
      "58/58 - 0s - loss: 0.0019 - mae: 0.0276 - val_loss: 0.0042 - val_mae: 0.0415\n",
      "Epoch 443/500\n",
      "58/58 - 0s - loss: 0.0019 - mae: 0.0276 - val_loss: 0.0042 - val_mae: 0.0415\n",
      "Epoch 444/500\n",
      "58/58 - 0s - loss: 0.0019 - mae: 0.0276 - val_loss: 0.0042 - val_mae: 0.0415\n",
      "Epoch 445/500\n",
      "58/58 - 0s - loss: 0.0019 - mae: 0.0276 - val_loss: 0.0042 - val_mae: 0.0415\n",
      "Epoch 446/500\n",
      "58/58 - 0s - loss: 0.0019 - mae: 0.0276 - val_loss: 0.0042 - val_mae: 0.0415\n",
      "Epoch 447/500\n",
      "58/58 - 0s - loss: 0.0019 - mae: 0.0275 - val_loss: 0.0042 - val_mae: 0.0415\n",
      "Epoch 448/500\n",
      "58/58 - 0s - loss: 0.0019 - mae: 0.0275 - val_loss: 0.0042 - val_mae: 0.0415\n",
      "Epoch 449/500\n",
      "58/58 - 0s - loss: 0.0019 - mae: 0.0275 - val_loss: 0.0042 - val_mae: 0.0415\n",
      "Epoch 450/500\n",
      "58/58 - 0s - loss: 0.0019 - mae: 0.0275 - val_loss: 0.0041 - val_mae: 0.0415\n",
      "Epoch 451/500\n",
      "58/58 - 0s - loss: 0.0019 - mae: 0.0275 - val_loss: 0.0041 - val_mae: 0.0415\n",
      "Epoch 452/500\n",
      "58/58 - 0s - loss: 0.0019 - mae: 0.0275 - val_loss: 0.0041 - val_mae: 0.0415\n",
      "Epoch 453/500\n",
      "58/58 - 0s - loss: 0.0019 - mae: 0.0275 - val_loss: 0.0041 - val_mae: 0.0415\n",
      "Epoch 454/500\n",
      "58/58 - 0s - loss: 0.0019 - mae: 0.0275 - val_loss: 0.0041 - val_mae: 0.0415\n"
     ]
    },
    {
     "name": "stdout",
     "output_type": "stream",
     "text": [
      "Epoch 455/500\n",
      "58/58 - 0s - loss: 0.0019 - mae: 0.0275 - val_loss: 0.0041 - val_mae: 0.0415\n",
      "Epoch 456/500\n",
      "58/58 - 0s - loss: 0.0019 - mae: 0.0275 - val_loss: 0.0041 - val_mae: 0.0415\n",
      "Epoch 457/500\n",
      "58/58 - 0s - loss: 0.0019 - mae: 0.0274 - val_loss: 0.0041 - val_mae: 0.0415\n",
      "Epoch 458/500\n",
      "58/58 - 0s - loss: 0.0019 - mae: 0.0274 - val_loss: 0.0041 - val_mae: 0.0415\n",
      "Epoch 459/500\n",
      "58/58 - 0s - loss: 0.0019 - mae: 0.0274 - val_loss: 0.0041 - val_mae: 0.0415\n",
      "Epoch 460/500\n",
      "58/58 - 0s - loss: 0.0019 - mae: 0.0274 - val_loss: 0.0041 - val_mae: 0.0415\n",
      "Epoch 461/500\n",
      "58/58 - 0s - loss: 0.0019 - mae: 0.0274 - val_loss: 0.0041 - val_mae: 0.0415\n",
      "Epoch 462/500\n",
      "58/58 - 0s - loss: 0.0019 - mae: 0.0274 - val_loss: 0.0041 - val_mae: 0.0415\n",
      "Epoch 463/500\n",
      "58/58 - 0s - loss: 0.0019 - mae: 0.0274 - val_loss: 0.0041 - val_mae: 0.0415\n",
      "Epoch 464/500\n",
      "58/58 - 0s - loss: 0.0019 - mae: 0.0274 - val_loss: 0.0041 - val_mae: 0.0415\n",
      "Epoch 465/500\n",
      "58/58 - 0s - loss: 0.0019 - mae: 0.0274 - val_loss: 0.0041 - val_mae: 0.0415\n",
      "Epoch 466/500\n",
      "58/58 - 0s - loss: 0.0019 - mae: 0.0274 - val_loss: 0.0041 - val_mae: 0.0415\n",
      "Epoch 467/500\n",
      "58/58 - 0s - loss: 0.0019 - mae: 0.0274 - val_loss: 0.0041 - val_mae: 0.0415\n",
      "Epoch 468/500\n",
      "58/58 - 0s - loss: 0.0019 - mae: 0.0273 - val_loss: 0.0041 - val_mae: 0.0415\n",
      "Epoch 469/500\n",
      "58/58 - 0s - loss: 0.0019 - mae: 0.0273 - val_loss: 0.0041 - val_mae: 0.0415\n",
      "Epoch 470/500\n",
      "58/58 - 0s - loss: 0.0019 - mae: 0.0273 - val_loss: 0.0041 - val_mae: 0.0415\n",
      "Epoch 471/500\n",
      "58/58 - 0s - loss: 0.0019 - mae: 0.0273 - val_loss: 0.0041 - val_mae: 0.0415\n",
      "Epoch 472/500\n",
      "58/58 - 0s - loss: 0.0019 - mae: 0.0273 - val_loss: 0.0041 - val_mae: 0.0415\n",
      "Epoch 473/500\n",
      "58/58 - 0s - loss: 0.0019 - mae: 0.0273 - val_loss: 0.0041 - val_mae: 0.0415\n",
      "Epoch 474/500\n",
      "58/58 - 0s - loss: 0.0019 - mae: 0.0273 - val_loss: 0.0041 - val_mae: 0.0415\n",
      "Epoch 475/500\n",
      "58/58 - 0s - loss: 0.0019 - mae: 0.0273 - val_loss: 0.0041 - val_mae: 0.0415\n",
      "Epoch 476/500\n",
      "58/58 - 0s - loss: 0.0019 - mae: 0.0273 - val_loss: 0.0041 - val_mae: 0.0415\n",
      "Epoch 477/500\n",
      "58/58 - 0s - loss: 0.0019 - mae: 0.0273 - val_loss: 0.0041 - val_mae: 0.0415\n",
      "Epoch 478/500\n",
      "58/58 - 0s - loss: 0.0019 - mae: 0.0273 - val_loss: 0.0041 - val_mae: 0.0415\n",
      "Epoch 479/500\n",
      "58/58 - 0s - loss: 0.0019 - mae: 0.0273 - val_loss: 0.0041 - val_mae: 0.0415\n",
      "Epoch 480/500\n",
      "58/58 - 0s - loss: 0.0019 - mae: 0.0273 - val_loss: 0.0041 - val_mae: 0.0415\n",
      "Epoch 481/500\n",
      "58/58 - 0s - loss: 0.0019 - mae: 0.0273 - val_loss: 0.0041 - val_mae: 0.0415\n",
      "Epoch 482/500\n",
      "58/58 - 0s - loss: 0.0019 - mae: 0.0272 - val_loss: 0.0041 - val_mae: 0.0415\n",
      "Epoch 483/500\n",
      "58/58 - 0s - loss: 0.0019 - mae: 0.0272 - val_loss: 0.0041 - val_mae: 0.0415\n",
      "Epoch 484/500\n",
      "58/58 - 0s - loss: 0.0019 - mae: 0.0272 - val_loss: 0.0041 - val_mae: 0.0415\n",
      "Epoch 485/500\n",
      "58/58 - 0s - loss: 0.0019 - mae: 0.0272 - val_loss: 0.0041 - val_mae: 0.0415\n",
      "Epoch 486/500\n",
      "58/58 - 0s - loss: 0.0019 - mae: 0.0272 - val_loss: 0.0041 - val_mae: 0.0415\n",
      "Epoch 487/500\n",
      "58/58 - 0s - loss: 0.0019 - mae: 0.0272 - val_loss: 0.0041 - val_mae: 0.0415\n",
      "Epoch 488/500\n",
      "58/58 - 0s - loss: 0.0019 - mae: 0.0272 - val_loss: 0.0041 - val_mae: 0.0415\n",
      "Epoch 489/500\n",
      "58/58 - 0s - loss: 0.0019 - mae: 0.0272 - val_loss: 0.0041 - val_mae: 0.0415\n",
      "Epoch 490/500\n",
      "58/58 - 0s - loss: 0.0019 - mae: 0.0272 - val_loss: 0.0041 - val_mae: 0.0415\n",
      "Epoch 491/500\n",
      "58/58 - 0s - loss: 0.0019 - mae: 0.0272 - val_loss: 0.0041 - val_mae: 0.0415\n",
      "Epoch 492/500\n",
      "58/58 - 0s - loss: 0.0019 - mae: 0.0272 - val_loss: 0.0041 - val_mae: 0.0415\n",
      "Epoch 493/500\n",
      "58/58 - 0s - loss: 0.0019 - mae: 0.0272 - val_loss: 0.0041 - val_mae: 0.0415\n",
      "Epoch 494/500\n",
      "58/58 - 0s - loss: 0.0019 - mae: 0.0272 - val_loss: 0.0041 - val_mae: 0.0415\n",
      "Epoch 495/500\n",
      "58/58 - 0s - loss: 0.0019 - mae: 0.0272 - val_loss: 0.0041 - val_mae: 0.0415\n",
      "Epoch 496/500\n",
      "58/58 - 0s - loss: 0.0019 - mae: 0.0272 - val_loss: 0.0041 - val_mae: 0.0415\n",
      "Epoch 497/500\n",
      "58/58 - 0s - loss: 0.0019 - mae: 0.0272 - val_loss: 0.0041 - val_mae: 0.0415\n",
      "Epoch 498/500\n",
      "58/58 - 0s - loss: 0.0019 - mae: 0.0272 - val_loss: 0.0041 - val_mae: 0.0415\n",
      "Epoch 499/500\n",
      "58/58 - 0s - loss: 0.0019 - mae: 0.0272 - val_loss: 0.0041 - val_mae: 0.0415\n",
      "Epoch 500/500\n",
      "58/58 - 0s - loss: 0.0019 - mae: 0.0272 - val_loss: 0.0041 - val_mae: 0.0415\n",
      "Wall time: 2min 59s\n"
     ]
    }
   ],
   "source": [
    "%%time\n",
    "history = model.fit(x_train, y_train, epochs=500, batch_size=128, validation_data=(x_val, y_val), verbose=2, shuffle=False)"
   ]
  },
  {
   "cell_type": "markdown",
   "metadata": {
    "id": "JpEmavvGwyJ9"
   },
   "source": [
    "## LSTM Evaluation"
   ]
  },
  {
   "cell_type": "markdown",
   "metadata": {},
   "source": [
    "The evaluation of the model is done using the test dataset."
   ]
  },
  {
   "cell_type": "code",
   "execution_count": 22,
   "metadata": {
    "colab": {
     "base_uri": "https://localhost:8080/"
    },
    "id": "ISD1CdNFmasu",
    "outputId": "8a556c8e-20d6-471a-c75f-3a9ca9b863b0",
    "scrolled": false
   },
   "outputs": [
    {
     "data": {
      "text/plain": [
       "<matplotlib.legend.Legend at 0x236fa3ec5f8>"
      ]
     },
     "execution_count": 22,
     "metadata": {},
     "output_type": "execute_result"
    },
    {
     "data": {
      "image/png": "[encoded data removed]",
      "text/plain": [
       "<Figure size 576x432 with 1 Axes>"
      ]
     },
     "metadata": {
      "needs_background": "light"
     },
     "output_type": "display_data"
    }
   ],
   "source": [
    "#plot history\n",
    "plt.figure(figsize=(8,6))\n",
    "plt.plot(history.history['loss'], label='Training')\n",
    "plt.plot(history.history['val_loss'], label='Validation')\n",
    "#plt.title('LSTM Model Loss')\n",
    "plt.xlabel('Epoch', fontsize=16)\n",
    "plt.ylabel('Loss', fontsize=16)\n",
    "plt.legend()\n",
    "#plt.savefig('../images/evaluation_lstm.png')"
   ]
  },
  {
   "cell_type": "markdown",
   "metadata": {},
   "source": [
    "The trend of the loss curve shows that the model converged reasonably quickly and both train and test performance remained equivalent. The performance and convergence behavior of the model suggest that mean squared error is a good match for a neural network learning this problem. The validation curve being above the the training curve might suggest that the model is overfitting but the very small difference between the losses means that the model does not have significant overfitting issues. Moreover, the training/validation plot implies that the model presents low bias and low variance which attests that the model has a right balance and is neither overfitting nor underfitting."
   ]
  },
  {
   "cell_type": "markdown",
   "metadata": {},
   "source": [
    "## LSTM Testing"
   ]
  },
  {
   "cell_type": "code",
   "execution_count": 23,
   "metadata": {
    "id": "pUqpSIEAK35C"
   },
   "outputs": [],
   "source": [
    "# make a prediction\n",
    "yhat = model.predict(x_test)\n",
    "x_test = x_test.reshape((x_test.shape[0], x_test.shape[2]))"
   ]
  },
  {
   "cell_type": "code",
   "execution_count": 24,
   "metadata": {
    "id": "BLfMzm2gK308"
   },
   "outputs": [],
   "source": [
    "# invert scaling for forecast\n",
    "inv_yhat = concatenate((yhat, x_test), axis=1)\n",
    "inv_yhat = scaler.inverse_transform(inv_yhat)\n",
    "inv_yhat = inv_yhat[:,5]"
   ]
  },
  {
   "cell_type": "code",
   "execution_count": 25,
   "metadata": {},
   "outputs": [],
   "source": [
    "# get initial values of y_test\n",
    "inv_y = df['Niamey']\n",
    "inv_y = inv_y[n_val_sum+1:].values"
   ]
  },
  {
   "cell_type": "code",
   "execution_count": 26,
   "metadata": {},
   "outputs": [
    {
     "name": "stdout",
     "output_type": "stream",
     "text": [
      "(7305, 6) (1826, 6) (1674, 6)\n"
     ]
    }
   ],
   "source": [
    "print(train.shape, val.shape, test.shape)"
   ]
  },
  {
   "cell_type": "markdown",
   "metadata": {},
   "source": [
    "The next step would be to evaluate our LSTM model over the test set of data. The figure below presents the observed discharge vs the predicted discharge."
   ]
  },
  {
   "cell_type": "code",
   "execution_count": 27,
   "metadata": {
    "scrolled": false
   },
   "outputs": [
    {
     "data": {
      "text/plain": [
       "<matplotlib.legend.Legend at 0x236fecaa978>"
      ]
     },
     "execution_count": 27,
     "metadata": {},
     "output_type": "execute_result"
    },
    {
     "data": {
      "image/png": "[encoded data removed]",
      "text/plain": [
       "<Figure size 576x432 with 1 Axes>"
      ]
     },
     "metadata": {
      "needs_background": "light"
     },
     "output_type": "display_data"
    }
   ],
   "source": [
    "#plot\n",
    "plt.figure(figsize=(8,6))\n",
    "plt.plot(inv_y, label='observations')\n",
    "plt.plot(inv_yhat, label='predictions')\n",
    "#plt.title('Predicted vs Observed')\n",
    "plt.xlabel('Days', fontsize=16)\n",
    "plt.ylabel('Discharge ($m^3/s$)', fontsize=16)\n",
    "plt.legend()\n",
    "#plt.savefig('../images/prediction_vs_observation.png')"
   ]
  },
  {
   "cell_type": "markdown",
   "metadata": {},
   "source": [
    "When presented with the LSTM model with a new set of data, we notice that the Guinean flood is well simulated while the red flood is not well simulated. The peaks of the red flood are underestimated by the deep learning model. This may be explained by the fact that maybe the right set of climate variables were not included in the model because the red flood originates from the climatic conditions within the Ansongo-Niamey basin."
   ]
  },
  {
   "cell_type": "code",
   "execution_count": 28,
   "metadata": {},
   "outputs": [],
   "source": [
    "# Find the slope and intercept of the best fit line\n",
    "slope, intercept = np.polyfit(inv_y, inv_yhat, 1)\n",
    "\n",
    "# Create a list of values in the best fit line\n",
    "abline_values = [slope * i + intercept for i in inv_y]"
   ]
  },
  {
   "cell_type": "code",
   "execution_count": 29,
   "metadata": {},
   "outputs": [],
   "source": [
    "df = pd.DataFrame({'y':inv_y, 'yhat':inv_yhat})"
   ]
  },
  {
   "cell_type": "code",
   "execution_count": 30,
   "metadata": {},
   "outputs": [],
   "source": [
    "df = df.reset_index()"
   ]
  },
  {
   "cell_type": "code",
   "execution_count": 31,
   "metadata": {},
   "outputs": [],
   "source": [
    "red_flood = df[55:120].append(df[410:495]).append(df[750:850]).append(df[1175:1215]).append(df[1500:1590])"
   ]
  },
  {
   "cell_type": "code",
   "execution_count": 32,
   "metadata": {
    "scrolled": true
   },
   "outputs": [
    {
     "data": {
      "text/plain": [
       "<matplotlib.legend.Legend at 0x236feda1a90>"
      ]
     },
     "execution_count": 32,
     "metadata": {},
     "output_type": "execute_result"
    },
    {
     "data": {
      "text/plain": [
       "<Figure size 576x432 with 0 Axes>"
      ]
     },
     "metadata": {},
     "output_type": "display_data"
    },
    {
     "data": {
      "image/png": "[encoded data removed]",
      "text/plain": [
       "<Figure size 432x288 with 1 Axes>"
      ]
     },
     "metadata": {
      "needs_background": "light"
     },
     "output_type": "display_data"
    }
   ],
   "source": [
    "#plot\n",
    "plt.figure(figsize=(8,6))\n",
    "fig, ax = plt.subplots()\n",
    "ax.scatter(inv_y,inv_yhat, color='tab:blue', label='Guinean flood')\n",
    "ax.scatter(red_flood['y'], red_flood['yhat'], color='orange', label='Red flood')\n",
    "plt.plot(inv_y, abline_values, 'red')\n",
    "plt.xlabel('Observations ($m^3/s$)', fontsize=16)\n",
    "plt.ylabel('Predictions ($m^3/s$)', fontsize=16)\n",
    "plt.text(0, 0, '                                y = {} x {}     $R^2$ = 0.897'.format(round(slope, 2), round(intercept, 2)))\n",
    "plt.legend()\n",
    "#plt.savefig('../images/prediction_vs_observation_flood.png')"
   ]
  },
  {
   "cell_type": "markdown",
   "metadata": {},
   "source": [
    "The Guinean flood is slightly overestimated while the red flood is considerably underestimated. The slope of the comparison between the observed values and the predicted ones is 0.94 and its intercept is -71.48."
   ]
  },
  {
   "cell_type": "code",
   "execution_count": 33,
   "metadata": {},
   "outputs": [
    {
     "name": "stdout",
     "output_type": "stream",
     "text": [
      "R2: 0.897\n"
     ]
    }
   ],
   "source": [
    "# Calculate coefficient of determination\n",
    "correlation_matrix = np.corrcoef(inv_y, inv_yhat)\n",
    "correlation_xy = correlation_matrix[0,1]\n",
    "R2 = correlation_xy**2\n",
    "print('R2: %.3f' % R2)"
   ]
  },
  {
   "cell_type": "code",
   "execution_count": 34,
   "metadata": {},
   "outputs": [
    {
     "name": "stdout",
     "output_type": "stream",
     "text": [
      "NSE: 0.852\n"
     ]
    }
   ],
   "source": [
    "# Calculate Nash-Sutcliffe model efficiency coefficient \n",
    "nse = 1 - ( sum((inv_y - inv_yhat) ** 2 ) / sum( (inv_y - mean(inv_y)) ** 2) ) \n",
    "print('NSE: %.3f' % nse)"
   ]
  },
  {
   "cell_type": "code",
   "execution_count": 35,
   "metadata": {
    "id": "UpDh39lWK3th"
   },
   "outputs": [
    {
     "name": "stdout",
     "output_type": "stream",
     "text": [
      "RMSE: 229.158\n"
     ]
    }
   ],
   "source": [
    "# calculate RMSE\n",
    "rmse = sqrt(1/len(inv_y)* sum((inv_y - inv_yhat) ** 2 ))\n",
    "print('RMSE: %.3f' % rmse)"
   ]
  },
  {
   "cell_type": "markdown",
   "metadata": {},
   "source": [
    "The R2, NSE and RMSE calculated were respectively 0.897, 0.852 and 229.158. This confirms the fact that the LSTM model is overall good at simulating discharge in general and particularly at the outlet of the Ansongo-Niamey basin."
   ]
  },
  {
   "cell_type": "code",
   "execution_count": null,
   "metadata": {},
   "outputs": [],
   "source": []
  },
  {
   "cell_type": "code",
   "execution_count": null,
   "metadata": {},
   "outputs": [],
   "source": []
  },
  {
   "cell_type": "code",
   "execution_count": null,
   "metadata": {},
   "outputs": [],
   "source": []
  }
 ],
 "metadata": {
  "colab": {
   "collapsed_sections": [],
   "name": "model_test3.ipynb",
   "provenance": []
  },
  "kernelspec": {
   "display_name": "Python 3",
   "language": "python",
   "name": "python3"
  },
  "language_info": {
   "codemirror_mode": {
    "name": "ipython",
    "version": 3
   },
   "file_extension": ".py",
   "mimetype": "text/x-python",
   "name": "python",
   "nbconvert_exporter": "python",
   "pygments_lexer": "ipython3",
   "version": "3.6.13"
  }
 },
 "nbformat": 4,
 "nbformat_minor": 1
}
